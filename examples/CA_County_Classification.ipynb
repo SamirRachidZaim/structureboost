{
 "cells": [
  {
   "cell_type": "markdown",
   "metadata": {},
   "source": [
    "## StructureBoost Quick Config\n",
    "### Predicting rain and temperature in California counties"
   ]
  },
  {
   "cell_type": "markdown",
   "metadata": {},
   "source": [
    "This is intended to show the quickest way to configure and run StructureBoost"
   ]
  },
  {
   "cell_type": "markdown",
   "metadata": {},
   "source": [
    "## Imports"
   ]
  },
  {
   "cell_type": "code",
   "execution_count": 1,
   "metadata": {},
   "outputs": [],
   "source": [
    "import numpy as np\n",
    "import pandas as pd\n",
    "import matplotlib.pyplot as plt\n",
    "%matplotlib inline\n",
    "\n",
    "from sklearn.metrics import log_loss, roc_auc_score\n",
    "from sklearn.model_selection import train_test_split\n",
    "import copy\n",
    "\n",
    "import structureboost as stb\n",
    "\n",
    "pd.set_option(\"display.max_rows\",999)\n",
    "pd.set_option(\"display.max_columns\",999)"
   ]
  },
  {
   "cell_type": "markdown",
   "metadata": {},
   "source": [
    "## Load and Process Data"
   ]
  },
  {
   "cell_type": "code",
   "execution_count": 2,
   "metadata": {},
   "outputs": [],
   "source": [
    "df_ca_PRCP = pd.read_csv('data/CA_County_PRCP.csv')"
   ]
  },
  {
   "cell_type": "code",
   "execution_count": 3,
   "metadata": {},
   "outputs": [
    {
     "data": {
      "text/html": [
       "<div>\n",
       "<style scoped>\n",
       "    .dataframe tbody tr th:only-of-type {\n",
       "        vertical-align: middle;\n",
       "    }\n",
       "\n",
       "    .dataframe tbody tr th {\n",
       "        vertical-align: top;\n",
       "    }\n",
       "\n",
       "    .dataframe thead th {\n",
       "        text-align: right;\n",
       "    }\n",
       "</style>\n",
       "<table border=\"1\" class=\"dataframe\">\n",
       "  <thead>\n",
       "    <tr style=\"text-align: right;\">\n",
       "      <th></th>\n",
       "      <th>county</th>\n",
       "      <th>month</th>\n",
       "      <th>DATE</th>\n",
       "      <th>STATION</th>\n",
       "      <th>PRCP</th>\n",
       "      <th>rained</th>\n",
       "      <th>county_DATE</th>\n",
       "    </tr>\n",
       "  </thead>\n",
       "  <tbody>\n",
       "    <tr>\n",
       "      <th>260157</th>\n",
       "      <td>San_Diego</td>\n",
       "      <td>2</td>\n",
       "      <td>2016-02-11</td>\n",
       "      <td>US1CASD0004</td>\n",
       "      <td>0.00</td>\n",
       "      <td>0</td>\n",
       "      <td>San_Diego___2016-02-11</td>\n",
       "    </tr>\n",
       "    <tr>\n",
       "      <th>397243</th>\n",
       "      <td>Ventura</td>\n",
       "      <td>4</td>\n",
       "      <td>2007-04-20</td>\n",
       "      <td>USC00046399</td>\n",
       "      <td>0.15</td>\n",
       "      <td>1</td>\n",
       "      <td>Ventura___2007-04-20</td>\n",
       "    </tr>\n",
       "    <tr>\n",
       "      <th>106486</th>\n",
       "      <td>Kings</td>\n",
       "      <td>3</td>\n",
       "      <td>2001-03-13</td>\n",
       "      <td>USW00023110</td>\n",
       "      <td>0.00</td>\n",
       "      <td>0</td>\n",
       "      <td>Kings___2001-03-13</td>\n",
       "    </tr>\n",
       "    <tr>\n",
       "      <th>298389</th>\n",
       "      <td>Santa_Clara</td>\n",
       "      <td>7</td>\n",
       "      <td>2006-07-06</td>\n",
       "      <td>USC00043417</td>\n",
       "      <td>0.00</td>\n",
       "      <td>0</td>\n",
       "      <td>Santa_Clara___2006-07-06</td>\n",
       "    </tr>\n",
       "    <tr>\n",
       "      <th>99494</th>\n",
       "      <td>Kern</td>\n",
       "      <td>1</td>\n",
       "      <td>2002-01-01</td>\n",
       "      <td>USC00041244</td>\n",
       "      <td>0.00</td>\n",
       "      <td>0</td>\n",
       "      <td>Kern___2002-01-01</td>\n",
       "    </tr>\n",
       "  </tbody>\n",
       "</table>\n",
       "</div>"
      ],
      "text/plain": [
       "             county  month        DATE      STATION  PRCP  rained  \\\n",
       "260157    San_Diego      2  2016-02-11  US1CASD0004  0.00       0   \n",
       "397243      Ventura      4  2007-04-20  USC00046399  0.15       1   \n",
       "106486        Kings      3  2001-03-13  USW00023110  0.00       0   \n",
       "298389  Santa_Clara      7  2006-07-06  USC00043417  0.00       0   \n",
       "99494          Kern      1  2002-01-01  USC00041244  0.00       0   \n",
       "\n",
       "                     county_DATE  \n",
       "260157    San_Diego___2016-02-11  \n",
       "397243      Ventura___2007-04-20  \n",
       "106486        Kings___2001-03-13  \n",
       "298389  Santa_Clara___2006-07-06  \n",
       "99494          Kern___2002-01-01  "
      ]
     },
     "execution_count": 3,
     "metadata": {},
     "output_type": "execute_result"
    }
   ],
   "source": [
    "df_ca_PRCP.sample(5)"
   ]
  },
  {
   "cell_type": "code",
   "execution_count": 4,
   "metadata": {},
   "outputs": [],
   "source": [
    "## We'll use just two features, county and month\n",
    "## Target is whether or not it rained\n",
    "X = df_ca_PRCP.loc[:,['county','month']]\n",
    "y = df_ca_PRCP.rained.values"
   ]
  },
  {
   "cell_type": "code",
   "execution_count": 5,
   "metadata": {},
   "outputs": [],
   "source": [
    "X_trva, X_test, y_trva, y_test = train_test_split(X,y, test_size = 70000)\n",
    "X_train_big, X_valid, y_train_big, y_valid = train_test_split(X_trva, y_trva, test_size = 10000)"
   ]
  },
  {
   "cell_type": "code",
   "execution_count": 6,
   "metadata": {},
   "outputs": [],
   "source": [
    "num_train_pts = 1000\n",
    "X_train = X_train_big.iloc[:num_train_pts,:]\n",
    "y_train = y_train_big[:num_train_pts]"
   ]
  },
  {
   "cell_type": "code",
   "execution_count": 7,
   "metadata": {},
   "outputs": [
    {
     "data": {
      "text/plain": [
       "{'default_categorical_method': 'span_tree',\n",
       " 'default_num_span_trees': 1,\n",
       " 'default_contraction_size': 9,\n",
       " 'default_contraction_max_splits_to_search': 25,\n",
       " 'default_numerical_max_splits_to_search': 25}"
      ]
     },
     "execution_count": 7,
     "metadata": {},
     "output_type": "execute_result"
    }
   ],
   "source": [
    "default_configs = stb.default_config_dict()\n",
    "default_configs"
   ]
  },
  {
   "cell_type": "code",
   "execution_count": 8,
   "metadata": {},
   "outputs": [
    {
     "data": {
      "text/plain": [
       "{'county': {'feature_type': 'categorical_str',\n",
       "  'graph': <graphs.graph_undirected at 0x10ea75860>,\n",
       "  'split_method': 'span_tree',\n",
       "  'num_span_trees': 1},\n",
       " 'month': {'feature_type': 'numerical', 'max_splits_to_search': 25}}"
      ]
     },
     "execution_count": 8,
     "metadata": {},
     "output_type": "execute_result"
    }
   ],
   "source": [
    "feature_configs_default = stb.get_basic_config(X_train, default_configs)\n",
    "feature_configs_default"
   ]
  },
  {
   "cell_type": "code",
   "execution_count": 9,
   "metadata": {},
   "outputs": [],
   "source": [
    "stboost_CA_def = stb.StructureBoost(num_trees = 2500,\n",
    "                                    learning_rate=.02,\n",
    "                                    feature_configs=feature_configs_default, \n",
    "                                    max_depth=2,\n",
    "                                    mode='classification')"
   ]
  },
  {
   "cell_type": "code",
   "execution_count": 10,
   "metadata": {
    "scrolled": true
   },
   "outputs": [
    {
     "name": "stdout",
     "output_type": "stream",
     "text": [
      "i=0, eval_set_log_loss = 0.2950068658367074\n",
      "i=20, eval_set_log_loss = 0.273869668591157\n",
      "i=40, eval_set_log_loss = 0.26352277525089984\n",
      "i=60, eval_set_log_loss = 0.2585443496552743\n",
      "i=80, eval_set_log_loss = 0.2551305891278421\n",
      "i=100, eval_set_log_loss = 0.2530101200913495\n",
      "i=120, eval_set_log_loss = 0.25203265136796865\n",
      "i=140, eval_set_log_loss = 0.2512958219084071\n",
      "i=160, eval_set_log_loss = 0.2498105951257714\n",
      "i=180, eval_set_log_loss = 0.2486438565654821\n",
      "i=200, eval_set_log_loss = 0.24936482648871333\n",
      "Stopping early: curr_loss of 0.24936482648871333\n",
      "                                        exceeds compare_loss of 0.2486438565654821\n"
     ]
    }
   ],
   "source": [
    "stboost_CA_def.fit(X_train, y_train, \n",
    "                   eval_set = ((X_valid, y_valid)), \n",
    "                   early_stop_past_steps=1, \n",
    "                   eval_freq=20)"
   ]
  },
  {
   "cell_type": "code",
   "execution_count": 11,
   "metadata": {},
   "outputs": [],
   "source": [
    "pred_probs = stboost_CA_def.predict(X_test)"
   ]
  },
  {
   "cell_type": "code",
   "execution_count": 12,
   "metadata": {},
   "outputs": [
    {
     "data": {
      "text/plain": [
       "0.41478261748957146"
      ]
     },
     "execution_count": 12,
     "metadata": {},
     "output_type": "execute_result"
    }
   ],
   "source": [
    "stb_default_loss = log_loss(y_test, pred_probs)\n",
    "stb_default_loss"
   ]
  },
  {
   "cell_type": "markdown",
   "metadata": {},
   "source": [
    "## Incorporate structure of \"County\" feature\n",
    "Right now, the county feature is using a *complete* graph, where every vertex is adjacent to every other vertex.  This represents the situation where there is essentially no structure in the different values.\n"
   ]
  },
  {
   "cell_type": "code",
   "execution_count": 13,
   "metadata": {},
   "outputs": [
    {
     "data": {
      "text/plain": [
       "(58, 1653, 1653.0)"
      ]
     },
     "execution_count": 13,
     "metadata": {},
     "output_type": "execute_result"
    }
   ],
   "source": [
    "# 1653 edges means that every vertex is adjacent to every other one\n",
    "default_graph = feature_configs_default['county']['graph']\n",
    "len(default_graph.vertices), len(default_graph.edges), 58*57/2"
   ]
  },
  {
   "cell_type": "code",
   "execution_count": 14,
   "metadata": {
    "scrolled": true
   },
   "outputs": [],
   "source": [
    "# If you look at the edges, you will see there is an edge for every pair of counties\n",
    "# whether they are adjacent or not\n",
    "default_graph.edges;"
   ]
  },
  {
   "cell_type": "markdown",
   "metadata": {},
   "source": [
    "Let's make a new config that uses the actual CA County adjacency graph. This graph is included in the package, so we don't have to build it from scratch"
   ]
  },
  {
   "cell_type": "code",
   "execution_count": 15,
   "metadata": {},
   "outputs": [
    {
     "data": {
      "text/plain": [
       "(58, 133)"
      ]
     },
     "execution_count": 15,
     "metadata": {},
     "output_type": "execute_result"
    }
   ],
   "source": [
    "county_graph = stb.graphs.CA_county_graph()\n",
    "len(county_graph.vertices), len(county_graph.edges)"
   ]
  },
  {
   "cell_type": "code",
   "execution_count": 16,
   "metadata": {
    "scrolled": true
   },
   "outputs": [],
   "source": [
    "# This graph only has edges between adjacent counties\n",
    "county_graph.edges;"
   ]
  },
  {
   "cell_type": "code",
   "execution_count": 17,
   "metadata": {},
   "outputs": [],
   "source": [
    "# Copy the default configuration, and replace \n",
    "# the complete graph (created by the 'get_default_config')\n",
    "# with the actual CA county graph\n",
    "feature_configs_1 = copy.deepcopy(feature_configs_default)\n",
    "feature_configs_1['county']['graph'] = county_graph"
   ]
  },
  {
   "cell_type": "code",
   "execution_count": 18,
   "metadata": {},
   "outputs": [
    {
     "data": {
      "text/plain": [
       "{'county': {'feature_type': 'categorical_str',\n",
       "  'graph': <graphs.graph_undirected at 0x13ee96630>,\n",
       "  'split_method': 'span_tree',\n",
       "  'num_span_trees': 1},\n",
       " 'month': {'feature_type': 'numerical', 'max_splits_to_search': 25}}"
      ]
     },
     "execution_count": 18,
     "metadata": {},
     "output_type": "execute_result"
    }
   ],
   "source": [
    "feature_configs_1"
   ]
  },
  {
   "cell_type": "markdown",
   "metadata": {},
   "source": [
    "### Run the model with the new config"
   ]
  },
  {
   "cell_type": "code",
   "execution_count": 19,
   "metadata": {},
   "outputs": [],
   "source": [
    "stboost_CA_1 = stb.StructureBoost(num_trees = 2500,\n",
    "                                  learning_rate=.02,\n",
    "                                  feature_configs=feature_configs_1, \n",
    "                                  max_depth=2,\n",
    "                                  mode='classification')"
   ]
  },
  {
   "cell_type": "code",
   "execution_count": 20,
   "metadata": {},
   "outputs": [
    {
     "name": "stdout",
     "output_type": "stream",
     "text": [
      "i=0, eval_set_log_loss = 0.2950068658367074\n",
      "i=20, eval_set_log_loss = 0.2726518808818964\n",
      "i=40, eval_set_log_loss = 0.26203654198882814\n",
      "i=60, eval_set_log_loss = 0.2567204706213276\n",
      "i=80, eval_set_log_loss = 0.25174241901218275\n",
      "i=100, eval_set_log_loss = 0.2498603534452938\n",
      "i=120, eval_set_log_loss = 0.24849547010548903\n",
      "i=140, eval_set_log_loss = 0.24771869922786433\n",
      "i=160, eval_set_log_loss = 0.24634152485548652\n",
      "i=180, eval_set_log_loss = 0.24440095976315515\n",
      "i=200, eval_set_log_loss = 0.2452928763886461\n",
      "Stopping early: curr_loss of 0.2452928763886461\n",
      "                                        exceeds compare_loss of 0.24440095976315515\n"
     ]
    }
   ],
   "source": [
    "stboost_CA_1.fit(X_train, y_train, \n",
    "                   eval_set = ((X_valid, y_valid)), \n",
    "                   early_stop_past_steps=1, \n",
    "                   eval_freq=20)"
   ]
  },
  {
   "cell_type": "code",
   "execution_count": 21,
   "metadata": {},
   "outputs": [],
   "source": [
    "pred_probs_1 = stboost_CA_1.predict(X_test)"
   ]
  },
  {
   "cell_type": "code",
   "execution_count": 22,
   "metadata": {},
   "outputs": [
    {
     "data": {
      "text/plain": [
       "0.4085955364220997"
      ]
     },
     "execution_count": 22,
     "metadata": {},
     "output_type": "execute_result"
    }
   ],
   "source": [
    "stb_1_loss = log_loss(y_test, pred_probs_1)\n",
    "stb_1_loss"
   ]
  },
  {
   "cell_type": "markdown",
   "metadata": {},
   "source": [
    "### Incorporating structure in the 'month' feature\n",
    "Previously we treated the month as a numerical variable.  However, doing so ignores\n",
    "the fact that December is \"adjacent\" to January in the same way that \"July\" is\n",
    "adjacent to \"August\".  To more accurately model the structure, we will represent the months\n",
    "by a \"cycle\" graph"
   ]
  },
  {
   "cell_type": "code",
   "execution_count": 23,
   "metadata": {},
   "outputs": [
    {
     "data": {
      "text/plain": [
       "({1, 2, 3, 4, 5, 6, 7, 8, 9, 10, 11, 12},\n",
       " {frozenset({3, 4}),\n",
       "  frozenset({2, 3}),\n",
       "  frozenset({11, 12}),\n",
       "  frozenset({9, 10}),\n",
       "  frozenset({1, 2}),\n",
       "  frozenset({4, 5}),\n",
       "  frozenset({6, 7}),\n",
       "  frozenset({8, 9}),\n",
       "  frozenset({7, 8}),\n",
       "  frozenset({1, 12}),\n",
       "  frozenset({5, 6}),\n",
       "  frozenset({10, 11})})"
      ]
     },
     "execution_count": 23,
     "metadata": {},
     "output_type": "execute_result"
    }
   ],
   "source": [
    "month_graph = stb.graphs.cycle_int_graph(1,12)\n",
    "month_graph.vertices, month_graph.edges"
   ]
  },
  {
   "cell_type": "code",
   "execution_count": 24,
   "metadata": {},
   "outputs": [
    {
     "data": {
      "text/plain": [
       "{'county': {'feature_type': 'categorical_str',\n",
       "  'graph': <graphs.graph_undirected at 0x13f707780>,\n",
       "  'split_method': 'span_tree',\n",
       "  'num_span_trees': 1},\n",
       " 'month': {'feature_type': 'categorical_int',\n",
       "  'max_splits_to_search': 25,\n",
       "  'graph': <graphs.graph_undirected at 0x13f6d8e48>}}"
      ]
     },
     "execution_count": 24,
     "metadata": {},
     "output_type": "execute_result"
    }
   ],
   "source": [
    "# Copy the previous config, and change the settings for month\n",
    "feature_configs_2 = copy.deepcopy(feature_configs_1)\n",
    "feature_configs_2['month']['feature_type'] = 'categorical_int'\n",
    "feature_configs_2['month']['graph'] = month_graph\n",
    "feature_configs_2"
   ]
  },
  {
   "cell_type": "code",
   "execution_count": 25,
   "metadata": {},
   "outputs": [
    {
     "data": {
      "text/plain": [
       "{'default_categorical_method': 'span_tree',\n",
       " 'default_num_span_trees': 1,\n",
       " 'default_contraction_size': 9,\n",
       " 'default_contraction_max_splits_to_search': 25,\n",
       " 'default_numerical_max_splits_to_search': 25}"
      ]
     },
     "execution_count": 25,
     "metadata": {},
     "output_type": "execute_result"
    }
   ],
   "source": [
    "default_configs"
   ]
  },
  {
   "cell_type": "code",
   "execution_count": 26,
   "metadata": {},
   "outputs": [
    {
     "data": {
      "text/plain": [
       "{'county': {'feature_type': 'categorical_str',\n",
       "  'graph': <graphs.graph_undirected at 0x13f707780>,\n",
       "  'split_method': 'span_tree',\n",
       "  'num_span_trees': 1},\n",
       " 'month': {'feature_type': 'categorical_int',\n",
       "  'max_splits_to_search': 25,\n",
       "  'graph': <graphs.graph_undirected at 0x13f6d8e48>,\n",
       "  'split_method': 'span_tree',\n",
       "  'num_span_trees': 1}}"
      ]
     },
     "execution_count": 26,
     "metadata": {},
     "output_type": "execute_result"
    }
   ],
   "source": [
    "feature_configs_2 = stb.apply_defaults(feature_configs_2, default_configs)\n",
    "feature_configs_2\n",
    "    "
   ]
  },
  {
   "cell_type": "code",
   "execution_count": 27,
   "metadata": {},
   "outputs": [],
   "source": [
    "stboost_CA_2 = stb.StructureBoost(num_trees = 2500,\n",
    "                                  learning_rate=.02,\n",
    "                                  feature_configs=feature_configs_2, \n",
    "                                  max_depth=2,\n",
    "                                  mode='classification',\n",
    "                                  loss_fn='entropy')"
   ]
  },
  {
   "cell_type": "code",
   "execution_count": 28,
   "metadata": {
    "scrolled": true
   },
   "outputs": [
    {
     "name": "stdout",
     "output_type": "stream",
     "text": [
      "i=0, eval_set_log_loss = 0.2950068658367074\n",
      "i=20, eval_set_log_loss = 0.27173331227289244\n",
      "i=40, eval_set_log_loss = 0.25946034559825787\n",
      "i=60, eval_set_log_loss = 0.2531984667569163\n",
      "i=80, eval_set_log_loss = 0.24854775379834618\n",
      "i=100, eval_set_log_loss = 0.24558035849497245\n",
      "i=120, eval_set_log_loss = 0.24455806150149828\n",
      "i=140, eval_set_log_loss = 0.2442784147599842\n",
      "i=160, eval_set_log_loss = 0.24292634070762797\n",
      "i=180, eval_set_log_loss = 0.24164818020222237\n",
      "i=200, eval_set_log_loss = 0.2424998660306479\n",
      "Stopping early: curr_loss of 0.2424998660306479\n",
      "                                        exceeds compare_loss of 0.24164818020222237\n"
     ]
    }
   ],
   "source": [
    "stboost_CA_2.fit(X_train, y_train, \n",
    "                   eval_set = ((X_valid, y_valid)), \n",
    "                   early_stop_past_steps=1, \n",
    "                   eval_freq=20)"
   ]
  },
  {
   "cell_type": "code",
   "execution_count": 29,
   "metadata": {},
   "outputs": [],
   "source": [
    "pred_probs_2 = stboost_CA_2.predict(X_test)"
   ]
  },
  {
   "cell_type": "code",
   "execution_count": 30,
   "metadata": {},
   "outputs": [
    {
     "data": {
      "text/plain": [
       "0.4057312252707137"
      ]
     },
     "execution_count": 30,
     "metadata": {},
     "output_type": "execute_result"
    }
   ],
   "source": [
    "stb_2_loss = log_loss(y_test, pred_probs_2)\n",
    "stb_2_loss"
   ]
  },
  {
   "cell_type": "code",
   "execution_count": null,
   "metadata": {},
   "outputs": [],
   "source": []
  },
  {
   "cell_type": "code",
   "execution_count": 31,
   "metadata": {},
   "outputs": [],
   "source": [
    "import catboost as cb"
   ]
  },
  {
   "cell_type": "code",
   "execution_count": 32,
   "metadata": {},
   "outputs": [],
   "source": [
    "cat_features = ['county']\n",
    "cb1 = cb.CatBoostClassifier(iterations=2500, early_stopping_rounds=20, max_depth=2,\n",
    "                             learning_rate=.02, cat_features=cat_features)"
   ]
  },
  {
   "cell_type": "code",
   "execution_count": 33,
   "metadata": {
    "scrolled": true
   },
   "outputs": [
    {
     "name": "stdout",
     "output_type": "stream",
     "text": [
      "0:\tlearn: 0.6827221\ttest: 0.6825414\tbest: 0.6825414 (0)\ttotal: 57.7ms\tremaining: 2m 24s\n",
      "25:\tlearn: 0.5222256\ttest: 0.5195576\tbest: 0.5195576 (25)\ttotal: 99.6ms\tremaining: 9.48s\n",
      "50:\tlearn: 0.4694625\ttest: 0.4649570\tbest: 0.4649570 (50)\ttotal: 137ms\tremaining: 6.6s\n",
      "75:\tlearn: 0.4504730\ttest: 0.4456358\tbest: 0.4456358 (75)\ttotal: 173ms\tremaining: 5.52s\n",
      "100:\tlearn: 0.4395716\ttest: 0.4344969\tbest: 0.4344969 (100)\ttotal: 206ms\tremaining: 4.9s\n",
      "125:\tlearn: 0.4333829\ttest: 0.4286156\tbest: 0.4286156 (125)\ttotal: 247ms\tremaining: 4.66s\n",
      "150:\tlearn: 0.4284970\ttest: 0.4244657\tbest: 0.4244657 (150)\ttotal: 293ms\tremaining: 4.55s\n",
      "175:\tlearn: 0.4241794\ttest: 0.4212565\tbest: 0.4212565 (175)\ttotal: 333ms\tremaining: 4.39s\n",
      "200:\tlearn: 0.4215343\ttest: 0.4196578\tbest: 0.4196578 (200)\ttotal: 377ms\tremaining: 4.31s\n",
      "225:\tlearn: 0.4198845\ttest: 0.4188936\tbest: 0.4188466 (219)\ttotal: 423ms\tremaining: 4.26s\n",
      "250:\tlearn: 0.4177629\ttest: 0.4179504\tbest: 0.4179504 (250)\ttotal: 459ms\tremaining: 4.12s\n",
      "275:\tlearn: 0.4158072\ttest: 0.4170331\tbest: 0.4170331 (275)\ttotal: 494ms\tremaining: 3.98s\n",
      "300:\tlearn: 0.4147285\ttest: 0.4168077\tbest: 0.4168077 (300)\ttotal: 525ms\tremaining: 3.83s\n",
      "325:\tlearn: 0.4136617\ttest: 0.4164902\tbest: 0.4164902 (325)\ttotal: 556ms\tremaining: 3.71s\n",
      "350:\tlearn: 0.4121939\ttest: 0.4162996\tbest: 0.4161894 (340)\ttotal: 587ms\tremaining: 3.59s\n",
      "Stopped by overfitting detector  (20 iterations wait)\n",
      "\n",
      "bestTest = 0.4161894245\n",
      "bestIteration = 340\n",
      "\n",
      "Shrink model to first 341 iterations.\n"
     ]
    },
    {
     "data": {
      "text/plain": [
       "<catboost.core.CatBoostClassifier at 0x142146a58>"
      ]
     },
     "execution_count": 33,
     "metadata": {},
     "output_type": "execute_result"
    }
   ],
   "source": [
    "cb1.fit(X_train, y_train, cat_features, eval_set=(X_valid, y_valid), verbose=25)"
   ]
  },
  {
   "cell_type": "code",
   "execution_count": 34,
   "metadata": {},
   "outputs": [],
   "source": [
    "pred_probs_cb1 = cb1.predict_proba(X_test)"
   ]
  },
  {
   "cell_type": "code",
   "execution_count": null,
   "metadata": {},
   "outputs": [],
   "source": []
  },
  {
   "cell_type": "code",
   "execution_count": 35,
   "metadata": {},
   "outputs": [
    {
     "data": {
      "text/plain": [
       "0.41509696026702203"
      ]
     },
     "execution_count": 35,
     "metadata": {},
     "output_type": "execute_result"
    }
   ],
   "source": [
    "cb1_loss = log_loss(y_test, pred_probs_cb1)\n",
    "cb1_loss"
   ]
  },
  {
   "cell_type": "code",
   "execution_count": null,
   "metadata": {},
   "outputs": [],
   "source": []
  },
  {
   "cell_type": "code",
   "execution_count": null,
   "metadata": {},
   "outputs": [],
   "source": []
  },
  {
   "cell_type": "code",
   "execution_count": 36,
   "metadata": {},
   "outputs": [],
   "source": [
    "cat_features = ['county', 'month']\n",
    "cb2 = cb.CatBoostClassifier(iterations=1500, early_stopping_rounds=20, max_depth=2,\n",
    "                             learning_rate=.02, cat_features=cat_features)"
   ]
  },
  {
   "cell_type": "code",
   "execution_count": 37,
   "metadata": {
    "scrolled": true
   },
   "outputs": [
    {
     "name": "stdout",
     "output_type": "stream",
     "text": [
      "0:\tlearn: 0.6814046\ttest: 0.6809097\tbest: 0.6809097 (0)\ttotal: 3.85ms\tremaining: 5.78s\n",
      "25:\tlearn: 0.5163533\ttest: 0.5075877\tbest: 0.5075877 (25)\ttotal: 50.1ms\tremaining: 2.84s\n",
      "50:\tlearn: 0.4669458\ttest: 0.4561073\tbest: 0.4561073 (50)\ttotal: 97.9ms\tremaining: 2.78s\n",
      "75:\tlearn: 0.4469424\ttest: 0.4344445\tbest: 0.4344445 (75)\ttotal: 135ms\tremaining: 2.53s\n",
      "100:\tlearn: 0.4397294\ttest: 0.4272769\tbest: 0.4272769 (100)\ttotal: 169ms\tremaining: 2.34s\n",
      "125:\tlearn: 0.4346002\ttest: 0.4220242\tbest: 0.4220242 (125)\ttotal: 202ms\tremaining: 2.21s\n",
      "150:\tlearn: 0.4313632\ttest: 0.4192101\tbest: 0.4192101 (150)\ttotal: 239ms\tremaining: 2.14s\n",
      "175:\tlearn: 0.4290511\ttest: 0.4185213\tbest: 0.4185213 (175)\ttotal: 280ms\tremaining: 2.11s\n",
      "200:\tlearn: 0.4271111\ttest: 0.4176377\tbest: 0.4176258 (199)\ttotal: 315ms\tremaining: 2.03s\n",
      "225:\tlearn: 0.4260005\ttest: 0.4172890\tbest: 0.4172366 (223)\ttotal: 349ms\tremaining: 1.97s\n",
      "250:\tlearn: 0.4249126\ttest: 0.4169510\tbest: 0.4169510 (250)\ttotal: 389ms\tremaining: 1.93s\n",
      "275:\tlearn: 0.4239020\ttest: 0.4168287\tbest: 0.4167732 (269)\ttotal: 427ms\tremaining: 1.89s\n",
      "Stopped by overfitting detector  (20 iterations wait)\n",
      "\n",
      "bestTest = 0.4167731845\n",
      "bestIteration = 269\n",
      "\n",
      "Shrink model to first 270 iterations.\n"
     ]
    },
    {
     "data": {
      "text/plain": [
       "<catboost.core.CatBoostClassifier at 0x142156e10>"
      ]
     },
     "execution_count": 37,
     "metadata": {},
     "output_type": "execute_result"
    }
   ],
   "source": [
    "cb2.fit(X_train, y_train, cat_features, eval_set=(X_valid, y_valid), verbose=25)"
   ]
  },
  {
   "cell_type": "code",
   "execution_count": 38,
   "metadata": {},
   "outputs": [],
   "source": [
    "pred_probs_cb2 = cb2.predict_proba(X_test)"
   ]
  },
  {
   "cell_type": "code",
   "execution_count": 39,
   "metadata": {},
   "outputs": [
    {
     "data": {
      "text/plain": [
       "0.41556872064906875"
      ]
     },
     "execution_count": 39,
     "metadata": {},
     "output_type": "execute_result"
    }
   ],
   "source": [
    "cb2_loss = log_loss(y_test, pred_probs_cb2)\n",
    "cb2_loss"
   ]
  },
  {
   "cell_type": "markdown",
   "metadata": {},
   "source": [
    "### Summary of results"
   ]
  },
  {
   "cell_type": "code",
   "execution_count": 40,
   "metadata": {},
   "outputs": [
    {
     "name": "stdout",
     "output_type": "stream",
     "text": [
      "StructureBoost (w no Structure):             loss = 0.41478\n",
      "StructureBoost w County Structure:           loss = 0.4086\n",
      "StructureBoost w County+Month Structure:     loss = 0.40573\n",
      "CatBoost:  (County categorical)              loss = 0.4151\n",
      "CatBoost:  (County, Month categorical)       loss = 0.41557\n"
     ]
    }
   ],
   "source": [
    "print('StructureBoost (w no Structure):             loss = {}'.format(np.round(stb_default_loss, 5)))\n",
    "print('StructureBoost w County Structure:           loss = {}'.format(np.round(stb_1_loss,5)))\n",
    "print('StructureBoost w County+Month Structure:     loss = {}'.format(np.round(stb_2_loss,5)))\n",
    "print('CatBoost:  (County categorical)              loss = {}'.format(np.round(cb1_loss,5)))\n",
    "print('CatBoost:  (County, Month categorical)       loss = {}'.format(np.round(cb2_loss,5)))"
   ]
  },
  {
   "cell_type": "code",
   "execution_count": null,
   "metadata": {},
   "outputs": [],
   "source": []
  },
  {
   "cell_type": "markdown",
   "metadata": {},
   "source": [
    "## Repeat multiple trials to show results aren't noise\n",
    "In case you think the above results are just noise, let's run multiple trials and compare."
   ]
  },
  {
   "cell_type": "code",
   "execution_count": 41,
   "metadata": {
    "scrolled": true
   },
   "outputs": [
    {
     "name": "stdout",
     "output_type": "stream",
     "text": [
      "i=0, eval_set_log_loss = 0.32913163088919645\n",
      "i=20, eval_set_log_loss = 0.30565889343150027\n",
      "i=40, eval_set_log_loss = 0.2973471834599709\n",
      "i=60, eval_set_log_loss = 0.29487934439256525\n",
      "i=80, eval_set_log_loss = 0.2920862718225693\n",
      "i=100, eval_set_log_loss = 0.28941300606022996\n",
      "i=120, eval_set_log_loss = 0.28820175092697253\n",
      "i=140, eval_set_log_loss = 0.28881783420227114\n",
      "Stopping early: curr_loss of 0.28881783420227114\n",
      "                                        exceeds compare_loss of 0.28820175092697253\n",
      "i=0, eval_set_log_loss = 0.32913163088919645\n",
      "i=20, eval_set_log_loss = 0.3038959520588518\n",
      "i=40, eval_set_log_loss = 0.2941514358886911\n",
      "i=60, eval_set_log_loss = 0.2904796261874991\n",
      "i=80, eval_set_log_loss = 0.28647153530181063\n",
      "i=100, eval_set_log_loss = 0.2837046401803958\n",
      "i=120, eval_set_log_loss = 0.2828454761060959\n",
      "i=140, eval_set_log_loss = 0.28337100279975597\n",
      "Stopping early: curr_loss of 0.28337100279975597\n",
      "                                        exceeds compare_loss of 0.2828454761060959\n",
      "i=0, eval_set_log_loss = 0.32913163088919645\n",
      "i=20, eval_set_log_loss = 0.30174494687795916\n",
      "i=40, eval_set_log_loss = 0.2912141647259257\n",
      "i=60, eval_set_log_loss = 0.28616679569406034\n",
      "i=80, eval_set_log_loss = 0.2817734700466538\n",
      "i=100, eval_set_log_loss = 0.27960730949462154\n",
      "i=120, eval_set_log_loss = 0.2783861121630299\n",
      "i=140, eval_set_log_loss = 0.27925877152915624\n",
      "Stopping early: curr_loss of 0.27925877152915624\n",
      "                                        exceeds compare_loss of 0.2783861121630299\n",
      "0:\tlearn: 0.6807343\ttest: 0.6814570\tbest: 0.6814570 (0)\ttotal: 1.8ms\tremaining: 4.5s\n",
      "25:\tlearn: 0.4859285\ttest: 0.5037415\tbest: 0.5037415 (25)\ttotal: 39.3ms\tremaining: 3.73s\n",
      "50:\tlearn: 0.4264926\ttest: 0.4537605\tbest: 0.4537605 (50)\ttotal: 78.2ms\tremaining: 3.75s\n",
      "75:\tlearn: 0.4018494\ttest: 0.4365783\tbest: 0.4365783 (75)\ttotal: 108ms\tremaining: 3.43s\n",
      "100:\tlearn: 0.3882659\ttest: 0.4295005\tbest: 0.4295005 (100)\ttotal: 136ms\tremaining: 3.24s\n",
      "125:\tlearn: 0.3803153\ttest: 0.4267256\tbest: 0.4266977 (124)\ttotal: 165ms\tremaining: 3.12s\n",
      "Stopped by overfitting detector  (20 iterations wait)\n",
      "\n",
      "bestTest = 0.4266977439\n",
      "bestIteration = 124\n",
      "\n",
      "Shrink model to first 125 iterations.\n",
      "0:\tlearn: 0.6785949\ttest: 0.6799009\tbest: 0.6799009 (0)\ttotal: 3.07ms\tremaining: 7.68s\n",
      "25:\tlearn: 0.4888483\ttest: 0.4989188\tbest: 0.4989188 (25)\ttotal: 35ms\tremaining: 3.33s\n",
      "50:\tlearn: 0.4268449\ttest: 0.4483936\tbest: 0.4483936 (50)\ttotal: 64.4ms\tremaining: 3.09s\n",
      "75:\tlearn: 0.4033152\ttest: 0.4323257\tbest: 0.4323257 (75)\ttotal: 98.3ms\tremaining: 3.14s\n",
      "100:\tlearn: 0.3924828\ttest: 0.4272790\tbest: 0.4272790 (100)\ttotal: 130ms\tremaining: 3.1s\n",
      "125:\tlearn: 0.3864282\ttest: 0.4259642\tbest: 0.4259642 (125)\ttotal: 159ms\tremaining: 3s\n",
      "150:\tlearn: 0.3824639\ttest: 0.4259216\tbest: 0.4257447 (141)\ttotal: 188ms\tremaining: 2.93s\n",
      "Stopped by overfitting detector  (20 iterations wait)\n",
      "\n",
      "bestTest = 0.4257447185\n",
      "bestIteration = 141\n",
      "\n",
      "Shrink model to first 142 iterations.\n",
      "i=0, eval_set_log_loss = 0.3328157961615375\n",
      "i=20, eval_set_log_loss = 0.3172142357395505\n",
      "i=40, eval_set_log_loss = 0.3067208264262975\n",
      "i=60, eval_set_log_loss = 0.3034635666299007\n",
      "i=80, eval_set_log_loss = 0.299119563343863\n",
      "i=100, eval_set_log_loss = 0.2971684412281584\n",
      "i=120, eval_set_log_loss = 0.2959477065106635\n",
      "i=140, eval_set_log_loss = 0.29541004003757004\n",
      "i=160, eval_set_log_loss = 0.2955356996129642\n",
      "Stopping early: curr_loss of 0.2955356996129642\n",
      "                                        exceeds compare_loss of 0.29541004003757004\n",
      "i=0, eval_set_log_loss = 0.3328157961615375\n",
      "i=20, eval_set_log_loss = 0.3157119116854874\n",
      "i=40, eval_set_log_loss = 0.30361181894461625\n",
      "i=60, eval_set_log_loss = 0.2977165392486026\n",
      "i=80, eval_set_log_loss = 0.292127635738652\n",
      "i=100, eval_set_log_loss = 0.2890273861945406\n",
      "i=120, eval_set_log_loss = 0.287303662094611\n",
      "i=140, eval_set_log_loss = 0.2863752848501513\n",
      "i=160, eval_set_log_loss = 0.2865114420876274\n",
      "Stopping early: curr_loss of 0.2865114420876274\n",
      "                                        exceeds compare_loss of 0.2863752848501513\n",
      "i=0, eval_set_log_loss = 0.3328157961615375\n",
      "i=20, eval_set_log_loss = 0.3144834051698788\n",
      "i=40, eval_set_log_loss = 0.30138084411924276\n",
      "i=60, eval_set_log_loss = 0.29510376285427053\n",
      "i=80, eval_set_log_loss = 0.2886234321443325\n",
      "i=100, eval_set_log_loss = 0.2859795105027845\n",
      "i=120, eval_set_log_loss = 0.2840374604700295\n",
      "i=140, eval_set_log_loss = 0.28313589325452465\n",
      "i=160, eval_set_log_loss = 0.28342649310799284\n",
      "Stopping early: curr_loss of 0.28342649310799284\n",
      "                                        exceeds compare_loss of 0.28313589325452465\n",
      "0:\tlearn: 0.6801880\ttest: 0.6809087\tbest: 0.6809087 (0)\ttotal: 2.37ms\tremaining: 5.91s\n",
      "25:\tlearn: 0.4902938\ttest: 0.5042408\tbest: 0.5042408 (25)\ttotal: 38.8ms\tremaining: 3.69s\n",
      "50:\tlearn: 0.4328147\ttest: 0.4564713\tbest: 0.4564713 (50)\ttotal: 82.3ms\tremaining: 3.95s\n",
      "75:\tlearn: 0.4114803\ttest: 0.4414085\tbest: 0.4414085 (75)\ttotal: 115ms\tremaining: 3.66s\n",
      "100:\tlearn: 0.4016346\ttest: 0.4362878\tbest: 0.4362782 (99)\ttotal: 153ms\tremaining: 3.62s\n",
      "125:\tlearn: 0.3955293\ttest: 0.4339323\tbest: 0.4339323 (125)\ttotal: 184ms\tremaining: 3.46s\n",
      "150:\tlearn: 0.3920526\ttest: 0.4327742\tbest: 0.4327742 (150)\ttotal: 216ms\tremaining: 3.35s\n",
      "175:\tlearn: 0.3889582\ttest: 0.4312221\tbest: 0.4310950 (170)\ttotal: 247ms\tremaining: 3.26s\n",
      "200:\tlearn: 0.3861677\ttest: 0.4297832\tbest: 0.4297832 (200)\ttotal: 285ms\tremaining: 3.26s\n",
      "225:\tlearn: 0.3848153\ttest: 0.4293697\tbest: 0.4293660 (224)\ttotal: 316ms\tremaining: 3.18s\n",
      "250:\tlearn: 0.3826817\ttest: 0.4283996\tbest: 0.4283690 (248)\ttotal: 346ms\tremaining: 3.1s\n",
      "275:\tlearn: 0.3809107\ttest: 0.4277249\tbest: 0.4277249 (275)\ttotal: 376ms\tremaining: 3.03s\n",
      "300:\tlearn: 0.3789145\ttest: 0.4269124\tbest: 0.4268830 (299)\ttotal: 405ms\tremaining: 2.96s\n",
      "325:\tlearn: 0.3767234\ttest: 0.4261698\tbest: 0.4261698 (325)\ttotal: 450ms\tremaining: 3s\n",
      "350:\tlearn: 0.3752918\ttest: 0.4256919\tbest: 0.4256919 (350)\ttotal: 490ms\tremaining: 3s\n",
      "375:\tlearn: 0.3739873\ttest: 0.4257733\tbest: 0.4255594 (362)\ttotal: 531ms\tremaining: 3s\n",
      "Stopped by overfitting detector  (20 iterations wait)\n",
      "\n",
      "bestTest = 0.4255593756\n",
      "bestIteration = 362\n",
      "\n",
      "Shrink model to first 363 iterations.\n",
      "0:\tlearn: 0.6800058\ttest: 0.6797976\tbest: 0.6797976 (0)\ttotal: 2.93ms\tremaining: 7.31s\n",
      "25:\tlearn: 0.4959137\ttest: 0.5036327\tbest: 0.5036327 (25)\ttotal: 48.7ms\tremaining: 4.63s\n",
      "50:\tlearn: 0.4323957\ttest: 0.4463230\tbest: 0.4463230 (50)\ttotal: 93.2ms\tremaining: 4.47s\n",
      "75:\tlearn: 0.4105177\ttest: 0.4312067\tbest: 0.4312067 (75)\ttotal: 135ms\tremaining: 4.3s\n",
      "100:\tlearn: 0.4018184\ttest: 0.4278137\tbest: 0.4276377 (97)\ttotal: 173ms\tremaining: 4.1s\n",
      "125:\tlearn: 0.3965296\ttest: 0.4268252\tbest: 0.4267618 (124)\ttotal: 211ms\tremaining: 3.98s\n",
      "Stopped by overfitting detector  (20 iterations wait)\n",
      "\n",
      "bestTest = 0.4267618375\n",
      "bestIteration = 124\n",
      "\n",
      "Shrink model to first 125 iterations.\n",
      "i=0, eval_set_log_loss = 0.3123060062936023\n",
      "i=20, eval_set_log_loss = 0.29023275154450673\n",
      "i=40, eval_set_log_loss = 0.2797563868233069\n",
      "i=60, eval_set_log_loss = 0.2745405557858932\n",
      "i=80, eval_set_log_loss = 0.2716787423185713\n",
      "i=100, eval_set_log_loss = 0.2694287328790783\n",
      "i=120, eval_set_log_loss = 0.2698212478415094\n",
      "Stopping early: curr_loss of 0.2698212478415094\n",
      "                                        exceeds compare_loss of 0.2694287328790783\n",
      "i=0, eval_set_log_loss = 0.3123060062936023\n",
      "i=20, eval_set_log_loss = 0.2898532954086306\n",
      "i=40, eval_set_log_loss = 0.2804838996212366\n",
      "i=60, eval_set_log_loss = 0.275109761881193\n",
      "i=80, eval_set_log_loss = 0.27092953916963397\n",
      "i=100, eval_set_log_loss = 0.2682751121303906\n",
      "i=120, eval_set_log_loss = 0.26766002270573563\n",
      "i=140, eval_set_log_loss = 0.26497877170244777\n",
      "i=160, eval_set_log_loss = 0.26283196406614695\n",
      "i=180, eval_set_log_loss = 0.26190605148419144\n",
      "i=200, eval_set_log_loss = 0.2628746589473414\n",
      "Stopping early: curr_loss of 0.2628746589473414\n",
      "                                        exceeds compare_loss of 0.26190605148419144\n",
      "i=0, eval_set_log_loss = 0.3123060062936023\n",
      "i=20, eval_set_log_loss = 0.28677084083089527\n",
      "i=40, eval_set_log_loss = 0.2756162647991508\n",
      "i=60, eval_set_log_loss = 0.2696695372239957\n",
      "i=80, eval_set_log_loss = 0.26515433590620285\n",
      "i=100, eval_set_log_loss = 0.26278464105723454\n",
      "i=120, eval_set_log_loss = 0.26277823640586284\n",
      "i=140, eval_set_log_loss = 0.2605943415684047\n",
      "i=160, eval_set_log_loss = 0.2590443474023438\n",
      "i=180, eval_set_log_loss = 0.2589784281686144\n",
      "i=200, eval_set_log_loss = 0.25955141976524276\n",
      "Stopping early: curr_loss of 0.25955141976524276\n",
      "                                        exceeds compare_loss of 0.2589784281686144\n",
      "0:\tlearn: 0.6804184\ttest: 0.6810503\tbest: 0.6810503 (0)\ttotal: 1.72ms\tremaining: 4.29s\n",
      "25:\tlearn: 0.4910276\ttest: 0.4997623\tbest: 0.4997623 (25)\ttotal: 36.6ms\tremaining: 3.48s\n",
      "50:\tlearn: 0.4402705\ttest: 0.4522024\tbest: 0.4522024 (50)\ttotal: 75.5ms\tremaining: 3.63s\n",
      "75:\tlearn: 0.4188100\ttest: 0.4332376\tbest: 0.4332376 (75)\ttotal: 110ms\tremaining: 3.49s\n",
      "100:\tlearn: 0.4070696\ttest: 0.4241342\tbest: 0.4241342 (100)\ttotal: 140ms\tremaining: 3.32s\n",
      "125:\tlearn: 0.4004851\ttest: 0.4194931\tbest: 0.4194931 (125)\ttotal: 169ms\tremaining: 3.19s\n",
      "150:\tlearn: 0.3955054\ttest: 0.4158448\tbest: 0.4158448 (150)\ttotal: 200ms\tremaining: 3.1s\n",
      "175:\tlearn: 0.3931823\ttest: 0.4142988\tbest: 0.4142988 (175)\ttotal: 229ms\tremaining: 3.02s\n",
      "200:\tlearn: 0.3907161\ttest: 0.4131877\tbest: 0.4131877 (200)\ttotal: 259ms\tremaining: 2.96s\n",
      "225:\tlearn: 0.3892261\ttest: 0.4122277\tbest: 0.4122277 (225)\ttotal: 293ms\tremaining: 2.95s\n",
      "250:\tlearn: 0.3874589\ttest: 0.4113704\tbest: 0.4113704 (250)\ttotal: 322ms\tremaining: 2.89s\n",
      "275:\tlearn: 0.3856593\ttest: 0.4102197\tbest: 0.4102197 (275)\ttotal: 350ms\tremaining: 2.82s\n",
      "300:\tlearn: 0.3843931\ttest: 0.4096233\tbest: 0.4096233 (300)\ttotal: 377ms\tremaining: 2.76s\n",
      "325:\tlearn: 0.3831140\ttest: 0.4089849\tbest: 0.4089849 (325)\ttotal: 407ms\tremaining: 2.71s\n",
      "350:\tlearn: 0.3820830\ttest: 0.4085703\tbest: 0.4085703 (350)\ttotal: 435ms\tremaining: 2.66s\n",
      "375:\tlearn: 0.3808121\ttest: 0.4079555\tbest: 0.4079555 (375)\ttotal: 473ms\tremaining: 2.67s\n",
      "400:\tlearn: 0.3796168\ttest: 0.4075346\tbest: 0.4075346 (400)\ttotal: 505ms\tremaining: 2.65s\n",
      "425:\tlearn: 0.3787333\ttest: 0.4073153\tbest: 0.4073153 (425)\ttotal: 535ms\tremaining: 2.61s\n",
      "450:\tlearn: 0.3775387\ttest: 0.4072971\tbest: 0.4072299 (444)\ttotal: 566ms\tremaining: 2.57s\n",
      "Stopped by overfitting detector  (20 iterations wait)\n",
      "\n",
      "bestTest = 0.4072299268\n",
      "bestIteration = 444\n",
      "\n",
      "Shrink model to first 445 iterations.\n",
      "0:\tlearn: 0.6796318\ttest: 0.6775839\tbest: 0.6775839 (0)\ttotal: 1.98ms\tremaining: 4.96s\n",
      "25:\tlearn: 0.4947397\ttest: 0.4978906\tbest: 0.4978906 (25)\ttotal: 34.9ms\tremaining: 3.32s\n",
      "50:\tlearn: 0.4349098\ttest: 0.4430599\tbest: 0.4430599 (50)\ttotal: 64.6ms\tremaining: 3.1s\n",
      "75:\tlearn: 0.4149957\ttest: 0.4260273\tbest: 0.4260273 (75)\ttotal: 104ms\tremaining: 3.31s\n",
      "100:\tlearn: 0.4053843\ttest: 0.4177412\tbest: 0.4177412 (100)\ttotal: 133ms\tremaining: 3.17s\n",
      "125:\tlearn: 0.4006175\ttest: 0.4137487\tbest: 0.4137487 (125)\ttotal: 162ms\tremaining: 3.05s\n",
      "150:\tlearn: 0.3979812\ttest: 0.4121252\tbest: 0.4121252 (150)\ttotal: 191ms\tremaining: 2.97s\n",
      "175:\tlearn: 0.3962197\ttest: 0.4115906\tbest: 0.4115760 (173)\ttotal: 222ms\tremaining: 2.93s\n",
      "200:\tlearn: 0.3946444\ttest: 0.4107402\tbest: 0.4107402 (200)\ttotal: 251ms\tremaining: 2.88s\n",
      "225:\tlearn: 0.3933497\ttest: 0.4101403\tbest: 0.4101403 (225)\ttotal: 281ms\tremaining: 2.82s\n",
      "250:\tlearn: 0.3925759\ttest: 0.4100362\tbest: 0.4100292 (248)\ttotal: 311ms\tremaining: 2.78s\n",
      "275:\tlearn: 0.3917601\ttest: 0.4097885\tbest: 0.4097692 (269)\ttotal: 346ms\tremaining: 2.78s\n",
      "300:\tlearn: 0.3910243\ttest: 0.4097241\tbest: 0.4097159 (298)\ttotal: 376ms\tremaining: 2.75s\n",
      "325:\tlearn: 0.3899957\ttest: 0.4093896\tbest: 0.4093896 (325)\ttotal: 412ms\tremaining: 2.75s\n",
      "350:\tlearn: 0.3891942\ttest: 0.4093325\tbest: 0.4093057 (336)\ttotal: 442ms\tremaining: 2.71s\n",
      "Stopped by overfitting detector  (20 iterations wait)\n",
      "\n",
      "bestTest = 0.4093056515\n",
      "bestIteration = 336\n",
      "\n",
      "Shrink model to first 337 iterations.\n",
      "i=0, eval_set_log_loss = 0.31209424022450766\n",
      "i=20, eval_set_log_loss = 0.2963618052122516\n",
      "i=40, eval_set_log_loss = 0.28793026028502033\n",
      "i=60, eval_set_log_loss = 0.2842014681840792\n",
      "i=80, eval_set_log_loss = 0.281114949930999\n",
      "i=100, eval_set_log_loss = 0.28074825169645995\n",
      "i=120, eval_set_log_loss = 0.2800304856451982\n",
      "i=140, eval_set_log_loss = 0.27994060039077995\n",
      "i=160, eval_set_log_loss = 0.2782505770724193\n",
      "i=180, eval_set_log_loss = 0.27832620010084463\n",
      "Stopping early: curr_loss of 0.27832620010084463\n",
      "                                        exceeds compare_loss of 0.2782505770724193\n",
      "i=0, eval_set_log_loss = 0.31209424022450766\n",
      "i=20, eval_set_log_loss = 0.29365947459562125\n",
      "i=40, eval_set_log_loss = 0.2837120643576188\n",
      "i=60, eval_set_log_loss = 0.27748757406169317\n",
      "i=80, eval_set_log_loss = 0.27388732090694856\n",
      "i=100, eval_set_log_loss = 0.2732479959821787\n",
      "i=120, eval_set_log_loss = 0.2724697819701109\n",
      "i=140, eval_set_log_loss = 0.2724082463656172\n",
      "i=160, eval_set_log_loss = 0.2708396309373007\n",
      "i=180, eval_set_log_loss = 0.2709657889499739\n",
      "Stopping early: curr_loss of 0.2709657889499739\n",
      "                                        exceeds compare_loss of 0.2708396309373007\n",
      "i=0, eval_set_log_loss = 0.31209424022450766\n",
      "i=20, eval_set_log_loss = 0.2919688324184954\n",
      "i=40, eval_set_log_loss = 0.28080363363045585\n",
      "i=60, eval_set_log_loss = 0.2736656750117097\n",
      "i=80, eval_set_log_loss = 0.27076184156747113\n",
      "i=100, eval_set_log_loss = 0.2701794082051876\n",
      "i=120, eval_set_log_loss = 0.2694308808556243\n",
      "i=140, eval_set_log_loss = 0.26977029706134886\n",
      "Stopping early: curr_loss of 0.26977029706134886\n",
      "                                        exceeds compare_loss of 0.2694308808556243\n",
      "0:\tlearn: 0.6794319\ttest: 0.6794170\tbest: 0.6794170 (0)\ttotal: 1.6ms\tremaining: 3.99s\n",
      "25:\tlearn: 0.5007172\ttest: 0.5046407\tbest: 0.5046407 (25)\ttotal: 35.1ms\tremaining: 3.34s\n",
      "50:\tlearn: 0.4466370\ttest: 0.4549936\tbest: 0.4549936 (50)\ttotal: 76.8ms\tremaining: 3.69s\n",
      "75:\tlearn: 0.4278868\ttest: 0.4399138\tbest: 0.4399138 (75)\ttotal: 106ms\tremaining: 3.38s\n",
      "100:\tlearn: 0.4197920\ttest: 0.4337689\tbest: 0.4337689 (100)\ttotal: 139ms\tremaining: 3.29s\n",
      "125:\tlearn: 0.4140835\ttest: 0.4305489\tbest: 0.4305489 (125)\ttotal: 175ms\tremaining: 3.29s\n",
      "150:\tlearn: 0.4100004\ttest: 0.4286345\tbest: 0.4286345 (150)\ttotal: 211ms\tremaining: 3.27s\n",
      "175:\tlearn: 0.4078286\ttest: 0.4269742\tbest: 0.4269742 (175)\ttotal: 244ms\tremaining: 3.22s\n",
      "200:\tlearn: 0.4056362\ttest: 0.4258183\tbest: 0.4258183 (200)\ttotal: 274ms\tremaining: 3.13s\n",
      "225:\tlearn: 0.4036839\ttest: 0.4253010\tbest: 0.4253010 (225)\ttotal: 305ms\tremaining: 3.07s\n",
      "250:\tlearn: 0.4015704\ttest: 0.4243901\tbest: 0.4242259 (247)\ttotal: 336ms\tremaining: 3.01s\n",
      "275:\tlearn: 0.3998244\ttest: 0.4232590\tbest: 0.4231690 (272)\ttotal: 366ms\tremaining: 2.95s\n",
      "300:\tlearn: 0.3984508\ttest: 0.4227873\tbest: 0.4226247 (292)\ttotal: 398ms\tremaining: 2.91s\n",
      "325:\tlearn: 0.3972388\ttest: 0.4222730\tbest: 0.4222730 (325)\ttotal: 430ms\tremaining: 2.87s\n",
      "350:\tlearn: 0.3959113\ttest: 0.4221180\tbest: 0.4220463 (349)\ttotal: 459ms\tremaining: 2.81s\n",
      "375:\tlearn: 0.3946311\ttest: 0.4216485\tbest: 0.4215984 (366)\ttotal: 490ms\tremaining: 2.77s\n",
      "Stopped by overfitting detector  (20 iterations wait)\n",
      "\n",
      "bestTest = 0.4215983716\n",
      "bestIteration = 366\n",
      "\n",
      "Shrink model to first 367 iterations.\n",
      "0:\tlearn: 0.6805053\ttest: 0.6809949\tbest: 0.6809949 (0)\ttotal: 2.25ms\tremaining: 5.62s\n",
      "25:\tlearn: 0.5057813\ttest: 0.5080394\tbest: 0.5080394 (25)\ttotal: 44ms\tremaining: 4.18s\n",
      "50:\tlearn: 0.4506975\ttest: 0.4561462\tbest: 0.4561462 (50)\ttotal: 74.5ms\tremaining: 3.58s\n",
      "75:\tlearn: 0.4304496\ttest: 0.4375279\tbest: 0.4375279 (75)\ttotal: 105ms\tremaining: 3.35s\n",
      "100:\tlearn: 0.4210580\ttest: 0.4295519\tbest: 0.4295519 (100)\ttotal: 142ms\tremaining: 3.38s\n",
      "125:\tlearn: 0.4161223\ttest: 0.4255341\tbest: 0.4255341 (125)\ttotal: 172ms\tremaining: 3.24s\n",
      "150:\tlearn: 0.4132849\ttest: 0.4233640\tbest: 0.4233640 (150)\ttotal: 202ms\tremaining: 3.14s\n",
      "175:\tlearn: 0.4107981\ttest: 0.4222082\tbest: 0.4221970 (173)\ttotal: 231ms\tremaining: 3.05s\n",
      "200:\tlearn: 0.4088135\ttest: 0.4213438\tbest: 0.4213438 (200)\ttotal: 261ms\tremaining: 2.99s\n",
      "225:\tlearn: 0.4077394\ttest: 0.4212586\tbest: 0.4212491 (224)\ttotal: 291ms\tremaining: 2.93s\n",
      "250:\tlearn: 0.4064400\ttest: 0.4208198\tbest: 0.4207627 (246)\ttotal: 320ms\tremaining: 2.87s\n",
      "Stopped by overfitting detector  (20 iterations wait)\n",
      "\n",
      "bestTest = 0.4207626554\n",
      "bestIteration = 246\n",
      "\n",
      "Shrink model to first 247 iterations.\n",
      "i=0, eval_set_log_loss = 0.3090918052758415\n",
      "i=20, eval_set_log_loss = 0.2933049969245118\n",
      "i=40, eval_set_log_loss = 0.2851877897200878\n",
      "i=60, eval_set_log_loss = 0.2821919006357228\n",
      "i=80, eval_set_log_loss = 0.27991355792332107\n",
      "i=100, eval_set_log_loss = 0.2795737153563848\n",
      "i=120, eval_set_log_loss = 0.2755450357622181\n",
      "i=140, eval_set_log_loss = 0.27434153516786114\n",
      "i=160, eval_set_log_loss = 0.27323146224789197\n",
      "i=180, eval_set_log_loss = 0.27369977590599803\n",
      "Stopping early: curr_loss of 0.27369977590599803\n",
      "                                        exceeds compare_loss of 0.27323146224789197\n",
      "i=0, eval_set_log_loss = 0.3090918052758415\n",
      "i=20, eval_set_log_loss = 0.2916311715111338\n",
      "i=40, eval_set_log_loss = 0.28168764726583384\n",
      "i=60, eval_set_log_loss = 0.27827755550560423\n",
      "i=80, eval_set_log_loss = 0.27476984800006865\n",
      "i=100, eval_set_log_loss = 0.27271721324935894\n",
      "i=120, eval_set_log_loss = 0.26746955072281564\n",
      "i=140, eval_set_log_loss = 0.26633551502173103\n",
      "i=160, eval_set_log_loss = 0.2659258593863987\n",
      "i=180, eval_set_log_loss = 0.26718134873103616\n",
      "Stopping early: curr_loss of 0.26718134873103616\n",
      "                                        exceeds compare_loss of 0.2659258593863987\n",
      "i=0, eval_set_log_loss = 0.3090918052758415\n",
      "i=20, eval_set_log_loss = 0.2889924374057013\n",
      "i=40, eval_set_log_loss = 0.2768416020472893\n",
      "i=60, eval_set_log_loss = 0.27205428380131313\n",
      "i=80, eval_set_log_loss = 0.26879163199491657\n",
      "i=100, eval_set_log_loss = 0.26754602604539657\n",
      "i=120, eval_set_log_loss = 0.26271474476792056\n",
      "i=140, eval_set_log_loss = 0.26209160715530844\n",
      "i=160, eval_set_log_loss = 0.26198461842265086\n",
      "i=180, eval_set_log_loss = 0.26279089401311884\n",
      "Stopping early: curr_loss of 0.26279089401311884\n",
      "                                        exceeds compare_loss of 0.26198461842265086\n",
      "0:\tlearn: 0.6808912\ttest: 0.6809049\tbest: 0.6809049 (0)\ttotal: 1.88ms\tremaining: 4.7s\n",
      "25:\tlearn: 0.5070723\ttest: 0.5111680\tbest: 0.5111680 (25)\ttotal: 35.4ms\tremaining: 3.37s\n",
      "50:\tlearn: 0.4483088\ttest: 0.4554285\tbest: 0.4554285 (50)\ttotal: 69.5ms\tremaining: 3.33s\n",
      "75:\tlearn: 0.4286614\ttest: 0.4381777\tbest: 0.4381777 (75)\ttotal: 106ms\tremaining: 3.39s\n",
      "100:\tlearn: 0.4190301\ttest: 0.4306789\tbest: 0.4306789 (100)\ttotal: 137ms\tremaining: 3.25s\n",
      "125:\tlearn: 0.4129908\ttest: 0.4260258\tbest: 0.4260258 (125)\ttotal: 167ms\tremaining: 3.15s\n",
      "150:\tlearn: 0.4084945\ttest: 0.4232895\tbest: 0.4232895 (150)\ttotal: 197ms\tremaining: 3.07s\n",
      "175:\tlearn: 0.4050595\ttest: 0.4208898\tbest: 0.4208898 (175)\ttotal: 226ms\tremaining: 2.98s\n",
      "200:\tlearn: 0.4014731\ttest: 0.4187396\tbest: 0.4187061 (199)\ttotal: 256ms\tremaining: 2.92s\n",
      "225:\tlearn: 0.3990198\ttest: 0.4178059\tbest: 0.4178059 (225)\ttotal: 285ms\tremaining: 2.87s\n",
      "250:\tlearn: 0.3974367\ttest: 0.4169111\tbest: 0.4169045 (249)\ttotal: 314ms\tremaining: 2.81s\n",
      "275:\tlearn: 0.3958373\ttest: 0.4158989\tbest: 0.4158989 (275)\ttotal: 344ms\tremaining: 2.77s\n",
      "300:\tlearn: 0.3943719\ttest: 0.4151631\tbest: 0.4151631 (300)\ttotal: 374ms\tremaining: 2.73s\n",
      "325:\tlearn: 0.3925244\ttest: 0.4145282\tbest: 0.4145282 (325)\ttotal: 407ms\tremaining: 2.71s\n",
      "350:\tlearn: 0.3912992\ttest: 0.4144813\tbest: 0.4144624 (335)\ttotal: 438ms\tremaining: 2.68s\n",
      "Stopped by overfitting detector  (20 iterations wait)\n",
      "\n",
      "bestTest = 0.4144623679\n",
      "bestIteration = 335\n",
      "\n",
      "Shrink model to first 336 iterations.\n",
      "0:\tlearn: 0.6811246\ttest: 0.6818517\tbest: 0.6818517 (0)\ttotal: 4.51ms\tremaining: 11.3s\n",
      "25:\tlearn: 0.5086245\ttest: 0.5086752\tbest: 0.5086752 (25)\ttotal: 44.1ms\tremaining: 4.19s\n",
      "50:\tlearn: 0.4531952\ttest: 0.4556767\tbest: 0.4556767 (50)\ttotal: 74.5ms\tremaining: 3.58s\n",
      "75:\tlearn: 0.4315935\ttest: 0.4355554\tbest: 0.4355554 (75)\ttotal: 113ms\tremaining: 3.62s\n",
      "100:\tlearn: 0.4216929\ttest: 0.4278442\tbest: 0.4278442 (100)\ttotal: 145ms\tremaining: 3.44s\n",
      "125:\tlearn: 0.4164549\ttest: 0.4239663\tbest: 0.4239663 (125)\ttotal: 173ms\tremaining: 3.26s\n",
      "150:\tlearn: 0.4128960\ttest: 0.4215877\tbest: 0.4215863 (149)\ttotal: 207ms\tremaining: 3.21s\n",
      "175:\tlearn: 0.4107045\ttest: 0.4203100\tbest: 0.4203100 (175)\ttotal: 238ms\tremaining: 3.14s\n",
      "200:\tlearn: 0.4089318\ttest: 0.4199677\tbest: 0.4199677 (200)\ttotal: 271ms\tremaining: 3.1s\n",
      "225:\tlearn: 0.4073560\ttest: 0.4189511\tbest: 0.4189511 (225)\ttotal: 300ms\tremaining: 3.02s\n",
      "250:\tlearn: 0.4052952\ttest: 0.4184607\tbest: 0.4184196 (249)\ttotal: 333ms\tremaining: 2.98s\n",
      "275:\tlearn: 0.4037413\ttest: 0.4181085\tbest: 0.4181085 (275)\ttotal: 364ms\tremaining: 2.94s\n",
      "300:\tlearn: 0.4023524\ttest: 0.4178723\tbest: 0.4178227 (289)\ttotal: 394ms\tremaining: 2.88s\n",
      "325:\tlearn: 0.4004002\ttest: 0.4173500\tbest: 0.4173483 (321)\ttotal: 423ms\tremaining: 2.82s\n",
      "350:\tlearn: 0.3989457\ttest: 0.4173183\tbest: 0.4172649 (340)\ttotal: 452ms\tremaining: 2.77s\n",
      "Stopped by overfitting detector  (20 iterations wait)\n",
      "\n",
      "bestTest = 0.4172649235\n",
      "bestIteration = 340\n",
      "\n",
      "Shrink model to first 341 iterations.\n",
      "i=0, eval_set_log_loss = 0.2923936564815236\n",
      "i=20, eval_set_log_loss = 0.2781736941998553\n",
      "i=40, eval_set_log_loss = 0.2688433168314109\n",
      "i=60, eval_set_log_loss = 0.2663962193013644\n",
      "i=80, eval_set_log_loss = 0.26476043057145443\n",
      "i=100, eval_set_log_loss = 0.2637626806529217\n",
      "i=120, eval_set_log_loss = 0.2602867691681211\n",
      "i=140, eval_set_log_loss = 0.2583821220308245\n",
      "i=160, eval_set_log_loss = 0.25657995728297117\n",
      "i=180, eval_set_log_loss = 0.2551364576845806\n",
      "i=200, eval_set_log_loss = 0.25493852382593607\n",
      "i=220, eval_set_log_loss = 0.25534343152289685\n",
      "Stopping early: curr_loss of 0.25534343152289685\n",
      "                                        exceeds compare_loss of 0.25493852382593607\n",
      "i=0, eval_set_log_loss = 0.2923936564815236\n",
      "i=20, eval_set_log_loss = 0.27975733907156275\n",
      "i=40, eval_set_log_loss = 0.2705727695551604\n",
      "i=60, eval_set_log_loss = 0.26593525459239487\n",
      "i=80, eval_set_log_loss = 0.26430926181614106\n",
      "i=100, eval_set_log_loss = 0.26193296070415495\n",
      "i=120, eval_set_log_loss = 0.25986970035693013\n",
      "i=140, eval_set_log_loss = 0.25757668014165347\n",
      "i=160, eval_set_log_loss = 0.25640728323294937\n",
      "i=180, eval_set_log_loss = 0.25509872423509466\n",
      "i=200, eval_set_log_loss = 0.2560036735501808\n",
      "Stopping early: curr_loss of 0.2560036735501808\n",
      "                                        exceeds compare_loss of 0.25509872423509466\n",
      "i=0, eval_set_log_loss = 0.2923936564815236\n",
      "i=20, eval_set_log_loss = 0.2743302278138746\n",
      "i=40, eval_set_log_loss = 0.2638756512168801\n",
      "i=60, eval_set_log_loss = 0.25852913887493273\n",
      "i=80, eval_set_log_loss = 0.25689181456628485\n",
      "i=100, eval_set_log_loss = 0.25563476095290727\n",
      "i=120, eval_set_log_loss = 0.2535260131356298\n",
      "i=140, eval_set_log_loss = 0.25167891088153366\n",
      "i=160, eval_set_log_loss = 0.2511425757933067\n",
      "i=180, eval_set_log_loss = 0.2498501718006068\n",
      "i=200, eval_set_log_loss = 0.2507577662632959\n",
      "Stopping early: curr_loss of 0.2507577662632959\n",
      "                                        exceeds compare_loss of 0.2498501718006068\n",
      "0:\tlearn: 0.6831126\ttest: 0.6825298\tbest: 0.6825298 (0)\ttotal: 2.02ms\tremaining: 5.04s\n",
      "25:\tlearn: 0.5373889\ttest: 0.5256672\tbest: 0.5256672 (25)\ttotal: 45.6ms\tremaining: 4.34s\n",
      "50:\tlearn: 0.4860589\ttest: 0.4681528\tbest: 0.4681528 (50)\ttotal: 83.5ms\tremaining: 4.01s\n",
      "75:\tlearn: 0.4650584\ttest: 0.4456745\tbest: 0.4456745 (75)\ttotal: 113ms\tremaining: 3.61s\n",
      "100:\tlearn: 0.4520796\ttest: 0.4340469\tbest: 0.4340469 (100)\ttotal: 148ms\tremaining: 3.52s\n",
      "125:\tlearn: 0.4433320\ttest: 0.4263707\tbest: 0.4263707 (125)\ttotal: 179ms\tremaining: 3.37s\n",
      "150:\tlearn: 0.4387370\ttest: 0.4225709\tbest: 0.4225709 (150)\ttotal: 211ms\tremaining: 3.28s\n",
      "175:\tlearn: 0.4351868\ttest: 0.4204486\tbest: 0.4204486 (175)\ttotal: 242ms\tremaining: 3.2s\n",
      "200:\tlearn: 0.4330690\ttest: 0.4189387\tbest: 0.4189387 (200)\ttotal: 272ms\tremaining: 3.11s\n",
      "225:\tlearn: 0.4306917\ttest: 0.4178566\tbest: 0.4178566 (225)\ttotal: 303ms\tremaining: 3.05s\n",
      "250:\tlearn: 0.4289271\ttest: 0.4169809\tbest: 0.4169809 (250)\ttotal: 334ms\tremaining: 2.99s\n",
      "275:\tlearn: 0.4264581\ttest: 0.4157110\tbest: 0.4157110 (275)\ttotal: 368ms\tremaining: 2.96s\n",
      "300:\tlearn: 0.4248153\ttest: 0.4153224\tbest: 0.4153224 (300)\ttotal: 403ms\tremaining: 2.94s\n",
      "Stopped by overfitting detector  (20 iterations wait)\n",
      "\n",
      "bestTest = 0.4153223943\n",
      "bestIteration = 300\n",
      "\n",
      "Shrink model to first 301 iterations.\n",
      "0:\tlearn: 0.6816676\ttest: 0.6798885\tbest: 0.6798885 (0)\ttotal: 3.32ms\tremaining: 8.3s\n",
      "25:\tlearn: 0.5328321\ttest: 0.5185970\tbest: 0.5185970 (25)\ttotal: 36.8ms\tremaining: 3.5s\n",
      "50:\tlearn: 0.4800688\ttest: 0.4598220\tbest: 0.4598220 (50)\ttotal: 77.4ms\tremaining: 3.72s\n",
      "75:\tlearn: 0.4596638\ttest: 0.4368537\tbest: 0.4368537 (75)\ttotal: 113ms\tremaining: 3.6s\n",
      "100:\tlearn: 0.4509806\ttest: 0.4276028\tbest: 0.4276028 (100)\ttotal: 144ms\tremaining: 3.42s\n",
      "125:\tlearn: 0.4446281\ttest: 0.4216296\tbest: 0.4216296 (125)\ttotal: 178ms\tremaining: 3.35s\n",
      "150:\tlearn: 0.4419396\ttest: 0.4194335\tbest: 0.4194335 (150)\ttotal: 208ms\tremaining: 3.23s\n",
      "175:\tlearn: 0.4394712\ttest: 0.4181541\tbest: 0.4181541 (175)\ttotal: 237ms\tremaining: 3.13s\n",
      "200:\tlearn: 0.4378611\ttest: 0.4172755\tbest: 0.4172755 (200)\ttotal: 267ms\tremaining: 3.05s\n",
      "225:\tlearn: 0.4359489\ttest: 0.4165023\tbest: 0.4165023 (225)\ttotal: 298ms\tremaining: 3s\n",
      "250:\tlearn: 0.4347955\ttest: 0.4165008\tbest: 0.4164577 (233)\ttotal: 331ms\tremaining: 2.96s\n",
      "Stopped by overfitting detector  (20 iterations wait)\n",
      "\n",
      "bestTest = 0.4164577112\n",
      "bestIteration = 233\n",
      "\n",
      "Shrink model to first 234 iterations.\n",
      "i=0, eval_set_log_loss = 0.3121658025359994\n",
      "i=20, eval_set_log_loss = 0.2948968819302254\n",
      "i=40, eval_set_log_loss = 0.2867991223541908\n",
      "i=60, eval_set_log_loss = 0.28001755068320305\n",
      "i=80, eval_set_log_loss = 0.2774185052127405\n",
      "i=100, eval_set_log_loss = 0.2759304652079509\n",
      "i=120, eval_set_log_loss = 0.27477637416710093\n",
      "i=140, eval_set_log_loss = 0.27438461687037463\n",
      "i=160, eval_set_log_loss = 0.27216412423965985\n",
      "i=180, eval_set_log_loss = 0.27101377893228074\n",
      "i=200, eval_set_log_loss = 0.2718334514198171\n",
      "Stopping early: curr_loss of 0.2718334514198171\n",
      "                                        exceeds compare_loss of 0.27101377893228074\n",
      "i=0, eval_set_log_loss = 0.3121658025359994\n",
      "i=20, eval_set_log_loss = 0.29375410940753466\n",
      "i=40, eval_set_log_loss = 0.2849279873184242\n",
      "i=60, eval_set_log_loss = 0.27641956088121733\n",
      "i=80, eval_set_log_loss = 0.2721461227679337\n",
      "i=100, eval_set_log_loss = 0.2698063195907613\n",
      "i=120, eval_set_log_loss = 0.2677050729768684\n",
      "i=140, eval_set_log_loss = 0.26718362139303886\n",
      "i=160, eval_set_log_loss = 0.264657359021338\n",
      "i=180, eval_set_log_loss = 0.26414796206383906\n",
      "i=200, eval_set_log_loss = 0.26529764508986226\n",
      "Stopping early: curr_loss of 0.26529764508986226\n",
      "                                        exceeds compare_loss of 0.26414796206383906\n",
      "i=0, eval_set_log_loss = 0.3121658025359994\n",
      "i=20, eval_set_log_loss = 0.29234737991437404\n",
      "i=40, eval_set_log_loss = 0.2811614395356681\n",
      "i=60, eval_set_log_loss = 0.27283431407757075\n",
      "i=80, eval_set_log_loss = 0.26781815545559023\n",
      "i=100, eval_set_log_loss = 0.2662849936946699\n",
      "i=120, eval_set_log_loss = 0.26462935973427093\n",
      "i=140, eval_set_log_loss = 0.2641481147435863\n",
      "i=160, eval_set_log_loss = 0.2618019728930768\n",
      "i=180, eval_set_log_loss = 0.26099286961298473\n",
      "i=200, eval_set_log_loss = 0.26287639944021907\n",
      "Stopping early: curr_loss of 0.26287639944021907\n",
      "                                        exceeds compare_loss of 0.26099286961298473\n",
      "0:\tlearn: 0.6791119\ttest: 0.6795351\tbest: 0.6795351 (0)\ttotal: 2.08ms\tremaining: 5.21s\n",
      "25:\tlearn: 0.5008535\ttest: 0.5081267\tbest: 0.5081267 (25)\ttotal: 39.2ms\tremaining: 3.73s\n",
      "50:\tlearn: 0.4506723\ttest: 0.4615550\tbest: 0.4615550 (50)\ttotal: 77.1ms\tremaining: 3.7s\n",
      "75:\tlearn: 0.4322087\ttest: 0.4451322\tbest: 0.4451322 (75)\ttotal: 111ms\tremaining: 3.54s\n",
      "100:\tlearn: 0.4215859\ttest: 0.4364609\tbest: 0.4364609 (100)\ttotal: 140ms\tremaining: 3.33s\n",
      "125:\tlearn: 0.4160115\ttest: 0.4325428\tbest: 0.4325428 (125)\ttotal: 172ms\tremaining: 3.24s\n",
      "150:\tlearn: 0.4131029\ttest: 0.4303312\tbest: 0.4303312 (150)\ttotal: 207ms\tremaining: 3.22s\n",
      "175:\tlearn: 0.4094195\ttest: 0.4281681\tbest: 0.4281681 (175)\ttotal: 239ms\tremaining: 3.15s\n",
      "200:\tlearn: 0.4073018\ttest: 0.4271815\tbest: 0.4271608 (199)\ttotal: 271ms\tremaining: 3.09s\n",
      "225:\tlearn: 0.4053385\ttest: 0.4261742\tbest: 0.4261742 (225)\ttotal: 303ms\tremaining: 3.05s\n",
      "250:\tlearn: 0.4035275\ttest: 0.4255416\tbest: 0.4254774 (247)\ttotal: 336ms\tremaining: 3.01s\n",
      "275:\tlearn: 0.4014820\ttest: 0.4246435\tbest: 0.4245584 (273)\ttotal: 370ms\tremaining: 2.98s\n",
      "300:\tlearn: 0.3998883\ttest: 0.4238536\tbest: 0.4238379 (299)\ttotal: 400ms\tremaining: 2.92s\n",
      "325:\tlearn: 0.3989655\ttest: 0.4233440\tbest: 0.4233440 (325)\ttotal: 429ms\tremaining: 2.86s\n",
      "350:\tlearn: 0.3978478\ttest: 0.4228334\tbest: 0.4228164 (349)\ttotal: 458ms\tremaining: 2.8s\n",
      "Stopped by overfitting detector  (20 iterations wait)\n",
      "\n",
      "bestTest = 0.422816402\n",
      "bestIteration = 349\n",
      "\n",
      "Shrink model to first 350 iterations.\n",
      "0:\tlearn: 0.6822422\ttest: 0.6827928\tbest: 0.6827928 (0)\ttotal: 2.85ms\tremaining: 7.12s\n",
      "25:\tlearn: 0.5129446\ttest: 0.5150368\tbest: 0.5150368 (25)\ttotal: 36.5ms\tremaining: 3.47s\n",
      "50:\tlearn: 0.4566720\ttest: 0.4582628\tbest: 0.4582628 (50)\ttotal: 67.4ms\tremaining: 3.24s\n",
      "75:\tlearn: 0.4385880\ttest: 0.4417328\tbest: 0.4417328 (75)\ttotal: 103ms\tremaining: 3.29s\n",
      "100:\tlearn: 0.4294808\ttest: 0.4333547\tbest: 0.4333547 (100)\ttotal: 136ms\tremaining: 3.22s\n",
      "125:\tlearn: 0.4231965\ttest: 0.4283056\tbest: 0.4283056 (125)\ttotal: 165ms\tremaining: 3.11s\n",
      "150:\tlearn: 0.4205954\ttest: 0.4266945\tbest: 0.4266903 (149)\ttotal: 194ms\tremaining: 3.02s\n",
      "175:\tlearn: 0.4189453\ttest: 0.4256254\tbest: 0.4256254 (175)\ttotal: 223ms\tremaining: 2.94s\n",
      "200:\tlearn: 0.4175736\ttest: 0.4250899\tbest: 0.4250899 (200)\ttotal: 252ms\tremaining: 2.88s\n",
      "225:\tlearn: 0.4160879\ttest: 0.4243370\tbest: 0.4243336 (224)\ttotal: 284ms\tremaining: 2.85s\n",
      "250:\tlearn: 0.4147540\ttest: 0.4238783\tbest: 0.4238783 (250)\ttotal: 313ms\tremaining: 2.8s\n",
      "275:\tlearn: 0.4139674\ttest: 0.4235976\tbest: 0.4235592 (274)\ttotal: 343ms\tremaining: 2.76s\n",
      "300:\tlearn: 0.4129338\ttest: 0.4235353\tbest: 0.4235224 (298)\ttotal: 373ms\tremaining: 2.73s\n",
      "325:\tlearn: 0.4121459\ttest: 0.4233892\tbest: 0.4233892 (325)\ttotal: 402ms\tremaining: 2.68s\n",
      "350:\tlearn: 0.4114069\ttest: 0.4233799\tbest: 0.4233639 (347)\ttotal: 432ms\tremaining: 2.64s\n",
      "375:\tlearn: 0.4104509\ttest: 0.4232557\tbest: 0.4232557 (375)\ttotal: 462ms\tremaining: 2.61s\n",
      "400:\tlearn: 0.4096648\ttest: 0.4232150\tbest: 0.4232150 (400)\ttotal: 492ms\tremaining: 2.58s\n",
      "425:\tlearn: 0.4089172\ttest: 0.4231197\tbest: 0.4231145 (423)\ttotal: 524ms\tremaining: 2.55s\n",
      "Stopped by overfitting detector  (20 iterations wait)\n",
      "\n",
      "bestTest = 0.4231144747\n",
      "bestIteration = 423\n",
      "\n",
      "Shrink model to first 424 iterations.\n",
      "i=0, eval_set_log_loss = 0.31516243765880353\n",
      "i=20, eval_set_log_loss = 0.29657800264114925\n",
      "i=40, eval_set_log_loss = 0.28619453429499025\n",
      "i=60, eval_set_log_loss = 0.2795944882517922\n",
      "i=80, eval_set_log_loss = 0.27672949944884784\n",
      "i=100, eval_set_log_loss = 0.27520645403145144\n",
      "i=120, eval_set_log_loss = 0.2738354603608007\n",
      "i=140, eval_set_log_loss = 0.27161766910522445\n",
      "i=160, eval_set_log_loss = 0.2703495214920177\n",
      "i=180, eval_set_log_loss = 0.26944474632106763\n",
      "i=200, eval_set_log_loss = 0.26885256725483503\n",
      "i=220, eval_set_log_loss = 0.2690217668479617\n",
      "Stopping early: curr_loss of 0.2690217668479617\n",
      "                                        exceeds compare_loss of 0.26885256725483503\n",
      "i=0, eval_set_log_loss = 0.31516243765880353\n",
      "i=20, eval_set_log_loss = 0.29610650936543614\n",
      "i=40, eval_set_log_loss = 0.28577491027454494\n",
      "i=60, eval_set_log_loss = 0.2788561370623078\n",
      "i=80, eval_set_log_loss = 0.2755958154907319\n",
      "i=100, eval_set_log_loss = 0.27411776096215745\n",
      "i=120, eval_set_log_loss = 0.2715652567179856\n",
      "i=140, eval_set_log_loss = 0.26998127693417234\n",
      "i=160, eval_set_log_loss = 0.2687277058197032\n",
      "i=180, eval_set_log_loss = 0.26873013146300917\n",
      "Stopping early: curr_loss of 0.26873013146300917\n",
      "                                        exceeds compare_loss of 0.2687277058197032\n",
      "i=0, eval_set_log_loss = 0.31516243765880353\n",
      "i=20, eval_set_log_loss = 0.29288228356031204\n",
      "i=40, eval_set_log_loss = 0.281430616023803\n",
      "i=60, eval_set_log_loss = 0.2737284024633289\n",
      "i=80, eval_set_log_loss = 0.27047473606417366\n",
      "i=100, eval_set_log_loss = 0.26863131263938556\n",
      "i=120, eval_set_log_loss = 0.2672234111996614\n",
      "i=140, eval_set_log_loss = 0.26680894033827673\n",
      "i=160, eval_set_log_loss = 0.2658490182525288\n",
      "i=180, eval_set_log_loss = 0.2662032194487449\n",
      "Stopping early: curr_loss of 0.2662032194487449\n",
      "                                        exceeds compare_loss of 0.2658490182525288\n",
      "0:\tlearn: 0.6802173\ttest: 0.6806414\tbest: 0.6806414 (0)\ttotal: 1.69ms\tremaining: 4.22s\n",
      "25:\tlearn: 0.5061346\ttest: 0.5134745\tbest: 0.5134745 (25)\ttotal: 34.7ms\tremaining: 3.3s\n",
      "50:\tlearn: 0.4561696\ttest: 0.4656045\tbest: 0.4656045 (50)\ttotal: 77.8ms\tremaining: 3.73s\n",
      "75:\tlearn: 0.4371910\ttest: 0.4489721\tbest: 0.4489721 (75)\ttotal: 118ms\tremaining: 3.77s\n",
      "100:\tlearn: 0.4229298\ttest: 0.4375473\tbest: 0.4375473 (100)\ttotal: 159ms\tremaining: 3.78s\n",
      "125:\tlearn: 0.4154673\ttest: 0.4323784\tbest: 0.4323784 (125)\ttotal: 191ms\tremaining: 3.6s\n",
      "150:\tlearn: 0.4117142\ttest: 0.4304418\tbest: 0.4304418 (150)\ttotal: 221ms\tremaining: 3.43s\n",
      "175:\tlearn: 0.4093042\ttest: 0.4292661\tbest: 0.4292601 (173)\ttotal: 248ms\tremaining: 3.27s\n",
      "200:\tlearn: 0.4068868\ttest: 0.4282424\tbest: 0.4282424 (200)\ttotal: 276ms\tremaining: 3.15s\n",
      "225:\tlearn: 0.4037718\ttest: 0.4264243\tbest: 0.4264243 (225)\ttotal: 304ms\tremaining: 3.06s\n",
      "250:\tlearn: 0.4015179\ttest: 0.4257020\tbest: 0.4256846 (249)\ttotal: 332ms\tremaining: 2.97s\n",
      "275:\tlearn: 0.3993874\ttest: 0.4250943\tbest: 0.4250695 (274)\ttotal: 359ms\tremaining: 2.9s\n",
      "Stopped by overfitting detector  (20 iterations wait)\n",
      "\n",
      "bestTest = 0.4250694565\n",
      "bestIteration = 274\n",
      "\n",
      "Shrink model to first 275 iterations.\n",
      "0:\tlearn: 0.6813434\ttest: 0.6816511\tbest: 0.6816511 (0)\ttotal: 2.85ms\tremaining: 7.13s\n",
      "25:\tlearn: 0.5140438\ttest: 0.5153193\tbest: 0.5153193 (25)\ttotal: 38.3ms\tremaining: 3.64s\n",
      "50:\tlearn: 0.4565805\ttest: 0.4582835\tbest: 0.4582835 (50)\ttotal: 68.5ms\tremaining: 3.29s\n",
      "75:\tlearn: 0.4355531\ttest: 0.4392098\tbest: 0.4392098 (75)\ttotal: 107ms\tremaining: 3.43s\n",
      "100:\tlearn: 0.4251982\ttest: 0.4301512\tbest: 0.4301512 (100)\ttotal: 139ms\tremaining: 3.3s\n",
      "125:\tlearn: 0.4194065\ttest: 0.4258186\tbest: 0.4258186 (125)\ttotal: 168ms\tremaining: 3.17s\n",
      "150:\tlearn: 0.4161461\ttest: 0.4240685\tbest: 0.4240653 (149)\ttotal: 198ms\tremaining: 3.07s\n",
      "175:\tlearn: 0.4134656\ttest: 0.4230028\tbest: 0.4230028 (175)\ttotal: 226ms\tremaining: 2.98s\n",
      "200:\tlearn: 0.4114806\ttest: 0.4221612\tbest: 0.4221612 (200)\ttotal: 254ms\tremaining: 2.91s\n",
      "225:\tlearn: 0.4096680\ttest: 0.4219688\tbest: 0.4219180 (220)\ttotal: 283ms\tremaining: 2.85s\n",
      "Stopped by overfitting detector  (20 iterations wait)\n",
      "\n",
      "bestTest = 0.4219180081\n",
      "bestIteration = 220\n",
      "\n",
      "Shrink model to first 221 iterations.\n",
      "i=0, eval_set_log_loss = 0.2830548040404318\n",
      "i=20, eval_set_log_loss = 0.27307868315460115\n",
      "i=40, eval_set_log_loss = 0.2629260805662712\n",
      "i=60, eval_set_log_loss = 0.2571800959004863\n",
      "i=80, eval_set_log_loss = 0.25631120622338444\n",
      "i=100, eval_set_log_loss = 0.253844025769504\n",
      "i=120, eval_set_log_loss = 0.2551042388501852\n",
      "Stopping early: curr_loss of 0.2551042388501852\n",
      "                                        exceeds compare_loss of 0.253844025769504\n",
      "i=0, eval_set_log_loss = 0.2830548040404318\n",
      "i=20, eval_set_log_loss = 0.27134563204683243\n",
      "i=40, eval_set_log_loss = 0.2615285206506116\n",
      "i=60, eval_set_log_loss = 0.25540960708070315\n",
      "i=80, eval_set_log_loss = 0.2542681550070596\n",
      "i=100, eval_set_log_loss = 0.25169593334315604\n",
      "i=120, eval_set_log_loss = 0.2524153824182418\n",
      "Stopping early: curr_loss of 0.2524153824182418\n",
      "                                        exceeds compare_loss of 0.25169593334315604\n",
      "i=0, eval_set_log_loss = 0.2830548040404318\n",
      "i=20, eval_set_log_loss = 0.2696169889417626\n",
      "i=40, eval_set_log_loss = 0.2583669605907144\n",
      "i=60, eval_set_log_loss = 0.2519448426676855\n",
      "i=80, eval_set_log_loss = 0.25030023527369416\n",
      "i=100, eval_set_log_loss = 0.247642802757077\n",
      "i=120, eval_set_log_loss = 0.24891378566696198\n",
      "Stopping early: curr_loss of 0.24891378566696198\n",
      "                                        exceeds compare_loss of 0.247642802757077\n",
      "0:\tlearn: 0.6832493\ttest: 0.6825363\tbest: 0.6825363 (0)\ttotal: 1.66ms\tremaining: 4.15s\n",
      "25:\tlearn: 0.5276650\ttest: 0.5149810\tbest: 0.5149810 (25)\ttotal: 45ms\tremaining: 4.28s\n",
      "50:\tlearn: 0.4759240\ttest: 0.4584963\tbest: 0.4584963 (50)\ttotal: 85.6ms\tremaining: 4.11s\n",
      "75:\tlearn: 0.4581372\ttest: 0.4390031\tbest: 0.4390031 (75)\ttotal: 114ms\tremaining: 3.65s\n",
      "100:\tlearn: 0.4490673\ttest: 0.4294174\tbest: 0.4294174 (100)\ttotal: 142ms\tremaining: 3.38s\n",
      "125:\tlearn: 0.4436444\ttest: 0.4245884\tbest: 0.4245884 (125)\ttotal: 170ms\tremaining: 3.2s\n",
      "150:\tlearn: 0.4390978\ttest: 0.4211572\tbest: 0.4211572 (150)\ttotal: 200ms\tremaining: 3.11s\n",
      "175:\tlearn: 0.4358224\ttest: 0.4194510\tbest: 0.4194510 (175)\ttotal: 233ms\tremaining: 3.07s\n",
      "200:\tlearn: 0.4334592\ttest: 0.4177155\tbest: 0.4177155 (200)\ttotal: 261ms\tremaining: 2.98s\n",
      "225:\tlearn: 0.4314888\ttest: 0.4168093\tbest: 0.4167970 (218)\ttotal: 290ms\tremaining: 2.92s\n",
      "250:\tlearn: 0.4296478\ttest: 0.4160071\tbest: 0.4160071 (250)\ttotal: 320ms\tremaining: 2.87s\n",
      "275:\tlearn: 0.4282257\ttest: 0.4153658\tbest: 0.4153658 (275)\ttotal: 354ms\tremaining: 2.85s\n",
      "300:\tlearn: 0.4270099\ttest: 0.4150820\tbest: 0.4150807 (299)\ttotal: 385ms\tremaining: 2.81s\n",
      "325:\tlearn: 0.4257842\ttest: 0.4150855\tbest: 0.4150714 (313)\ttotal: 416ms\tremaining: 2.77s\n",
      "350:\tlearn: 0.4246224\ttest: 0.4146367\tbest: 0.4145860 (338)\ttotal: 447ms\tremaining: 2.73s\n",
      "375:\tlearn: 0.4234295\ttest: 0.4143097\tbest: 0.4142595 (373)\ttotal: 478ms\tremaining: 2.7s\n",
      "400:\tlearn: 0.4222858\ttest: 0.4141190\tbest: 0.4141190 (400)\ttotal: 509ms\tremaining: 2.66s\n",
      "Stopped by overfitting detector  (20 iterations wait)\n",
      "\n",
      "bestTest = 0.4141190433\n",
      "bestIteration = 400\n",
      "\n",
      "Shrink model to first 401 iterations.\n",
      "0:\tlearn: 0.6841946\ttest: 0.6836381\tbest: 0.6836381 (0)\ttotal: 2.14ms\tremaining: 5.34s\n",
      "25:\tlearn: 0.5368590\ttest: 0.5195184\tbest: 0.5195184 (25)\ttotal: 35.5ms\tremaining: 3.38s\n",
      "50:\tlearn: 0.4859994\ttest: 0.4615787\tbest: 0.4615787 (50)\ttotal: 70.8ms\tremaining: 3.4s\n",
      "75:\tlearn: 0.4670562\ttest: 0.4396142\tbest: 0.4396142 (75)\ttotal: 103ms\tremaining: 3.29s\n",
      "100:\tlearn: 0.4560866\ttest: 0.4271480\tbest: 0.4271480 (100)\ttotal: 133ms\tremaining: 3.16s\n",
      "125:\tlearn: 0.4490910\ttest: 0.4200168\tbest: 0.4200168 (125)\ttotal: 163ms\tremaining: 3.06s\n",
      "150:\tlearn: 0.4452559\ttest: 0.4174730\tbest: 0.4174730 (150)\ttotal: 192ms\tremaining: 2.99s\n",
      "175:\tlearn: 0.4425150\ttest: 0.4153535\tbest: 0.4153535 (175)\ttotal: 222ms\tremaining: 2.93s\n",
      "200:\tlearn: 0.4399841\ttest: 0.4141700\tbest: 0.4141700 (200)\ttotal: 254ms\tremaining: 2.9s\n",
      "225:\tlearn: 0.4384622\ttest: 0.4135214\tbest: 0.4135214 (225)\ttotal: 284ms\tremaining: 2.86s\n",
      "250:\tlearn: 0.4372611\ttest: 0.4134533\tbest: 0.4134080 (233)\ttotal: 313ms\tremaining: 2.81s\n",
      "Stopped by overfitting detector  (20 iterations wait)\n",
      "\n",
      "bestTest = 0.4134080427\n",
      "bestIteration = 233\n",
      "\n",
      "Shrink model to first 234 iterations.\n",
      "i=0, eval_set_log_loss = 0.28887557835653577\n",
      "i=20, eval_set_log_loss = 0.2728834193859948\n",
      "i=40, eval_set_log_loss = 0.26401446188204236\n",
      "i=60, eval_set_log_loss = 0.2587815974564205\n",
      "i=80, eval_set_log_loss = 0.2545025552521079\n",
      "i=100, eval_set_log_loss = 0.25152265968450493\n",
      "i=120, eval_set_log_loss = 0.2529334536238251\n",
      "Stopping early: curr_loss of 0.2529334536238251\n",
      "                                        exceeds compare_loss of 0.25152265968450493\n",
      "i=0, eval_set_log_loss = 0.28887557835653577\n",
      "i=20, eval_set_log_loss = 0.27010207604860836\n",
      "i=40, eval_set_log_loss = 0.2592558688894329\n",
      "i=60, eval_set_log_loss = 0.253366353419969\n",
      "i=80, eval_set_log_loss = 0.2484513356668187\n",
      "i=100, eval_set_log_loss = 0.24523347252009775\n",
      "i=120, eval_set_log_loss = 0.24544385773245345\n",
      "Stopping early: curr_loss of 0.24544385773245345\n",
      "                                        exceeds compare_loss of 0.24523347252009775\n",
      "i=0, eval_set_log_loss = 0.28887557835653577\n",
      "i=20, eval_set_log_loss = 0.2682661403627466\n",
      "i=40, eval_set_log_loss = 0.2555439779883868\n",
      "i=60, eval_set_log_loss = 0.2480697830457057\n",
      "i=80, eval_set_log_loss = 0.24209267684346897\n",
      "i=100, eval_set_log_loss = 0.23826211387339036\n",
      "i=120, eval_set_log_loss = 0.23869748164055954\n",
      "Stopping early: curr_loss of 0.23869748164055954\n",
      "                                        exceeds compare_loss of 0.23826211387339036\n",
      "0:\tlearn: 0.6821330\ttest: 0.6816394\tbest: 0.6816394 (0)\ttotal: 1.91ms\tremaining: 4.77s\n",
      "25:\tlearn: 0.5164725\ttest: 0.5110445\tbest: 0.5110445 (25)\ttotal: 41.1ms\tremaining: 3.91s\n",
      "50:\tlearn: 0.4645720\ttest: 0.4566139\tbest: 0.4566139 (50)\ttotal: 84.3ms\tremaining: 4.05s\n",
      "75:\tlearn: 0.4449576\ttest: 0.4363802\tbest: 0.4363802 (75)\ttotal: 120ms\tremaining: 3.81s\n",
      "100:\tlearn: 0.4361124\ttest: 0.4275111\tbest: 0.4275111 (100)\ttotal: 153ms\tremaining: 3.63s\n",
      "125:\tlearn: 0.4294676\ttest: 0.4205567\tbest: 0.4205567 (125)\ttotal: 186ms\tremaining: 3.5s\n",
      "150:\tlearn: 0.4254837\ttest: 0.4174627\tbest: 0.4174627 (150)\ttotal: 220ms\tremaining: 3.42s\n",
      "175:\tlearn: 0.4220873\ttest: 0.4153132\tbest: 0.4153132 (175)\ttotal: 253ms\tremaining: 3.33s\n",
      "200:\tlearn: 0.4191157\ttest: 0.4133563\tbest: 0.4133563 (200)\ttotal: 293ms\tremaining: 3.35s\n",
      "225:\tlearn: 0.4170731\ttest: 0.4122148\tbest: 0.4122148 (225)\ttotal: 342ms\tremaining: 3.44s\n",
      "250:\tlearn: 0.4152100\ttest: 0.4110588\tbest: 0.4110588 (250)\ttotal: 384ms\tremaining: 3.44s\n",
      "275:\tlearn: 0.4136423\ttest: 0.4103887\tbest: 0.4103887 (275)\ttotal: 426ms\tremaining: 3.44s\n",
      "300:\tlearn: 0.4119586\ttest: 0.4097584\tbest: 0.4097476 (299)\ttotal: 469ms\tremaining: 3.43s\n",
      "325:\tlearn: 0.4106073\ttest: 0.4092995\tbest: 0.4092995 (325)\ttotal: 510ms\tremaining: 3.4s\n",
      "350:\tlearn: 0.4092492\ttest: 0.4088158\tbest: 0.4087847 (349)\ttotal: 552ms\tremaining: 3.38s\n",
      "375:\tlearn: 0.4078853\ttest: 0.4086113\tbest: 0.4085517 (366)\ttotal: 590ms\tremaining: 3.33s\n",
      "400:\tlearn: 0.4064628\ttest: 0.4082056\tbest: 0.4082056 (400)\ttotal: 634ms\tremaining: 3.32s\n",
      "425:\tlearn: 0.4050991\ttest: 0.4081112\tbest: 0.4080646 (416)\ttotal: 675ms\tremaining: 3.29s\n",
      "450:\tlearn: 0.4043763\ttest: 0.4079158\tbest: 0.4079105 (449)\ttotal: 715ms\tremaining: 3.25s\n",
      "475:\tlearn: 0.4035200\ttest: 0.4076938\tbest: 0.4076872 (472)\ttotal: 766ms\tremaining: 3.26s\n",
      "500:\tlearn: 0.4022941\ttest: 0.4074078\tbest: 0.4074057 (499)\ttotal: 810ms\tremaining: 3.23s\n",
      "Stopped by overfitting detector  (20 iterations wait)\n",
      "\n",
      "bestTest = 0.4073859303\n",
      "bestIteration = 501\n",
      "\n",
      "Shrink model to first 502 iterations.\n",
      "0:\tlearn: 0.6814516\ttest: 0.6813596\tbest: 0.6813596 (0)\ttotal: 3.77ms\tremaining: 9.42s\n",
      "25:\tlearn: 0.5204803\ttest: 0.5112834\tbest: 0.5112834 (25)\ttotal: 51.1ms\tremaining: 4.86s\n",
      "50:\tlearn: 0.4658120\ttest: 0.4544707\tbest: 0.4544707 (50)\ttotal: 104ms\tremaining: 5s\n",
      "75:\tlearn: 0.4458189\ttest: 0.4332025\tbest: 0.4332025 (75)\ttotal: 141ms\tremaining: 4.5s\n",
      "100:\tlearn: 0.4371063\ttest: 0.4240532\tbest: 0.4240532 (100)\ttotal: 180ms\tremaining: 4.28s\n",
      "125:\tlearn: 0.4324071\ttest: 0.4198786\tbest: 0.4198786 (125)\ttotal: 221ms\tremaining: 4.16s\n",
      "150:\tlearn: 0.4289559\ttest: 0.4175486\tbest: 0.4175486 (150)\ttotal: 257ms\tremaining: 4s\n",
      "175:\tlearn: 0.4265284\ttest: 0.4160273\tbest: 0.4160273 (175)\ttotal: 299ms\tremaining: 3.95s\n",
      "200:\tlearn: 0.4238852\ttest: 0.4148455\tbest: 0.4148053 (199)\ttotal: 342ms\tremaining: 3.91s\n",
      "225:\tlearn: 0.4221755\ttest: 0.4142581\tbest: 0.4142581 (225)\ttotal: 381ms\tremaining: 3.83s\n",
      "250:\tlearn: 0.4207124\ttest: 0.4141440\tbest: 0.4141077 (245)\ttotal: 423ms\tremaining: 3.79s\n",
      "275:\tlearn: 0.4194223\ttest: 0.4139468\tbest: 0.4138220 (272)\ttotal: 464ms\tremaining: 3.74s\n",
      "300:\tlearn: 0.4182786\ttest: 0.4135618\tbest: 0.4135424 (298)\ttotal: 503ms\tremaining: 3.68s\n",
      "325:\tlearn: 0.4171221\ttest: 0.4135613\tbest: 0.4134993 (322)\ttotal: 546ms\tremaining: 3.64s\n",
      "Stopped by overfitting detector  (20 iterations wait)\n",
      "\n",
      "bestTest = 0.4134993166\n",
      "bestIteration = 322\n",
      "\n",
      "Shrink model to first 323 iterations.\n"
     ]
    }
   ],
   "source": [
    "num_train_pts = 1000\n",
    "num_trials = 10\n",
    "stb_def_loss_vec = np.zeros(num_trials)\n",
    "stb_1_loss_vec = np.zeros(num_trials)\n",
    "stb_2_loss_vec = np.zeros(num_trials)\n",
    "cb1_loss_vec = np.zeros(num_trials)\n",
    "cb2_loss_vec = np.zeros(num_trials)\n",
    "stb_def_AUC_vec = np.zeros(num_trials)\n",
    "stb_1_AUC_vec = np.zeros(num_trials)\n",
    "stb_2_AUC_vec = np.zeros(num_trials)\n",
    "cb1_AUC_vec = np.zeros(num_trials)\n",
    "cb2_AUC_vec = np.zeros(num_trials)\n",
    "for i in range(num_trials):\n",
    "    X_trva, X_test, y_trva, y_test = train_test_split(X,y, test_size = 70000, random_state=i)\n",
    "    X_train_big, X_valid, y_train_big, y_valid = train_test_split(X_trva, y_trva, \n",
    "                                                                  test_size = 10000, random_state=i)\n",
    "    X_train = X_train_big.iloc[:num_train_pts,:]\n",
    "    y_train = y_train_big[:num_train_pts]\n",
    "    \n",
    "\n",
    "    stboost_CA_def = stb.StructureBoost(num_trees = 2500,\n",
    "                                        learning_rate=.02,\n",
    "                                        feature_configs=feature_configs_default, \n",
    "                                        max_depth=2,\n",
    "                                        mode='classification',\n",
    "                                        random_seed=i)\n",
    "    stboost_CA_def.fit(X_train, y_train, \n",
    "                       eval_set = ((X_valid, y_valid)), \n",
    "                       early_stop_past_steps=1, \n",
    "                       eval_freq=20)\n",
    "\n",
    "    pred_probs_def = stboost_CA_def.predict(X_test)\n",
    "    stb_def_loss_vec[i] = log_loss(y_test, pred_probs_def)\n",
    "    stb_def_AUC_vec[i] = roc_auc_score(y_test, pred_probs_def)\n",
    "\n",
    "    stboost_CA_1 = stb.StructureBoost(num_trees = 2500,\n",
    "                                      learning_rate=.02,\n",
    "                                      feature_configs=feature_configs_1, \n",
    "                                      max_depth=2,\n",
    "                                      mode='classification',\n",
    "                                      random_seed=i)\n",
    "    stboost_CA_1.fit(X_train, y_train, \n",
    "                       eval_set = ((X_valid, y_valid)), \n",
    "                       early_stop_past_steps=1, \n",
    "                       eval_freq=20)\n",
    "    pred_probs_1 = stboost_CA_1.predict(X_test)\n",
    "    stb_1_loss_vec[i] = log_loss(y_test, pred_probs_1)\n",
    "    stb_1_AUC_vec[i] = roc_auc_score(y_test, pred_probs_1)\n",
    "        \n",
    "\n",
    "    stboost_CA_2 = stb.StructureBoost(num_trees = 2500,\n",
    "                                      learning_rate=.02,\n",
    "                                      feature_configs=feature_configs_2, \n",
    "                                      max_depth=2,\n",
    "                                      mode='classification',\n",
    "                                      random_seed=i)\n",
    "    stboost_CA_2.fit(X_train, y_train, \n",
    "                       eval_set = ((X_valid, y_valid)), \n",
    "                       early_stop_past_steps=1, \n",
    "                       eval_freq=20)\n",
    "    pred_probs_2 = stboost_CA_2.predict(X_test)\n",
    "    stb_2_loss_vec[i] = log_loss(y_test, pred_probs_2)\n",
    "    stb_2_AUC_vec[i] = roc_auc_score(y_test, pred_probs_2)\n",
    "\n",
    "    \n",
    "    cat_features_1 = ['county']\n",
    "    cb1 = cb.CatBoostClassifier(iterations=2500, early_stopping_rounds=20,\n",
    "                                max_depth=2,learning_rate=.02,\n",
    "                                cat_features=cat_features_1, random_seed=i)\n",
    "    cb1.fit(X_train, y_train, cat_features_1, eval_set=(X_valid, y_valid), verbose=25)\n",
    "    pred_probs_cb1 = cb1.predict_proba(X_test)\n",
    "    cb1_loss_vec = log_loss(y_test, pred_probs_cb1)\n",
    "    cb1_AUC_vec = roc_auc_score(y_test, pred_probs_cb1[:,1])\n",
    "    \n",
    "    \n",
    "    cat_features_2 = ['county', 'month']\n",
    "    cb2 = cb.CatBoostClassifier(iterations=2500, early_stopping_rounds=20,\n",
    "                                max_depth=2,learning_rate=.02,\n",
    "                                cat_features=cat_features_2, random_seed=i)\n",
    "\n",
    "    cb2.fit(X_train, y_train, cat_features_2, eval_set=(X_valid, y_valid), verbose=25)\n",
    "    pred_probs_cb2 = cb2.predict_proba(X_test)\n",
    "    cb2_loss_vec[i] = log_loss(y_test, pred_probs_cb2)\n",
    "    cb2_AUC_vec[i] = roc_auc_score(y_test, pred_probs_cb2[:,1])\n",
    "    "
   ]
  },
  {
   "cell_type": "code",
   "execution_count": null,
   "metadata": {},
   "outputs": [],
   "source": []
  },
  {
   "cell_type": "markdown",
   "metadata": {},
   "source": [
    "### Summary of results (multiple trials)"
   ]
  },
  {
   "cell_type": "code",
   "execution_count": 42,
   "metadata": {},
   "outputs": [
    {
     "name": "stdout",
     "output_type": "stream",
     "text": [
      "Average log_loss Scores:\n",
      "StructureBoost w County+Month Structure:     avg_loss = 0.41081\n",
      "StructureBoost w County Structure:           avg_loss = 0.41523\n",
      "StructureBoost (w no Structure):             avg_loss = 0.42056\n",
      "CatBoost:  (County categorical)              avg_loss = 0.42216\n",
      "CatBoost:  (County, Month categorical)       avg_loss = 0.42129\n",
      "\n",
      "Average ROC AUC Scores:\n",
      "StructureBoost w County+Month Structure:     avg_auc = 0.75111\n",
      "StructureBoost w County Structure:           avg_auc = 0.74739\n",
      "StructureBoost (w no Structure):             avg_auc = 0.7341\n",
      "CatBoost:  (County categorical)              avg_auc = 0.73303\n",
      "CatBoost:  (County, Month categorical)       avg_auc = 0.72498\n"
     ]
    }
   ],
   "source": [
    "print('Average log_loss Scores:')\n",
    "print('StructureBoost w County+Month Structure:     avg_loss = {}'.format(np.round(np.mean(stb_2_loss_vec),5)))\n",
    "print('StructureBoost w County Structure:           avg_loss = {}'.format(np.round(np.mean(stb_1_loss_vec),5)))\n",
    "print('StructureBoost (w no Structure):             avg_loss = {}'.format(np.round(np.mean(stb_def_loss_vec), 5)))\n",
    "print('CatBoost:  (County categorical)              avg_loss = {}'.format(np.round(np.mean(cb1_loss_vec),5)))\n",
    "print('CatBoost:  (County, Month categorical)       avg_loss = {}'.format(np.round(np.mean(cb2_loss_vec),5)))\n",
    "print('\\nAverage ROC AUC Scores:')\n",
    "print('StructureBoost w County+Month Structure:     avg_auc = {}'.format(np.round(np.mean(stb_2_AUC_vec),5)))\n",
    "print('StructureBoost w County Structure:           avg_auc = {}'.format(np.round(np.mean(stb_1_AUC_vec),5)))\n",
    "print('StructureBoost (w no Structure):             avg_auc = {}'.format(np.round(np.mean(stb_def_AUC_vec), 5)))\n",
    "print('CatBoost:  (County categorical)              avg_auc = {}'.format(np.round(np.mean(cb1_AUC_vec),5)))\n",
    "print('CatBoost:  (County, Month categorical)       avg_auc = {}'.format(np.round(np.mean(cb2_AUC_vec),5)))"
   ]
  },
  {
   "cell_type": "code",
   "execution_count": 43,
   "metadata": {},
   "outputs": [
    {
     "data": {
      "text/plain": [
       "array([0.01519417, 0.00933463, 0.01346197, 0.01246671, 0.0104533 ,\n",
       "       0.01257437, 0.01436055, 0.01492446, 0.00498313, 0.00571704])"
      ]
     },
     "execution_count": 43,
     "metadata": {},
     "output_type": "execute_result"
    }
   ],
   "source": [
    "log_loss_diff_vec = cb1_loss_vec-stb_2_loss_vec\n",
    "log_loss_diff_vec"
   ]
  },
  {
   "cell_type": "code",
   "execution_count": 44,
   "metadata": {},
   "outputs": [
    {
     "data": {
      "text/plain": [
       "(0.011347032400036993, 0.0034778912969132725)"
      ]
     },
     "execution_count": 44,
     "metadata": {},
     "output_type": "execute_result"
    }
   ],
   "source": [
    "## mean and std deviation of log_loss difference\n",
    "## between StructureBoost and CatBoost\n",
    "np.mean(log_loss_diff_vec), np.std(log_loss_diff_vec)"
   ]
  },
  {
   "cell_type": "code",
   "execution_count": 45,
   "metadata": {},
   "outputs": [
    {
     "data": {
      "text/plain": [
       "(0.004983129855378243, 0.015194170935822593)"
      ]
     },
     "execution_count": 45,
     "metadata": {},
     "output_type": "execute_result"
    }
   ],
   "source": [
    "# min and max of discrepancy\n",
    "np.min(log_loss_diff_vec), np.max(log_loss_diff_vec)"
   ]
  },
  {
   "cell_type": "code",
   "execution_count": null,
   "metadata": {},
   "outputs": [],
   "source": []
  },
  {
   "cell_type": "code",
   "execution_count": 46,
   "metadata": {},
   "outputs": [
    {
     "data": {
      "text/plain": [
       "(0.7492064642677905, 0.7330267813829326)"
      ]
     },
     "execution_count": 46,
     "metadata": {},
     "output_type": "execute_result"
    }
   ],
   "source": [
    "roc_auc_score(y_test,pred_probs_2), roc_auc_score(y_test,pred_probs_cb1[:,1])"
   ]
  },
  {
   "cell_type": "code",
   "execution_count": 47,
   "metadata": {},
   "outputs": [
    {
     "data": {
      "text/plain": [
       "array([0.02449478, 0.0187097 , 0.01982976, 0.01269632, 0.01728712,\n",
       "       0.01883773, 0.01567058, 0.01849225, 0.01861538, 0.01617968])"
      ]
     },
     "execution_count": 47,
     "metadata": {},
     "output_type": "execute_result"
    }
   ],
   "source": [
    "auc_diff_vec = stb_2_AUC_vec - cb1_AUC_vec\n",
    "auc_diff_vec"
   ]
  },
  {
   "cell_type": "code",
   "execution_count": 48,
   "metadata": {},
   "outputs": [
    {
     "data": {
      "text/plain": [
       "(0.018081332172357932, 0.002909769332852116)"
      ]
     },
     "execution_count": 48,
     "metadata": {},
     "output_type": "execute_result"
    }
   ],
   "source": [
    "## mean and std deviation of AUC difference\n",
    "## between StructureBoost and CatBoost\n",
    "np.mean(auc_diff_vec), np.std(auc_diff_vec)"
   ]
  },
  {
   "cell_type": "code",
   "execution_count": 49,
   "metadata": {},
   "outputs": [
    {
     "data": {
      "text/plain": [
       "(0.01269631555146844, 0.024494783560344735)"
      ]
     },
     "execution_count": 49,
     "metadata": {},
     "output_type": "execute_result"
    }
   ],
   "source": [
    "# min and max of discrepancy\n",
    "np.min(auc_diff_vec), np.max(auc_diff_vec)"
   ]
  },
  {
   "cell_type": "code",
   "execution_count": null,
   "metadata": {},
   "outputs": [],
   "source": []
  },
  {
   "cell_type": "code",
   "execution_count": null,
   "metadata": {},
   "outputs": [],
   "source": []
  }
 ],
 "metadata": {
  "kernelspec": {
   "display_name": "Python 3",
   "language": "python",
   "name": "python3"
  },
  "language_info": {
   "codemirror_mode": {
    "name": "ipython",
    "version": 3
   },
   "file_extension": ".py",
   "mimetype": "text/x-python",
   "name": "python",
   "nbconvert_exporter": "python",
   "pygments_lexer": "ipython3",
   "version": "3.7.3"
  }
 },
 "nbformat": 4,
 "nbformat_minor": 4
}
