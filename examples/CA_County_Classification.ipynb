{
 "cells": [
  {
   "cell_type": "markdown",
   "metadata": {},
   "source": [
    "## StructureBoost Quick Config\n",
    "### Predicting rain and temperature in California counties"
   ]
  },
  {
   "cell_type": "markdown",
   "metadata": {},
   "source": [
    "This is intended to show the quickest way to configure and run StructureBoost"
   ]
  },
  {
   "cell_type": "markdown",
   "metadata": {},
   "source": [
    "## Imports"
   ]
  },
  {
   "cell_type": "code",
   "execution_count": 1,
   "metadata": {},
   "outputs": [],
   "source": [
    "import numpy as np\n",
    "import pandas as pd\n",
    "import matplotlib.pyplot as plt\n",
    "%matplotlib inline\n",
    "\n",
    "from sklearn.metrics import log_loss, roc_auc_score\n",
    "from sklearn.model_selection import train_test_split\n",
    "import copy\n",
    "\n",
    "import structureboost as stb\n",
    "\n",
    "pd.set_option(\"display.max_rows\",999)\n",
    "pd.set_option(\"display.max_columns\",999)"
   ]
  },
  {
   "cell_type": "markdown",
   "metadata": {},
   "source": [
    "## Load and Process Data"
   ]
  },
  {
   "cell_type": "code",
   "execution_count": 2,
   "metadata": {},
   "outputs": [],
   "source": [
    "df_ca_PRCP = pd.read_csv('data/CA_County_PRCP.csv')"
   ]
  },
  {
   "cell_type": "code",
   "execution_count": 3,
   "metadata": {},
   "outputs": [
    {
     "data": {
      "text/html": [
       "<div>\n",
       "<style scoped>\n",
       "    .dataframe tbody tr th:only-of-type {\n",
       "        vertical-align: middle;\n",
       "    }\n",
       "\n",
       "    .dataframe tbody tr th {\n",
       "        vertical-align: top;\n",
       "    }\n",
       "\n",
       "    .dataframe thead th {\n",
       "        text-align: right;\n",
       "    }\n",
       "</style>\n",
       "<table border=\"1\" class=\"dataframe\">\n",
       "  <thead>\n",
       "    <tr style=\"text-align: right;\">\n",
       "      <th></th>\n",
       "      <th>county</th>\n",
       "      <th>month</th>\n",
       "      <th>DATE</th>\n",
       "      <th>STATION</th>\n",
       "      <th>PRCP</th>\n",
       "      <th>rained</th>\n",
       "      <th>county_DATE</th>\n",
       "    </tr>\n",
       "  </thead>\n",
       "  <tbody>\n",
       "    <tr>\n",
       "      <th>35231</th>\n",
       "      <td>Calaveras</td>\n",
       "      <td>2</td>\n",
       "      <td>2019-02-09</td>\n",
       "      <td>USC00041277</td>\n",
       "      <td>0.22</td>\n",
       "      <td>1</td>\n",
       "      <td>Calaveras___2019-02-09</td>\n",
       "    </tr>\n",
       "    <tr>\n",
       "      <th>93040</th>\n",
       "      <td>Inyo</td>\n",
       "      <td>9</td>\n",
       "      <td>2003-09-14</td>\n",
       "      <td>USC00040820</td>\n",
       "      <td>0.00</td>\n",
       "      <td>0</td>\n",
       "      <td>Inyo___2003-09-14</td>\n",
       "    </tr>\n",
       "    <tr>\n",
       "      <th>338232</th>\n",
       "      <td>Sonoma</td>\n",
       "      <td>9</td>\n",
       "      <td>2001-09-01</td>\n",
       "      <td>USC00043191</td>\n",
       "      <td>0.00</td>\n",
       "      <td>0</td>\n",
       "      <td>Sonoma___2001-09-01</td>\n",
       "    </tr>\n",
       "    <tr>\n",
       "      <th>52339</th>\n",
       "      <td>Del_Norte</td>\n",
       "      <td>3</td>\n",
       "      <td>2010-03-22</td>\n",
       "      <td>USW00024286</td>\n",
       "      <td>0.01</td>\n",
       "      <td>1</td>\n",
       "      <td>Del_Norte___2010-03-22</td>\n",
       "    </tr>\n",
       "    <tr>\n",
       "      <th>259786</th>\n",
       "      <td>San_Diego</td>\n",
       "      <td>2</td>\n",
       "      <td>2015-02-05</td>\n",
       "      <td>US1CASD0090</td>\n",
       "      <td>0.00</td>\n",
       "      <td>0</td>\n",
       "      <td>San_Diego___2015-02-05</td>\n",
       "    </tr>\n",
       "  </tbody>\n",
       "</table>\n",
       "</div>"
      ],
      "text/plain": [
       "           county  month        DATE      STATION  PRCP  rained  \\\n",
       "35231   Calaveras      2  2019-02-09  USC00041277  0.22       1   \n",
       "93040        Inyo      9  2003-09-14  USC00040820  0.00       0   \n",
       "338232     Sonoma      9  2001-09-01  USC00043191  0.00       0   \n",
       "52339   Del_Norte      3  2010-03-22  USW00024286  0.01       1   \n",
       "259786  San_Diego      2  2015-02-05  US1CASD0090  0.00       0   \n",
       "\n",
       "                   county_DATE  \n",
       "35231   Calaveras___2019-02-09  \n",
       "93040        Inyo___2003-09-14  \n",
       "338232     Sonoma___2001-09-01  \n",
       "52339   Del_Norte___2010-03-22  \n",
       "259786  San_Diego___2015-02-05  "
      ]
     },
     "execution_count": 3,
     "metadata": {},
     "output_type": "execute_result"
    }
   ],
   "source": [
    "df_ca_PRCP.sample(5)"
   ]
  },
  {
   "cell_type": "code",
   "execution_count": 4,
   "metadata": {},
   "outputs": [],
   "source": [
    "## We'll use just two features, county and month\n",
    "## Target is whether or not it rained\n",
    "X = df_ca_PRCP.loc[:,['county','month']]\n",
    "y = df_ca_PRCP.rained.values"
   ]
  },
  {
   "cell_type": "code",
   "execution_count": 5,
   "metadata": {},
   "outputs": [],
   "source": [
    "X_trva, X_test, y_trva, y_test = train_test_split(X,y, test_size = 70000)\n",
    "X_train_big, X_valid, y_train_big, y_valid = train_test_split(X_trva, y_trva, test_size = 10000)"
   ]
  },
  {
   "cell_type": "code",
   "execution_count": 6,
   "metadata": {},
   "outputs": [],
   "source": [
    "num_train_pts = 1000\n",
    "X_train = X_train_big.iloc[:num_train_pts,:]\n",
    "y_train = y_train_big[:num_train_pts]"
   ]
  },
  {
   "cell_type": "code",
   "execution_count": 7,
   "metadata": {},
   "outputs": [
    {
     "data": {
      "text/plain": [
       "{'default_categorical_method': 'span_tree',\n",
       " 'default_num_span_trees': 1,\n",
       " 'default_contraction_size': 9,\n",
       " 'default_contract_enum_max_splits_to_search': 25,\n",
       " 'default_numerical_max_splits_to_search': 25}"
      ]
     },
     "execution_count": 7,
     "metadata": {},
     "output_type": "execute_result"
    }
   ],
   "source": [
    "default_configs = stb.default_config_dict()\n",
    "default_configs"
   ]
  },
  {
   "cell_type": "code",
   "execution_count": 8,
   "metadata": {},
   "outputs": [
    {
     "data": {
      "text/plain": [
       "{'county': {'feature_type': 'categorical_str',\n",
       "  'graph': <graphs.graph_undirected at 0x1107146d8>,\n",
       "  'split_method': 'span_tree',\n",
       "  'num_span_trees': 1},\n",
       " 'month': {'feature_type': 'numerical', 'max_splits_to_search': 25}}"
      ]
     },
     "execution_count": 8,
     "metadata": {},
     "output_type": "execute_result"
    }
   ],
   "source": [
    "feature_configs_default = stb.get_basic_config(X_train, default_configs)\n",
    "feature_configs_default"
   ]
  },
  {
   "cell_type": "code",
   "execution_count": 9,
   "metadata": {},
   "outputs": [],
   "source": [
    "stboost_CA_def = stb.StructureBoost(num_trees = 2500,\n",
    "                                    learning_rate=.02,\n",
    "                                    feature_configs=feature_configs_default, \n",
    "                                    max_depth=2,\n",
    "                                    mode='classification')"
   ]
  },
  {
   "cell_type": "code",
   "execution_count": 10,
   "metadata": {
    "scrolled": true
   },
   "outputs": [
    {
     "name": "stdout",
     "output_type": "stream",
     "text": [
      "i=0, eval_set_log_loss = 0.30470751384716727\n",
      "i=20, eval_set_log_loss = 0.2825339871660573\n",
      "i=40, eval_set_log_loss = 0.27464135285139607\n",
      "i=60, eval_set_log_loss = 0.2691100875442132\n",
      "i=80, eval_set_log_loss = 0.2681711265306045\n",
      "i=100, eval_set_log_loss = 0.26794133719429203\n",
      "i=120, eval_set_log_loss = 0.26653040329200894\n",
      "i=140, eval_set_log_loss = 0.2660143717750938\n",
      "i=160, eval_set_log_loss = 0.26296295568504885\n",
      "i=180, eval_set_log_loss = 0.2625737662964804\n",
      "i=200, eval_set_log_loss = 0.2635148381333408\n",
      "Stopping early: curr_loss of 0.2635148381333408\n",
      "                                        exceeds compare_loss of 0.2625737662964804\n"
     ]
    }
   ],
   "source": [
    "stboost_CA_def.fit(X_train, y_train, \n",
    "                   eval_set = ((X_valid, y_valid)), \n",
    "                   early_stop_past_steps=1, \n",
    "                   eval_freq=20)"
   ]
  },
  {
   "cell_type": "code",
   "execution_count": 11,
   "metadata": {},
   "outputs": [],
   "source": [
    "pred_probs = stboost_CA_def.predict(X_test)"
   ]
  },
  {
   "cell_type": "code",
   "execution_count": 12,
   "metadata": {},
   "outputs": [
    {
     "data": {
      "text/plain": [
       "0.4207399947148069"
      ]
     },
     "execution_count": 12,
     "metadata": {},
     "output_type": "execute_result"
    }
   ],
   "source": [
    "stb_default_loss = log_loss(y_test, pred_probs)\n",
    "stb_default_loss"
   ]
  },
  {
   "cell_type": "markdown",
   "metadata": {},
   "source": [
    "## Incorporate structure of \"County\" feature\n",
    "Right now, the county feature is using a *complete* graph, where every vertex is adjacent to every other vertex.  This represents the situation where there is essentially no structure in the different values.\n"
   ]
  },
  {
   "cell_type": "code",
   "execution_count": 13,
   "metadata": {},
   "outputs": [
    {
     "data": {
      "text/plain": [
       "(58, 1653, 1653.0)"
      ]
     },
     "execution_count": 13,
     "metadata": {},
     "output_type": "execute_result"
    }
   ],
   "source": [
    "# 1653 edges means that every vertex is adjacent to every other one\n",
    "default_graph = feature_configs_default['county']['graph']\n",
    "len(default_graph.vertices), len(default_graph.edges), 58*57/2"
   ]
  },
  {
   "cell_type": "code",
   "execution_count": 14,
   "metadata": {
    "scrolled": true
   },
   "outputs": [],
   "source": [
    "# If you look at the edges, you will see there is an edge for every pair of counties\n",
    "# whether they are adjacent or not\n",
    "default_graph.edges;"
   ]
  },
  {
   "cell_type": "markdown",
   "metadata": {},
   "source": [
    "Let's make a new config that uses the actual CA County adjacency graph. This graph is included in the package, so we don't have to build it from scratch"
   ]
  },
  {
   "cell_type": "code",
   "execution_count": 15,
   "metadata": {},
   "outputs": [
    {
     "data": {
      "text/plain": [
       "(58, 133)"
      ]
     },
     "execution_count": 15,
     "metadata": {},
     "output_type": "execute_result"
    }
   ],
   "source": [
    "county_graph = stb.graphs.CA_county_graph()\n",
    "len(county_graph.vertices), len(county_graph.edges)"
   ]
  },
  {
   "cell_type": "code",
   "execution_count": 16,
   "metadata": {
    "scrolled": true
   },
   "outputs": [],
   "source": [
    "# This graph only has edges between adjacent counties\n",
    "county_graph.edges;"
   ]
  },
  {
   "cell_type": "code",
   "execution_count": 17,
   "metadata": {},
   "outputs": [],
   "source": [
    "# Copy the default configuration, and replace \n",
    "# the complete graph (created by the 'get_default_config')\n",
    "# with the actual CA county graph\n",
    "feature_configs_1 = copy.deepcopy(feature_configs_default)\n",
    "feature_configs_1['county']['graph'] = county_graph"
   ]
  },
  {
   "cell_type": "code",
   "execution_count": 18,
   "metadata": {},
   "outputs": [
    {
     "data": {
      "text/plain": [
       "{'county': {'feature_type': 'categorical_str',\n",
       "  'graph': <graphs.graph_undirected at 0x13cf2d080>,\n",
       "  'split_method': 'span_tree',\n",
       "  'num_span_trees': 1},\n",
       " 'month': {'feature_type': 'numerical', 'max_splits_to_search': 25}}"
      ]
     },
     "execution_count": 18,
     "metadata": {},
     "output_type": "execute_result"
    }
   ],
   "source": [
    "feature_configs_1"
   ]
  },
  {
   "cell_type": "markdown",
   "metadata": {},
   "source": [
    "### Run the model with the new config"
   ]
  },
  {
   "cell_type": "code",
   "execution_count": 19,
   "metadata": {},
   "outputs": [],
   "source": [
    "stboost_CA_1 = stb.StructureBoost(num_trees = 2500,\n",
    "                                  learning_rate=.02,\n",
    "                                  feature_configs=feature_configs_1, \n",
    "                                  max_depth=2,\n",
    "                                  mode='classification')"
   ]
  },
  {
   "cell_type": "code",
   "execution_count": 20,
   "metadata": {},
   "outputs": [
    {
     "name": "stdout",
     "output_type": "stream",
     "text": [
      "i=0, eval_set_log_loss = 0.30470751384716727\n",
      "i=20, eval_set_log_loss = 0.2820092883920109\n",
      "i=40, eval_set_log_loss = 0.2729456848445308\n",
      "i=60, eval_set_log_loss = 0.2672527721504525\n",
      "i=80, eval_set_log_loss = 0.2653239438357137\n",
      "i=100, eval_set_log_loss = 0.264194013124146\n",
      "i=120, eval_set_log_loss = 0.26167533105143165\n",
      "i=140, eval_set_log_loss = 0.26117118748327706\n",
      "i=160, eval_set_log_loss = 0.25840507138617064\n",
      "i=180, eval_set_log_loss = 0.257723073703359\n",
      "i=200, eval_set_log_loss = 0.2581142055624295\n",
      "Stopping early: curr_loss of 0.2581142055624295\n",
      "                                        exceeds compare_loss of 0.257723073703359\n"
     ]
    }
   ],
   "source": [
    "stboost_CA_1.fit(X_train, y_train, \n",
    "                   eval_set = ((X_valid, y_valid)), \n",
    "                   early_stop_past_steps=1, \n",
    "                   eval_freq=20)"
   ]
  },
  {
   "cell_type": "code",
   "execution_count": 21,
   "metadata": {},
   "outputs": [],
   "source": [
    "pred_probs_1 = stboost_CA_1.predict(X_test)"
   ]
  },
  {
   "cell_type": "code",
   "execution_count": 22,
   "metadata": {},
   "outputs": [
    {
     "data": {
      "text/plain": [
       "0.41488352662292005"
      ]
     },
     "execution_count": 22,
     "metadata": {},
     "output_type": "execute_result"
    }
   ],
   "source": [
    "stb_1_loss = log_loss(y_test, pred_probs_1)\n",
    "stb_1_loss"
   ]
  },
  {
   "cell_type": "markdown",
   "metadata": {},
   "source": [
    "### Incorporating structure in the 'month' feature\n",
    "Previously we treated the month as a numerical variable.  However, doing so ignores\n",
    "the fact that December is \"adjacent\" to January in the same way that \"July\" is\n",
    "adjacent to \"August\".  To more accurately model the structure, we will represent the months\n",
    "by a \"cycle\" graph"
   ]
  },
  {
   "cell_type": "code",
   "execution_count": 23,
   "metadata": {},
   "outputs": [
    {
     "data": {
      "text/plain": [
       "({1, 2, 3, 4, 5, 6, 7, 8, 9, 10, 11, 12},\n",
       " {frozenset({3, 4}),\n",
       "  frozenset({2, 3}),\n",
       "  frozenset({11, 12}),\n",
       "  frozenset({9, 10}),\n",
       "  frozenset({1, 2}),\n",
       "  frozenset({4, 5}),\n",
       "  frozenset({6, 7}),\n",
       "  frozenset({8, 9}),\n",
       "  frozenset({7, 8}),\n",
       "  frozenset({1, 12}),\n",
       "  frozenset({5, 6}),\n",
       "  frozenset({10, 11})})"
      ]
     },
     "execution_count": 23,
     "metadata": {},
     "output_type": "execute_result"
    }
   ],
   "source": [
    "month_graph = stb.graphs.cycle_int_graph(1,12)\n",
    "month_graph.vertices, month_graph.edges"
   ]
  },
  {
   "cell_type": "code",
   "execution_count": 24,
   "metadata": {},
   "outputs": [
    {
     "data": {
      "text/plain": [
       "{'county': {'feature_type': 'categorical_str',\n",
       "  'graph': <graphs.graph_undirected at 0x13cf2df28>,\n",
       "  'split_method': 'span_tree',\n",
       "  'num_span_trees': 1},\n",
       " 'month': {'feature_type': 'categorical_int',\n",
       "  'max_splits_to_search': 25,\n",
       "  'graph': <graphs.graph_undirected at 0x13d003438>}}"
      ]
     },
     "execution_count": 24,
     "metadata": {},
     "output_type": "execute_result"
    }
   ],
   "source": [
    "# Copy the previous config, and change the settings for month\n",
    "feature_configs_2 = copy.deepcopy(feature_configs_1)\n",
    "feature_configs_2['month']['feature_type'] = 'categorical_int'\n",
    "feature_configs_2['month']['graph'] = month_graph\n",
    "feature_configs_2"
   ]
  },
  {
   "cell_type": "code",
   "execution_count": 25,
   "metadata": {},
   "outputs": [
    {
     "data": {
      "text/plain": [
       "{'default_categorical_method': 'span_tree',\n",
       " 'default_num_span_trees': 1,\n",
       " 'default_contraction_size': 9,\n",
       " 'default_contract_enum_max_splits_to_search': 25,\n",
       " 'default_numerical_max_splits_to_search': 25}"
      ]
     },
     "execution_count": 25,
     "metadata": {},
     "output_type": "execute_result"
    }
   ],
   "source": [
    "default_configs"
   ]
  },
  {
   "cell_type": "code",
   "execution_count": 26,
   "metadata": {},
   "outputs": [
    {
     "data": {
      "text/plain": [
       "{'county': {'feature_type': 'categorical_str',\n",
       "  'graph': <graphs.graph_undirected at 0x13cf2df28>,\n",
       "  'split_method': 'span_tree',\n",
       "  'num_span_trees': 1},\n",
       " 'month': {'feature_type': 'categorical_int',\n",
       "  'max_splits_to_search': 25,\n",
       "  'graph': <graphs.graph_undirected at 0x13d003438>,\n",
       "  'split_method': 'span_tree',\n",
       "  'num_span_trees': 1}}"
      ]
     },
     "execution_count": 26,
     "metadata": {},
     "output_type": "execute_result"
    }
   ],
   "source": [
    "feature_configs_2 = stb.apply_defaults(feature_configs_2, default_configs)\n",
    "feature_configs_2\n",
    "    "
   ]
  },
  {
   "cell_type": "code",
   "execution_count": 27,
   "metadata": {},
   "outputs": [],
   "source": [
    "stboost_CA_2 = stb.StructureBoost(num_trees = 2500,\n",
    "                                  learning_rate=.02,\n",
    "                                  feature_configs=feature_configs_2, \n",
    "                                  max_depth=2,\n",
    "                                  mode='classification',\n",
    "                                  loss_fn='entropy')"
   ]
  },
  {
   "cell_type": "code",
   "execution_count": 28,
   "metadata": {
    "scrolled": true
   },
   "outputs": [
    {
     "name": "stdout",
     "output_type": "stream",
     "text": [
      "i=0, eval_set_log_loss = 0.30470751384716727\n",
      "i=20, eval_set_log_loss = 0.28073725937933014\n",
      "i=40, eval_set_log_loss = 0.2705290790572338\n",
      "i=60, eval_set_log_loss = 0.2635102217535028\n",
      "i=80, eval_set_log_loss = 0.26082585474221887\n",
      "i=100, eval_set_log_loss = 0.26030615427055237\n",
      "i=120, eval_set_log_loss = 0.2585064760940734\n",
      "i=140, eval_set_log_loss = 0.25816707212182555\n",
      "i=160, eval_set_log_loss = 0.2556342081843798\n",
      "i=180, eval_set_log_loss = 0.255506337493032\n",
      "i=200, eval_set_log_loss = 0.2563616988557239\n",
      "Stopping early: curr_loss of 0.2563616988557239\n",
      "                                        exceeds compare_loss of 0.255506337493032\n"
     ]
    }
   ],
   "source": [
    "stboost_CA_2.fit(X_train, y_train, \n",
    "                   eval_set = ((X_valid, y_valid)), \n",
    "                   early_stop_past_steps=1, \n",
    "                   eval_freq=20)"
   ]
  },
  {
   "cell_type": "code",
   "execution_count": 29,
   "metadata": {},
   "outputs": [],
   "source": [
    "pred_probs_2 = stboost_CA_2.predict(X_test)"
   ]
  },
  {
   "cell_type": "code",
   "execution_count": 30,
   "metadata": {},
   "outputs": [
    {
     "data": {
      "text/plain": [
       "0.41221413014323555"
      ]
     },
     "execution_count": 30,
     "metadata": {},
     "output_type": "execute_result"
    }
   ],
   "source": [
    "stb_2_loss = log_loss(y_test, pred_probs_2)\n",
    "stb_2_loss"
   ]
  },
  {
   "cell_type": "code",
   "execution_count": null,
   "metadata": {},
   "outputs": [],
   "source": []
  },
  {
   "cell_type": "code",
   "execution_count": 31,
   "metadata": {},
   "outputs": [],
   "source": [
    "import catboost as cb"
   ]
  },
  {
   "cell_type": "code",
   "execution_count": 32,
   "metadata": {},
   "outputs": [],
   "source": [
    "cat_features = ['county']\n",
    "cb1 = cb.CatBoostClassifier(iterations=2500, early_stopping_rounds=20, max_depth=2,\n",
    "                             learning_rate=.02, cat_features=cat_features)"
   ]
  },
  {
   "cell_type": "code",
   "execution_count": 33,
   "metadata": {
    "scrolled": true
   },
   "outputs": [
    {
     "name": "stdout",
     "output_type": "stream",
     "text": [
      "0:\tlearn: 0.6819753\ttest: 0.6820015\tbest: 0.6820015 (0)\ttotal: 56.7ms\tremaining: 2m 21s\n",
      "25:\tlearn: 0.5110601\ttest: 0.5112570\tbest: 0.5112570 (25)\ttotal: 100ms\tremaining: 9.56s\n",
      "50:\tlearn: 0.4563865\ttest: 0.4584775\tbest: 0.4584775 (50)\ttotal: 131ms\tremaining: 6.27s\n",
      "75:\tlearn: 0.4358038\ttest: 0.4402527\tbest: 0.4402527 (75)\ttotal: 159ms\tremaining: 5.07s\n",
      "100:\tlearn: 0.4262112\ttest: 0.4321280\tbest: 0.4321280 (100)\ttotal: 187ms\tremaining: 4.44s\n",
      "125:\tlearn: 0.4169196\ttest: 0.4251842\tbest: 0.4251842 (125)\ttotal: 214ms\tremaining: 4.04s\n",
      "150:\tlearn: 0.4128215\ttest: 0.4227207\tbest: 0.4227207 (150)\ttotal: 241ms\tremaining: 3.75s\n",
      "175:\tlearn: 0.4094387\ttest: 0.4213565\tbest: 0.4213565 (175)\ttotal: 269ms\tremaining: 3.56s\n",
      "200:\tlearn: 0.4073417\ttest: 0.4201174\tbest: 0.4201174 (200)\ttotal: 299ms\tremaining: 3.42s\n",
      "225:\tlearn: 0.4052567\ttest: 0.4194354\tbest: 0.4194354 (225)\ttotal: 327ms\tremaining: 3.29s\n",
      "250:\tlearn: 0.4031150\ttest: 0.4184901\tbest: 0.4184901 (250)\ttotal: 355ms\tremaining: 3.18s\n",
      "275:\tlearn: 0.4016703\ttest: 0.4179699\tbest: 0.4179454 (274)\ttotal: 383ms\tremaining: 3.09s\n",
      "300:\tlearn: 0.4005798\ttest: 0.4178537\tbest: 0.4178320 (297)\ttotal: 411ms\tremaining: 3s\n",
      "325:\tlearn: 0.3985320\ttest: 0.4175019\tbest: 0.4175019 (325)\ttotal: 440ms\tremaining: 2.93s\n",
      "350:\tlearn: 0.3969011\ttest: 0.4175218\tbest: 0.4173752 (340)\ttotal: 469ms\tremaining: 2.87s\n",
      "Stopped by overfitting detector  (20 iterations wait)\n",
      "\n",
      "bestTest = 0.4173752435\n",
      "bestIteration = 340\n",
      "\n",
      "Shrink model to first 341 iterations.\n"
     ]
    },
    {
     "data": {
      "text/plain": [
       "<catboost.core.CatBoostClassifier at 0x143077780>"
      ]
     },
     "execution_count": 33,
     "metadata": {},
     "output_type": "execute_result"
    }
   ],
   "source": [
    "cb1.fit(X_train, y_train, cat_features, eval_set=(X_valid, y_valid), verbose=25)"
   ]
  },
  {
   "cell_type": "code",
   "execution_count": 34,
   "metadata": {},
   "outputs": [],
   "source": [
    "pred_probs_cb1 = cb1.predict_proba(X_test)"
   ]
  },
  {
   "cell_type": "code",
   "execution_count": null,
   "metadata": {},
   "outputs": [],
   "source": []
  },
  {
   "cell_type": "code",
   "execution_count": 35,
   "metadata": {},
   "outputs": [
    {
     "data": {
      "text/plain": [
       "0.42137835844026195"
      ]
     },
     "execution_count": 35,
     "metadata": {},
     "output_type": "execute_result"
    }
   ],
   "source": [
    "cb1_loss = log_loss(y_test, pred_probs_cb1)\n",
    "cb1_loss"
   ]
  },
  {
   "cell_type": "code",
   "execution_count": null,
   "metadata": {},
   "outputs": [],
   "source": []
  },
  {
   "cell_type": "code",
   "execution_count": null,
   "metadata": {},
   "outputs": [],
   "source": []
  },
  {
   "cell_type": "code",
   "execution_count": 36,
   "metadata": {},
   "outputs": [],
   "source": [
    "cat_features = ['county', 'month']\n",
    "cb2 = cb.CatBoostClassifier(iterations=1500, early_stopping_rounds=20, max_depth=2,\n",
    "                             learning_rate=.02, cat_features=cat_features)"
   ]
  },
  {
   "cell_type": "code",
   "execution_count": 37,
   "metadata": {
    "scrolled": true
   },
   "outputs": [
    {
     "name": "stdout",
     "output_type": "stream",
     "text": [
      "0:\tlearn: 0.6799462\ttest: 0.6801343\tbest: 0.6801343 (0)\ttotal: 2.6ms\tremaining: 3.9s\n",
      "25:\tlearn: 0.5083886\ttest: 0.5039575\tbest: 0.5039575 (25)\ttotal: 35.4ms\tremaining: 2.01s\n",
      "50:\tlearn: 0.4550643\ttest: 0.4495641\tbest: 0.4495641 (50)\ttotal: 71.5ms\tremaining: 2.03s\n",
      "75:\tlearn: 0.4324459\ttest: 0.4281425\tbest: 0.4281425 (75)\ttotal: 101ms\tremaining: 1.9s\n",
      "100:\tlearn: 0.4248116\ttest: 0.4223347\tbest: 0.4223347 (100)\ttotal: 133ms\tremaining: 1.84s\n",
      "125:\tlearn: 0.4191064\ttest: 0.4193370\tbest: 0.4193370 (125)\ttotal: 162ms\tremaining: 1.77s\n",
      "150:\tlearn: 0.4150074\ttest: 0.4181670\tbest: 0.4181670 (150)\ttotal: 195ms\tremaining: 1.74s\n",
      "175:\tlearn: 0.4126938\ttest: 0.4177484\tbest: 0.4177484 (175)\ttotal: 225ms\tremaining: 1.69s\n",
      "200:\tlearn: 0.4110198\ttest: 0.4174588\tbest: 0.4174588 (200)\ttotal: 255ms\tremaining: 1.65s\n",
      "225:\tlearn: 0.4099088\ttest: 0.4173291\tbest: 0.4173254 (223)\ttotal: 285ms\tremaining: 1.6s\n",
      "250:\tlearn: 0.4087219\ttest: 0.4173688\tbest: 0.4172857 (230)\ttotal: 314ms\tremaining: 1.56s\n",
      "Stopped by overfitting detector  (20 iterations wait)\n",
      "\n",
      "bestTest = 0.4172856932\n",
      "bestIteration = 230\n",
      "\n",
      "Shrink model to first 231 iterations.\n"
     ]
    },
    {
     "data": {
      "text/plain": [
       "<catboost.core.CatBoostClassifier at 0x1406c37b8>"
      ]
     },
     "execution_count": 37,
     "metadata": {},
     "output_type": "execute_result"
    }
   ],
   "source": [
    "cb2.fit(X_train, y_train, cat_features, eval_set=(X_valid, y_valid), verbose=25)"
   ]
  },
  {
   "cell_type": "code",
   "execution_count": 38,
   "metadata": {},
   "outputs": [],
   "source": [
    "pred_probs_cb2 = cb2.predict_proba(X_test)"
   ]
  },
  {
   "cell_type": "code",
   "execution_count": 39,
   "metadata": {},
   "outputs": [
    {
     "data": {
      "text/plain": [
       "0.42065301005902733"
      ]
     },
     "execution_count": 39,
     "metadata": {},
     "output_type": "execute_result"
    }
   ],
   "source": [
    "cb2_loss = log_loss(y_test, pred_probs_cb2)\n",
    "cb2_loss"
   ]
  },
  {
   "cell_type": "markdown",
   "metadata": {},
   "source": [
    "### Summary of results"
   ]
  },
  {
   "cell_type": "code",
   "execution_count": 40,
   "metadata": {},
   "outputs": [
    {
     "name": "stdout",
     "output_type": "stream",
     "text": [
      "StructureBoost (w no Structure):             loss = 0.42074\n",
      "StructureBoost w County Structure:           loss = 0.41488\n",
      "StructureBoost w County+Month Structure:     loss = 0.41221\n",
      "CatBoost:  (County categorical)              loss = 0.42138\n",
      "CatBoost:  (County, Month categorical)       loss = 0.42065\n"
     ]
    }
   ],
   "source": [
    "print('StructureBoost (w no Structure):             loss = {}'.format(np.round(stb_default_loss, 5)))\n",
    "print('StructureBoost w County Structure:           loss = {}'.format(np.round(stb_1_loss,5)))\n",
    "print('StructureBoost w County+Month Structure:     loss = {}'.format(np.round(stb_2_loss,5)))\n",
    "print('CatBoost:  (County categorical)              loss = {}'.format(np.round(cb1_loss,5)))\n",
    "print('CatBoost:  (County, Month categorical)       loss = {}'.format(np.round(cb2_loss,5)))"
   ]
  },
  {
   "cell_type": "code",
   "execution_count": null,
   "metadata": {},
   "outputs": [],
   "source": []
  },
  {
   "cell_type": "markdown",
   "metadata": {},
   "source": [
    "## Repeat multiple trials to show results aren't noise\n",
    "In case you think the above results are just noise, let's run multiple trials and compare."
   ]
  },
  {
   "cell_type": "code",
   "execution_count": 41,
   "metadata": {
    "scrolled": true
   },
   "outputs": [
    {
     "name": "stdout",
     "output_type": "stream",
     "text": [
      "i=0, eval_set_log_loss = 0.32913163088919645\n",
      "i=20, eval_set_log_loss = 0.30568408321873275\n",
      "i=40, eval_set_log_loss = 0.2976570441967077\n",
      "i=60, eval_set_log_loss = 0.29477411287661714\n",
      "i=80, eval_set_log_loss = 0.291514853059641\n",
      "i=100, eval_set_log_loss = 0.28849017963294954\n",
      "i=120, eval_set_log_loss = 0.2871746936030187\n",
      "i=140, eval_set_log_loss = 0.28776707993936307\n",
      "Stopping early: curr_loss of 0.28776707993936307\n",
      "                                        exceeds compare_loss of 0.2871746936030187\n",
      "i=0, eval_set_log_loss = 0.32913163088919645\n",
      "i=20, eval_set_log_loss = 0.3046327359529405\n",
      "i=40, eval_set_log_loss = 0.2936356391202663\n",
      "i=60, eval_set_log_loss = 0.28949039583502656\n",
      "i=80, eval_set_log_loss = 0.2858321939889164\n",
      "i=100, eval_set_log_loss = 0.2832541483413318\n",
      "i=120, eval_set_log_loss = 0.2816698698017459\n",
      "i=140, eval_set_log_loss = 0.2828234106386253\n",
      "Stopping early: curr_loss of 0.2828234106386253\n",
      "                                        exceeds compare_loss of 0.2816698698017459\n",
      "i=0, eval_set_log_loss = 0.32913163088919645\n",
      "i=20, eval_set_log_loss = 0.30241157323065787\n",
      "i=40, eval_set_log_loss = 0.29106464044425256\n",
      "i=60, eval_set_log_loss = 0.2858718498997948\n",
      "i=80, eval_set_log_loss = 0.28114280432834793\n",
      "i=100, eval_set_log_loss = 0.27935127320228487\n",
      "i=120, eval_set_log_loss = 0.2775234316564432\n",
      "i=140, eval_set_log_loss = 0.27834399619115646\n",
      "Stopping early: curr_loss of 0.27834399619115646\n",
      "                                        exceeds compare_loss of 0.2775234316564432\n",
      "0:\tlearn: 0.6807343\ttest: 0.6814570\tbest: 0.6814570 (0)\ttotal: 2.36ms\tremaining: 5.91s\n",
      "25:\tlearn: 0.4859285\ttest: 0.5037415\tbest: 0.5037415 (25)\ttotal: 48.6ms\tremaining: 4.63s\n",
      "50:\tlearn: 0.4264926\ttest: 0.4537605\tbest: 0.4537605 (50)\ttotal: 81.9ms\tremaining: 3.93s\n",
      "75:\tlearn: 0.4018494\ttest: 0.4365783\tbest: 0.4365783 (75)\ttotal: 111ms\tremaining: 3.55s\n",
      "100:\tlearn: 0.3882659\ttest: 0.4295005\tbest: 0.4295005 (100)\ttotal: 141ms\tremaining: 3.35s\n",
      "125:\tlearn: 0.3803153\ttest: 0.4267256\tbest: 0.4266977 (124)\ttotal: 171ms\tremaining: 3.22s\n",
      "Stopped by overfitting detector  (20 iterations wait)\n",
      "\n",
      "bestTest = 0.4266977439\n",
      "bestIteration = 124\n",
      "\n",
      "Shrink model to first 125 iterations.\n",
      "0:\tlearn: 0.6785949\ttest: 0.6799009\tbest: 0.6799009 (0)\ttotal: 2.56ms\tremaining: 6.41s\n",
      "25:\tlearn: 0.4888483\ttest: 0.4989188\tbest: 0.4989188 (25)\ttotal: 38.3ms\tremaining: 3.65s\n",
      "50:\tlearn: 0.4268449\ttest: 0.4483936\tbest: 0.4483936 (50)\ttotal: 76.4ms\tremaining: 3.67s\n",
      "75:\tlearn: 0.4033152\ttest: 0.4323257\tbest: 0.4323257 (75)\ttotal: 112ms\tremaining: 3.56s\n",
      "100:\tlearn: 0.3924828\ttest: 0.4272790\tbest: 0.4272790 (100)\ttotal: 148ms\tremaining: 3.51s\n",
      "125:\tlearn: 0.3864282\ttest: 0.4259642\tbest: 0.4259642 (125)\ttotal: 183ms\tremaining: 3.45s\n",
      "150:\tlearn: 0.3824639\ttest: 0.4259216\tbest: 0.4257447 (141)\ttotal: 214ms\tremaining: 3.33s\n",
      "Stopped by overfitting detector  (20 iterations wait)\n",
      "\n",
      "bestTest = 0.4257447185\n",
      "bestIteration = 141\n",
      "\n",
      "Shrink model to first 142 iterations.\n",
      "i=0, eval_set_log_loss = 0.3328157961615375\n",
      "i=20, eval_set_log_loss = 0.3179440632913685\n",
      "i=40, eval_set_log_loss = 0.3077924384096841\n",
      "i=60, eval_set_log_loss = 0.3035933190237878\n",
      "i=80, eval_set_log_loss = 0.2998038300398714\n",
      "i=100, eval_set_log_loss = 0.2977045670150994\n",
      "i=120, eval_set_log_loss = 0.2965490154654678\n",
      "i=140, eval_set_log_loss = 0.2954010058502124\n",
      "i=160, eval_set_log_loss = 0.29606508265410264\n",
      "Stopping early: curr_loss of 0.29606508265410264\n",
      "                                        exceeds compare_loss of 0.2954010058502124\n",
      "i=0, eval_set_log_loss = 0.3328157961615375\n",
      "i=20, eval_set_log_loss = 0.315139189343827\n",
      "i=40, eval_set_log_loss = 0.30367367859044414\n",
      "i=60, eval_set_log_loss = 0.29830498112203324\n",
      "i=80, eval_set_log_loss = 0.2917366935225364\n",
      "i=100, eval_set_log_loss = 0.28924612322600896\n",
      "i=120, eval_set_log_loss = 0.28717452701658785\n",
      "i=140, eval_set_log_loss = 0.2862087500002032\n",
      "i=160, eval_set_log_loss = 0.2858342649346898\n",
      "i=180, eval_set_log_loss = 0.28585623053592263\n",
      "Stopping early: curr_loss of 0.28585623053592263\n",
      "                                        exceeds compare_loss of 0.2858342649346898\n",
      "i=0, eval_set_log_loss = 0.3328157961615375\n",
      "i=20, eval_set_log_loss = 0.3139191039392741\n",
      "i=40, eval_set_log_loss = 0.3007737406521039\n",
      "i=60, eval_set_log_loss = 0.2941849961557257\n",
      "i=80, eval_set_log_loss = 0.2883647089913791\n",
      "i=100, eval_set_log_loss = 0.2851358095093588\n",
      "i=120, eval_set_log_loss = 0.28363692622799547\n",
      "i=140, eval_set_log_loss = 0.28297760789043286\n",
      "i=160, eval_set_log_loss = 0.28269844919984816\n",
      "i=180, eval_set_log_loss = 0.28237242332646245\n",
      "i=200, eval_set_log_loss = 0.2826540794119046\n",
      "Stopping early: curr_loss of 0.2826540794119046\n",
      "                                        exceeds compare_loss of 0.28237242332646245\n",
      "0:\tlearn: 0.6801880\ttest: 0.6809087\tbest: 0.6809087 (0)\ttotal: 2.28ms\tremaining: 5.7s\n",
      "25:\tlearn: 0.4902938\ttest: 0.5042408\tbest: 0.5042408 (25)\ttotal: 49.2ms\tremaining: 4.68s\n",
      "50:\tlearn: 0.4328147\ttest: 0.4564713\tbest: 0.4564713 (50)\ttotal: 78.2ms\tremaining: 3.75s\n",
      "75:\tlearn: 0.4114803\ttest: 0.4414085\tbest: 0.4414085 (75)\ttotal: 107ms\tremaining: 3.41s\n",
      "100:\tlearn: 0.4016346\ttest: 0.4362878\tbest: 0.4362782 (99)\ttotal: 134ms\tremaining: 3.18s\n",
      "125:\tlearn: 0.3955293\ttest: 0.4339323\tbest: 0.4339323 (125)\ttotal: 162ms\tremaining: 3.05s\n",
      "150:\tlearn: 0.3920526\ttest: 0.4327742\tbest: 0.4327742 (150)\ttotal: 189ms\tremaining: 2.94s\n",
      "175:\tlearn: 0.3889582\ttest: 0.4312221\tbest: 0.4310950 (170)\ttotal: 221ms\tremaining: 2.92s\n",
      "200:\tlearn: 0.3861677\ttest: 0.4297832\tbest: 0.4297832 (200)\ttotal: 249ms\tremaining: 2.85s\n",
      "225:\tlearn: 0.3848153\ttest: 0.4293697\tbest: 0.4293660 (224)\ttotal: 276ms\tremaining: 2.78s\n",
      "250:\tlearn: 0.3826817\ttest: 0.4283996\tbest: 0.4283690 (248)\ttotal: 304ms\tremaining: 2.72s\n",
      "275:\tlearn: 0.3809107\ttest: 0.4277249\tbest: 0.4277249 (275)\ttotal: 331ms\tremaining: 2.66s\n",
      "300:\tlearn: 0.3789145\ttest: 0.4269124\tbest: 0.4268830 (299)\ttotal: 358ms\tremaining: 2.62s\n",
      "325:\tlearn: 0.3767234\ttest: 0.4261698\tbest: 0.4261698 (325)\ttotal: 385ms\tremaining: 2.57s\n",
      "350:\tlearn: 0.3752918\ttest: 0.4256919\tbest: 0.4256919 (350)\ttotal: 414ms\tremaining: 2.53s\n",
      "375:\tlearn: 0.3739873\ttest: 0.4257733\tbest: 0.4255594 (362)\ttotal: 443ms\tremaining: 2.5s\n",
      "Stopped by overfitting detector  (20 iterations wait)\n",
      "\n",
      "bestTest = 0.4255593756\n",
      "bestIteration = 362\n",
      "\n",
      "Shrink model to first 363 iterations.\n",
      "0:\tlearn: 0.6800058\ttest: 0.6797976\tbest: 0.6797976 (0)\ttotal: 2.04ms\tremaining: 5.09s\n",
      "25:\tlearn: 0.4959137\ttest: 0.5036327\tbest: 0.5036327 (25)\ttotal: 33ms\tremaining: 3.14s\n",
      "50:\tlearn: 0.4323957\ttest: 0.4463230\tbest: 0.4463230 (50)\ttotal: 61.1ms\tremaining: 2.93s\n",
      "75:\tlearn: 0.4105177\ttest: 0.4312067\tbest: 0.4312067 (75)\ttotal: 93.2ms\tremaining: 2.97s\n",
      "100:\tlearn: 0.4018184\ttest: 0.4278137\tbest: 0.4276377 (97)\ttotal: 128ms\tremaining: 3.04s\n",
      "125:\tlearn: 0.3965296\ttest: 0.4268252\tbest: 0.4267618 (124)\ttotal: 157ms\tremaining: 2.96s\n",
      "Stopped by overfitting detector  (20 iterations wait)\n",
      "\n",
      "bestTest = 0.4267618375\n",
      "bestIteration = 124\n",
      "\n",
      "Shrink model to first 125 iterations.\n",
      "i=0, eval_set_log_loss = 0.3123060062936023\n",
      "i=20, eval_set_log_loss = 0.29023037802359997\n",
      "i=40, eval_set_log_loss = 0.2806054103931242\n",
      "i=60, eval_set_log_loss = 0.2761250688770532\n",
      "i=80, eval_set_log_loss = 0.2732730084532917\n",
      "i=100, eval_set_log_loss = 0.27077983905954706\n",
      "i=120, eval_set_log_loss = 0.27045294931081915\n",
      "i=140, eval_set_log_loss = 0.2677558912651281\n",
      "i=160, eval_set_log_loss = 0.26552445740355046\n",
      "i=180, eval_set_log_loss = 0.2657318334617234\n",
      "Stopping early: curr_loss of 0.2657318334617234\n",
      "                                        exceeds compare_loss of 0.26552445740355046\n",
      "i=0, eval_set_log_loss = 0.3123060062936023\n",
      "i=20, eval_set_log_loss = 0.2892541894158397\n",
      "i=40, eval_set_log_loss = 0.2793154523803817\n",
      "i=60, eval_set_log_loss = 0.27411073826255705\n",
      "i=80, eval_set_log_loss = 0.270025551660479\n",
      "i=100, eval_set_log_loss = 0.26708862793176696\n",
      "i=120, eval_set_log_loss = 0.26692799686700136\n",
      "i=140, eval_set_log_loss = 0.2639922169538926\n",
      "i=160, eval_set_log_loss = 0.2622214485711569\n",
      "i=180, eval_set_log_loss = 0.2621083113590409\n",
      "i=200, eval_set_log_loss = 0.26272977484579646\n",
      "Stopping early: curr_loss of 0.26272977484579646\n",
      "                                        exceeds compare_loss of 0.2621083113590409\n",
      "i=0, eval_set_log_loss = 0.3123060062936023\n",
      "i=20, eval_set_log_loss = 0.2867429645985115\n",
      "i=40, eval_set_log_loss = 0.27471111435127593\n",
      "i=60, eval_set_log_loss = 0.26915132637387035\n",
      "i=80, eval_set_log_loss = 0.26480614483649895\n",
      "i=100, eval_set_log_loss = 0.26258483355787865\n",
      "i=120, eval_set_log_loss = 0.2631426483647446\n",
      "Stopping early: curr_loss of 0.2631426483647446\n",
      "                                        exceeds compare_loss of 0.26258483355787865\n",
      "0:\tlearn: 0.6804184\ttest: 0.6810503\tbest: 0.6810503 (0)\ttotal: 2.15ms\tremaining: 5.37s\n",
      "25:\tlearn: 0.4910276\ttest: 0.4997623\tbest: 0.4997623 (25)\ttotal: 56.1ms\tremaining: 5.34s\n",
      "50:\tlearn: 0.4402705\ttest: 0.4522024\tbest: 0.4522024 (50)\ttotal: 90.7ms\tremaining: 4.36s\n",
      "75:\tlearn: 0.4188100\ttest: 0.4332376\tbest: 0.4332376 (75)\ttotal: 123ms\tremaining: 3.93s\n",
      "100:\tlearn: 0.4070696\ttest: 0.4241342\tbest: 0.4241342 (100)\ttotal: 155ms\tremaining: 3.68s\n",
      "125:\tlearn: 0.4004851\ttest: 0.4194931\tbest: 0.4194931 (125)\ttotal: 197ms\tremaining: 3.71s\n",
      "150:\tlearn: 0.3955054\ttest: 0.4158448\tbest: 0.4158448 (150)\ttotal: 234ms\tremaining: 3.64s\n",
      "175:\tlearn: 0.3931823\ttest: 0.4142988\tbest: 0.4142988 (175)\ttotal: 275ms\tremaining: 3.64s\n",
      "200:\tlearn: 0.3907161\ttest: 0.4131877\tbest: 0.4131877 (200)\ttotal: 315ms\tremaining: 3.6s\n",
      "225:\tlearn: 0.3892261\ttest: 0.4122277\tbest: 0.4122277 (225)\ttotal: 355ms\tremaining: 3.57s\n",
      "250:\tlearn: 0.3874589\ttest: 0.4113704\tbest: 0.4113704 (250)\ttotal: 390ms\tremaining: 3.49s\n",
      "275:\tlearn: 0.3856593\ttest: 0.4102197\tbest: 0.4102197 (275)\ttotal: 424ms\tremaining: 3.42s\n",
      "300:\tlearn: 0.3843931\ttest: 0.4096233\tbest: 0.4096233 (300)\ttotal: 458ms\tremaining: 3.34s\n",
      "325:\tlearn: 0.3831140\ttest: 0.4089849\tbest: 0.4089849 (325)\ttotal: 491ms\tremaining: 3.27s\n",
      "350:\tlearn: 0.3820830\ttest: 0.4085703\tbest: 0.4085703 (350)\ttotal: 522ms\tremaining: 3.19s\n",
      "375:\tlearn: 0.3808121\ttest: 0.4079555\tbest: 0.4079555 (375)\ttotal: 550ms\tremaining: 3.11s\n",
      "400:\tlearn: 0.3796168\ttest: 0.4075346\tbest: 0.4075346 (400)\ttotal: 578ms\tremaining: 3.03s\n",
      "425:\tlearn: 0.3787333\ttest: 0.4073153\tbest: 0.4073153 (425)\ttotal: 611ms\tremaining: 2.98s\n",
      "450:\tlearn: 0.3775387\ttest: 0.4072971\tbest: 0.4072299 (444)\ttotal: 643ms\tremaining: 2.92s\n",
      "Stopped by overfitting detector  (20 iterations wait)\n",
      "\n",
      "bestTest = 0.4072299268\n",
      "bestIteration = 444\n",
      "\n",
      "Shrink model to first 445 iterations.\n",
      "0:\tlearn: 0.6796318\ttest: 0.6775839\tbest: 0.6775839 (0)\ttotal: 2.53ms\tremaining: 6.33s\n",
      "25:\tlearn: 0.4947397\ttest: 0.4978906\tbest: 0.4978906 (25)\ttotal: 33.7ms\tremaining: 3.21s\n",
      "50:\tlearn: 0.4349098\ttest: 0.4430599\tbest: 0.4430599 (50)\ttotal: 66.1ms\tremaining: 3.17s\n",
      "75:\tlearn: 0.4149957\ttest: 0.4260273\tbest: 0.4260273 (75)\ttotal: 98.7ms\tremaining: 3.15s\n",
      "100:\tlearn: 0.4053843\ttest: 0.4177412\tbest: 0.4177412 (100)\ttotal: 129ms\tremaining: 3.06s\n",
      "125:\tlearn: 0.4006175\ttest: 0.4137487\tbest: 0.4137487 (125)\ttotal: 158ms\tremaining: 2.97s\n",
      "150:\tlearn: 0.3979812\ttest: 0.4121252\tbest: 0.4121252 (150)\ttotal: 189ms\tremaining: 2.94s\n",
      "175:\tlearn: 0.3962197\ttest: 0.4115906\tbest: 0.4115760 (173)\ttotal: 221ms\tremaining: 2.92s\n",
      "200:\tlearn: 0.3946444\ttest: 0.4107402\tbest: 0.4107402 (200)\ttotal: 262ms\tremaining: 3s\n",
      "225:\tlearn: 0.3933497\ttest: 0.4101403\tbest: 0.4101403 (225)\ttotal: 297ms\tremaining: 2.98s\n",
      "250:\tlearn: 0.3925759\ttest: 0.4100362\tbest: 0.4100292 (248)\ttotal: 328ms\tremaining: 2.94s\n",
      "275:\tlearn: 0.3917601\ttest: 0.4097885\tbest: 0.4097692 (269)\ttotal: 360ms\tremaining: 2.9s\n",
      "300:\tlearn: 0.3910243\ttest: 0.4097241\tbest: 0.4097159 (298)\ttotal: 393ms\tremaining: 2.87s\n",
      "325:\tlearn: 0.3899957\ttest: 0.4093896\tbest: 0.4093896 (325)\ttotal: 428ms\tremaining: 2.85s\n",
      "350:\tlearn: 0.3891942\ttest: 0.4093325\tbest: 0.4093057 (336)\ttotal: 465ms\tremaining: 2.84s\n",
      "Stopped by overfitting detector  (20 iterations wait)\n",
      "\n",
      "bestTest = 0.4093056515\n",
      "bestIteration = 336\n",
      "\n",
      "Shrink model to first 337 iterations.\n",
      "i=0, eval_set_log_loss = 0.31209424022450766\n",
      "i=20, eval_set_log_loss = 0.2973381205717133\n",
      "i=40, eval_set_log_loss = 0.2884756365766905\n",
      "i=60, eval_set_log_loss = 0.2839370155903459\n",
      "i=80, eval_set_log_loss = 0.28087281111192713\n",
      "i=100, eval_set_log_loss = 0.2808607674439972\n",
      "i=120, eval_set_log_loss = 0.28029080660711564\n",
      "i=140, eval_set_log_loss = 0.27979082271333977\n",
      "i=160, eval_set_log_loss = 0.27800592984369193\n",
      "i=180, eval_set_log_loss = 0.27800373541301726\n",
      "i=200, eval_set_log_loss = 0.2779174916813511\n",
      "i=220, eval_set_log_loss = 0.27745426951543134\n",
      "i=240, eval_set_log_loss = 0.27710957959635646\n",
      "i=260, eval_set_log_loss = 0.27735773216022525\n",
      "Stopping early: curr_loss of 0.27735773216022525\n",
      "                                        exceeds compare_loss of 0.27710957959635646\n",
      "i=0, eval_set_log_loss = 0.31209424022450766\n",
      "i=20, eval_set_log_loss = 0.2941509855032145\n",
      "i=40, eval_set_log_loss = 0.2842148430681428\n",
      "i=60, eval_set_log_loss = 0.2787922339245165\n",
      "i=80, eval_set_log_loss = 0.2754476481090127\n",
      "i=100, eval_set_log_loss = 0.274731120830423\n",
      "i=120, eval_set_log_loss = 0.273612403480335\n",
      "i=140, eval_set_log_loss = 0.27299505669826984\n",
      "i=160, eval_set_log_loss = 0.27112483066373705\n",
      "i=180, eval_set_log_loss = 0.27162226221816643\n",
      "Stopping early: curr_loss of 0.27162226221816643\n",
      "                                        exceeds compare_loss of 0.27112483066373705\n",
      "i=0, eval_set_log_loss = 0.31209424022450766\n",
      "i=20, eval_set_log_loss = 0.29369616160287104\n",
      "i=40, eval_set_log_loss = 0.2815770829218395\n",
      "i=60, eval_set_log_loss = 0.2739753082687759\n",
      "i=80, eval_set_log_loss = 0.27046369784983365\n",
      "i=100, eval_set_log_loss = 0.27022161202348377\n",
      "i=120, eval_set_log_loss = 0.269966486350495\n",
      "i=140, eval_set_log_loss = 0.27014383154581695\n",
      "Stopping early: curr_loss of 0.27014383154581695\n",
      "                                        exceeds compare_loss of 0.269966486350495\n",
      "0:\tlearn: 0.6794319\ttest: 0.6794170\tbest: 0.6794170 (0)\ttotal: 1.73ms\tremaining: 4.31s\n",
      "25:\tlearn: 0.5007172\ttest: 0.5046407\tbest: 0.5046407 (25)\ttotal: 47.5ms\tremaining: 4.52s\n",
      "50:\tlearn: 0.4466370\ttest: 0.4549936\tbest: 0.4549936 (50)\ttotal: 78.4ms\tremaining: 3.76s\n",
      "75:\tlearn: 0.4278868\ttest: 0.4399138\tbest: 0.4399138 (75)\ttotal: 106ms\tremaining: 3.37s\n",
      "100:\tlearn: 0.4197920\ttest: 0.4337689\tbest: 0.4337689 (100)\ttotal: 133ms\tremaining: 3.16s\n",
      "125:\tlearn: 0.4140835\ttest: 0.4305489\tbest: 0.4305489 (125)\ttotal: 162ms\tremaining: 3.04s\n",
      "150:\tlearn: 0.4100004\ttest: 0.4286345\tbest: 0.4286345 (150)\ttotal: 190ms\tremaining: 2.95s\n",
      "175:\tlearn: 0.4078286\ttest: 0.4269742\tbest: 0.4269742 (175)\ttotal: 219ms\tremaining: 2.9s\n",
      "200:\tlearn: 0.4056362\ttest: 0.4258183\tbest: 0.4258183 (200)\ttotal: 253ms\tremaining: 2.9s\n",
      "225:\tlearn: 0.4036839\ttest: 0.4253010\tbest: 0.4253010 (225)\ttotal: 282ms\tremaining: 2.83s\n",
      "250:\tlearn: 0.4015704\ttest: 0.4243901\tbest: 0.4242259 (247)\ttotal: 309ms\tremaining: 2.77s\n",
      "275:\tlearn: 0.3998244\ttest: 0.4232590\tbest: 0.4231690 (272)\ttotal: 336ms\tremaining: 2.71s\n",
      "300:\tlearn: 0.3984508\ttest: 0.4227873\tbest: 0.4226247 (292)\ttotal: 365ms\tremaining: 2.67s\n",
      "325:\tlearn: 0.3972388\ttest: 0.4222730\tbest: 0.4222730 (325)\ttotal: 393ms\tremaining: 2.62s\n",
      "350:\tlearn: 0.3959113\ttest: 0.4221180\tbest: 0.4220463 (349)\ttotal: 423ms\tremaining: 2.59s\n",
      "375:\tlearn: 0.3946311\ttest: 0.4216485\tbest: 0.4215984 (366)\ttotal: 451ms\tremaining: 2.55s\n",
      "Stopped by overfitting detector  (20 iterations wait)\n",
      "\n",
      "bestTest = 0.4215983716\n",
      "bestIteration = 366\n",
      "\n",
      "Shrink model to first 367 iterations.\n",
      "0:\tlearn: 0.6805053\ttest: 0.6809949\tbest: 0.6809949 (0)\ttotal: 2.4ms\tremaining: 6s\n",
      "25:\tlearn: 0.5057813\ttest: 0.5080394\tbest: 0.5080394 (25)\ttotal: 41.6ms\tremaining: 3.95s\n",
      "50:\tlearn: 0.4506975\ttest: 0.4561462\tbest: 0.4561462 (50)\ttotal: 86.4ms\tremaining: 4.15s\n",
      "75:\tlearn: 0.4304496\ttest: 0.4375279\tbest: 0.4375279 (75)\ttotal: 128ms\tremaining: 4.07s\n",
      "100:\tlearn: 0.4210580\ttest: 0.4295519\tbest: 0.4295519 (100)\ttotal: 159ms\tremaining: 3.77s\n",
      "125:\tlearn: 0.4161223\ttest: 0.4255341\tbest: 0.4255341 (125)\ttotal: 189ms\tremaining: 3.56s\n",
      "150:\tlearn: 0.4132849\ttest: 0.4233640\tbest: 0.4233640 (150)\ttotal: 217ms\tremaining: 3.38s\n",
      "175:\tlearn: 0.4107981\ttest: 0.4222082\tbest: 0.4221970 (173)\ttotal: 247ms\tremaining: 3.26s\n",
      "200:\tlearn: 0.4088135\ttest: 0.4213438\tbest: 0.4213438 (200)\ttotal: 275ms\tremaining: 3.15s\n",
      "225:\tlearn: 0.4077394\ttest: 0.4212586\tbest: 0.4212491 (224)\ttotal: 306ms\tremaining: 3.08s\n",
      "250:\tlearn: 0.4064400\ttest: 0.4208198\tbest: 0.4207627 (246)\ttotal: 335ms\tremaining: 3s\n",
      "Stopped by overfitting detector  (20 iterations wait)\n",
      "\n",
      "bestTest = 0.4207626554\n",
      "bestIteration = 246\n",
      "\n",
      "Shrink model to first 247 iterations.\n",
      "i=0, eval_set_log_loss = 0.3090918052758415\n",
      "i=20, eval_set_log_loss = 0.2937952633790598\n",
      "i=40, eval_set_log_loss = 0.2862403624606415\n",
      "i=60, eval_set_log_loss = 0.2832755544950634\n",
      "i=80, eval_set_log_loss = 0.28077464992769696\n",
      "i=100, eval_set_log_loss = 0.2792339118257016\n",
      "i=120, eval_set_log_loss = 0.2753747465859848\n",
      "i=140, eval_set_log_loss = 0.27464196782664924\n",
      "i=160, eval_set_log_loss = 0.2738317395909848\n",
      "i=180, eval_set_log_loss = 0.27398568183621597\n",
      "Stopping early: curr_loss of 0.27398568183621597\n",
      "                                        exceeds compare_loss of 0.2738317395909848\n",
      "i=0, eval_set_log_loss = 0.3090918052758415\n",
      "i=20, eval_set_log_loss = 0.29227178566980233\n",
      "i=40, eval_set_log_loss = 0.28144827737215683\n",
      "i=60, eval_set_log_loss = 0.27839339873391616\n",
      "i=80, eval_set_log_loss = 0.27506372029975684\n",
      "i=100, eval_set_log_loss = 0.27255071531153097\n",
      "i=120, eval_set_log_loss = 0.2674909473393927\n",
      "i=140, eval_set_log_loss = 0.2666471686633642\n",
      "i=160, eval_set_log_loss = 0.2657533877033213\n",
      "i=180, eval_set_log_loss = 0.26659498268729326\n",
      "Stopping early: curr_loss of 0.26659498268729326\n",
      "                                        exceeds compare_loss of 0.2657533877033213\n",
      "i=0, eval_set_log_loss = 0.3090918052758415\n",
      "i=20, eval_set_log_loss = 0.28855416040741555\n",
      "i=40, eval_set_log_loss = 0.2763727712925426\n",
      "i=60, eval_set_log_loss = 0.271459892991981\n",
      "i=80, eval_set_log_loss = 0.26801550224055315\n",
      "i=100, eval_set_log_loss = 0.26602742248618244\n",
      "i=120, eval_set_log_loss = 0.26140511231366514\n",
      "i=140, eval_set_log_loss = 0.26095339690624497\n",
      "i=160, eval_set_log_loss = 0.2602958866951469\n",
      "i=180, eval_set_log_loss = 0.26135138228034804\n",
      "Stopping early: curr_loss of 0.26135138228034804\n",
      "                                        exceeds compare_loss of 0.2602958866951469\n",
      "0:\tlearn: 0.6808912\ttest: 0.6809049\tbest: 0.6809049 (0)\ttotal: 1.73ms\tremaining: 4.33s\n",
      "25:\tlearn: 0.5070723\ttest: 0.5111680\tbest: 0.5111680 (25)\ttotal: 41.8ms\tremaining: 3.97s\n",
      "50:\tlearn: 0.4483088\ttest: 0.4554285\tbest: 0.4554285 (50)\ttotal: 82.7ms\tremaining: 3.97s\n",
      "75:\tlearn: 0.4286614\ttest: 0.4381777\tbest: 0.4381777 (75)\ttotal: 112ms\tremaining: 3.58s\n",
      "100:\tlearn: 0.4190301\ttest: 0.4306789\tbest: 0.4306789 (100)\ttotal: 143ms\tremaining: 3.4s\n",
      "125:\tlearn: 0.4129908\ttest: 0.4260258\tbest: 0.4260258 (125)\ttotal: 172ms\tremaining: 3.23s\n",
      "150:\tlearn: 0.4084945\ttest: 0.4232895\tbest: 0.4232895 (150)\ttotal: 201ms\tremaining: 3.13s\n",
      "175:\tlearn: 0.4050595\ttest: 0.4208898\tbest: 0.4208898 (175)\ttotal: 230ms\tremaining: 3.04s\n",
      "200:\tlearn: 0.4014731\ttest: 0.4187396\tbest: 0.4187061 (199)\ttotal: 259ms\tremaining: 2.96s\n",
      "225:\tlearn: 0.3990198\ttest: 0.4178059\tbest: 0.4178059 (225)\ttotal: 287ms\tremaining: 2.89s\n",
      "250:\tlearn: 0.3974367\ttest: 0.4169111\tbest: 0.4169045 (249)\ttotal: 316ms\tremaining: 2.83s\n",
      "275:\tlearn: 0.3958373\ttest: 0.4158989\tbest: 0.4158989 (275)\ttotal: 344ms\tremaining: 2.77s\n",
      "300:\tlearn: 0.3943719\ttest: 0.4151631\tbest: 0.4151631 (300)\ttotal: 372ms\tremaining: 2.72s\n",
      "325:\tlearn: 0.3925244\ttest: 0.4145282\tbest: 0.4145282 (325)\ttotal: 404ms\tremaining: 2.69s\n",
      "350:\tlearn: 0.3912992\ttest: 0.4144813\tbest: 0.4144624 (335)\ttotal: 440ms\tremaining: 2.69s\n",
      "Stopped by overfitting detector  (20 iterations wait)\n",
      "\n",
      "bestTest = 0.4144623679\n",
      "bestIteration = 335\n",
      "\n",
      "Shrink model to first 336 iterations.\n",
      "0:\tlearn: 0.6811246\ttest: 0.6818517\tbest: 0.6818517 (0)\ttotal: 2.61ms\tremaining: 6.52s\n",
      "25:\tlearn: 0.5086245\ttest: 0.5086752\tbest: 0.5086752 (25)\ttotal: 38.7ms\tremaining: 3.69s\n",
      "50:\tlearn: 0.4531952\ttest: 0.4556767\tbest: 0.4556767 (50)\ttotal: 68.9ms\tremaining: 3.31s\n",
      "75:\tlearn: 0.4315935\ttest: 0.4355554\tbest: 0.4355554 (75)\ttotal: 98.2ms\tremaining: 3.13s\n",
      "100:\tlearn: 0.4216929\ttest: 0.4278442\tbest: 0.4278442 (100)\ttotal: 133ms\tremaining: 3.17s\n",
      "125:\tlearn: 0.4164549\ttest: 0.4239663\tbest: 0.4239663 (125)\ttotal: 163ms\tremaining: 3.06s\n",
      "150:\tlearn: 0.4128960\ttest: 0.4215877\tbest: 0.4215863 (149)\ttotal: 192ms\tremaining: 2.99s\n",
      "175:\tlearn: 0.4107045\ttest: 0.4203100\tbest: 0.4203100 (175)\ttotal: 223ms\tremaining: 2.94s\n",
      "200:\tlearn: 0.4089318\ttest: 0.4199677\tbest: 0.4199677 (200)\ttotal: 253ms\tremaining: 2.89s\n",
      "225:\tlearn: 0.4073560\ttest: 0.4189511\tbest: 0.4189511 (225)\ttotal: 283ms\tremaining: 2.85s\n",
      "250:\tlearn: 0.4052952\ttest: 0.4184607\tbest: 0.4184196 (249)\ttotal: 327ms\tremaining: 2.93s\n",
      "275:\tlearn: 0.4037413\ttest: 0.4181085\tbest: 0.4181085 (275)\ttotal: 364ms\tremaining: 2.93s\n",
      "300:\tlearn: 0.4023524\ttest: 0.4178723\tbest: 0.4178227 (289)\ttotal: 404ms\tremaining: 2.95s\n",
      "325:\tlearn: 0.4004002\ttest: 0.4173500\tbest: 0.4173483 (321)\ttotal: 439ms\tremaining: 2.93s\n",
      "350:\tlearn: 0.3989457\ttest: 0.4173183\tbest: 0.4172649 (340)\ttotal: 476ms\tremaining: 2.91s\n",
      "Stopped by overfitting detector  (20 iterations wait)\n",
      "\n",
      "bestTest = 0.4172649235\n",
      "bestIteration = 340\n",
      "\n",
      "Shrink model to first 341 iterations.\n",
      "i=0, eval_set_log_loss = 0.2923936564815236\n",
      "i=20, eval_set_log_loss = 0.27927161477771417\n",
      "i=40, eval_set_log_loss = 0.2702453960205569\n",
      "i=60, eval_set_log_loss = 0.26708399708189656\n",
      "i=80, eval_set_log_loss = 0.2652258672009546\n",
      "i=100, eval_set_log_loss = 0.26378834565272585\n",
      "i=120, eval_set_log_loss = 0.2609078257838898\n",
      "i=140, eval_set_log_loss = 0.25823714152882565\n",
      "i=160, eval_set_log_loss = 0.2568784549765166\n",
      "i=180, eval_set_log_loss = 0.2547400248086367\n",
      "i=200, eval_set_log_loss = 0.25503341812741603\n",
      "Stopping early: curr_loss of 0.25503341812741603\n",
      "                                        exceeds compare_loss of 0.2547400248086367\n",
      "i=0, eval_set_log_loss = 0.2923936564815236\n",
      "i=20, eval_set_log_loss = 0.2801531621381247\n",
      "i=40, eval_set_log_loss = 0.27064493283610863\n",
      "i=60, eval_set_log_loss = 0.2672485304845136\n",
      "i=80, eval_set_log_loss = 0.26564169344848826\n",
      "i=100, eval_set_log_loss = 0.26315471058572265\n",
      "i=120, eval_set_log_loss = 0.26052820221277695\n",
      "i=140, eval_set_log_loss = 0.258003910326825\n",
      "i=160, eval_set_log_loss = 0.2566852775518899\n",
      "i=180, eval_set_log_loss = 0.2549979558464798\n",
      "i=200, eval_set_log_loss = 0.2555171712172163\n",
      "Stopping early: curr_loss of 0.2555171712172163\n",
      "                                        exceeds compare_loss of 0.2549979558464798\n",
      "i=0, eval_set_log_loss = 0.2923936564815236\n",
      "i=20, eval_set_log_loss = 0.27527772573684317\n",
      "i=40, eval_set_log_loss = 0.26394964962396256\n",
      "i=60, eval_set_log_loss = 0.2581686583632147\n",
      "i=80, eval_set_log_loss = 0.25699004764361416\n",
      "i=100, eval_set_log_loss = 0.2552429658805971\n",
      "i=120, eval_set_log_loss = 0.2526168370511872\n",
      "i=140, eval_set_log_loss = 0.2507578600032939\n",
      "i=160, eval_set_log_loss = 0.250695733363124\n",
      "i=180, eval_set_log_loss = 0.24971922587207696\n",
      "i=200, eval_set_log_loss = 0.25030275724149537\n",
      "Stopping early: curr_loss of 0.25030275724149537\n",
      "                                        exceeds compare_loss of 0.24971922587207696\n",
      "0:\tlearn: 0.6831126\ttest: 0.6825298\tbest: 0.6825298 (0)\ttotal: 2.02ms\tremaining: 5.05s\n",
      "25:\tlearn: 0.5373889\ttest: 0.5256672\tbest: 0.5256672 (25)\ttotal: 43.2ms\tremaining: 4.11s\n",
      "50:\tlearn: 0.4860589\ttest: 0.4681528\tbest: 0.4681528 (50)\ttotal: 75.8ms\tremaining: 3.64s\n",
      "75:\tlearn: 0.4650584\ttest: 0.4456745\tbest: 0.4456745 (75)\ttotal: 104ms\tremaining: 3.31s\n",
      "100:\tlearn: 0.4520796\ttest: 0.4340469\tbest: 0.4340469 (100)\ttotal: 134ms\tremaining: 3.18s\n",
      "125:\tlearn: 0.4433320\ttest: 0.4263707\tbest: 0.4263707 (125)\ttotal: 163ms\tremaining: 3.06s\n",
      "150:\tlearn: 0.4387370\ttest: 0.4225709\tbest: 0.4225709 (150)\ttotal: 193ms\tremaining: 3s\n",
      "175:\tlearn: 0.4351868\ttest: 0.4204486\tbest: 0.4204486 (175)\ttotal: 225ms\tremaining: 2.96s\n",
      "200:\tlearn: 0.4330690\ttest: 0.4189387\tbest: 0.4189387 (200)\ttotal: 259ms\tremaining: 2.96s\n",
      "225:\tlearn: 0.4306917\ttest: 0.4178566\tbest: 0.4178566 (225)\ttotal: 289ms\tremaining: 2.91s\n",
      "250:\tlearn: 0.4289271\ttest: 0.4169809\tbest: 0.4169809 (250)\ttotal: 318ms\tremaining: 2.85s\n",
      "275:\tlearn: 0.4264581\ttest: 0.4157110\tbest: 0.4157110 (275)\ttotal: 355ms\tremaining: 2.86s\n",
      "300:\tlearn: 0.4248153\ttest: 0.4153224\tbest: 0.4153224 (300)\ttotal: 401ms\tremaining: 2.93s\n",
      "Stopped by overfitting detector  (20 iterations wait)\n",
      "\n",
      "bestTest = 0.4153223943\n",
      "bestIteration = 300\n",
      "\n",
      "Shrink model to first 301 iterations.\n",
      "0:\tlearn: 0.6816676\ttest: 0.6798885\tbest: 0.6798885 (0)\ttotal: 2.52ms\tremaining: 6.3s\n",
      "25:\tlearn: 0.5328321\ttest: 0.5185970\tbest: 0.5185970 (25)\ttotal: 38ms\tremaining: 3.62s\n",
      "50:\tlearn: 0.4800688\ttest: 0.4598220\tbest: 0.4598220 (50)\ttotal: 78.9ms\tremaining: 3.79s\n",
      "75:\tlearn: 0.4596638\ttest: 0.4368537\tbest: 0.4368537 (75)\ttotal: 112ms\tremaining: 3.57s\n",
      "100:\tlearn: 0.4509806\ttest: 0.4276028\tbest: 0.4276028 (100)\ttotal: 142ms\tremaining: 3.38s\n",
      "125:\tlearn: 0.4446281\ttest: 0.4216296\tbest: 0.4216296 (125)\ttotal: 172ms\tremaining: 3.25s\n",
      "150:\tlearn: 0.4419396\ttest: 0.4194335\tbest: 0.4194335 (150)\ttotal: 201ms\tremaining: 3.13s\n",
      "175:\tlearn: 0.4394712\ttest: 0.4181541\tbest: 0.4181541 (175)\ttotal: 230ms\tremaining: 3.04s\n",
      "200:\tlearn: 0.4378611\ttest: 0.4172755\tbest: 0.4172755 (200)\ttotal: 259ms\tremaining: 2.97s\n",
      "225:\tlearn: 0.4359489\ttest: 0.4165023\tbest: 0.4165023 (225)\ttotal: 289ms\tremaining: 2.9s\n",
      "250:\tlearn: 0.4347955\ttest: 0.4165008\tbest: 0.4164577 (233)\ttotal: 319ms\tremaining: 2.86s\n",
      "Stopped by overfitting detector  (20 iterations wait)\n",
      "\n",
      "bestTest = 0.4164577112\n",
      "bestIteration = 233\n",
      "\n",
      "Shrink model to first 234 iterations.\n",
      "i=0, eval_set_log_loss = 0.3121658025359994\n",
      "i=20, eval_set_log_loss = 0.29539374613762504\n",
      "i=40, eval_set_log_loss = 0.2868772616683497\n",
      "i=60, eval_set_log_loss = 0.2802796297853986\n",
      "i=80, eval_set_log_loss = 0.2778636359017129\n",
      "i=100, eval_set_log_loss = 0.27687101129006353\n",
      "i=120, eval_set_log_loss = 0.275431402809586\n",
      "i=140, eval_set_log_loss = 0.2741979434370821\n",
      "i=160, eval_set_log_loss = 0.2712207935131057\n",
      "i=180, eval_set_log_loss = 0.27054371289985435\n",
      "i=200, eval_set_log_loss = 0.2717377692830773\n",
      "Stopping early: curr_loss of 0.2717377692830773\n",
      "                                        exceeds compare_loss of 0.27054371289985435\n",
      "i=0, eval_set_log_loss = 0.3121658025359994\n",
      "i=20, eval_set_log_loss = 0.2938730861165727\n",
      "i=40, eval_set_log_loss = 0.28404732321651555\n",
      "i=60, eval_set_log_loss = 0.27635232143645555\n",
      "i=80, eval_set_log_loss = 0.27262072697314066\n",
      "i=100, eval_set_log_loss = 0.27104635746522465\n",
      "i=120, eval_set_log_loss = 0.26893940123845034\n",
      "i=140, eval_set_log_loss = 0.26820459490178045\n",
      "i=160, eval_set_log_loss = 0.26504340217961087\n",
      "i=180, eval_set_log_loss = 0.263852740760953\n",
      "i=200, eval_set_log_loss = 0.26539241736681457\n",
      "Stopping early: curr_loss of 0.26539241736681457\n",
      "                                        exceeds compare_loss of 0.263852740760953\n",
      "i=0, eval_set_log_loss = 0.3121658025359994\n",
      "i=20, eval_set_log_loss = 0.2911124980516082\n",
      "i=40, eval_set_log_loss = 0.28003273677166624\n",
      "i=60, eval_set_log_loss = 0.2722028407361509\n",
      "i=80, eval_set_log_loss = 0.2674343067438271\n",
      "i=100, eval_set_log_loss = 0.26584967682508254\n",
      "i=120, eval_set_log_loss = 0.2644372568394231\n",
      "i=140, eval_set_log_loss = 0.2640985137817083\n",
      "i=160, eval_set_log_loss = 0.2619438760269961\n",
      "i=180, eval_set_log_loss = 0.2610798347747457\n",
      "i=200, eval_set_log_loss = 0.26252622877728016\n",
      "Stopping early: curr_loss of 0.26252622877728016\n",
      "                                        exceeds compare_loss of 0.2610798347747457\n",
      "0:\tlearn: 0.6791119\ttest: 0.6795351\tbest: 0.6795351 (0)\ttotal: 1.74ms\tremaining: 4.35s\n",
      "25:\tlearn: 0.5008535\ttest: 0.5081267\tbest: 0.5081267 (25)\ttotal: 43.8ms\tremaining: 4.17s\n",
      "50:\tlearn: 0.4506723\ttest: 0.4615550\tbest: 0.4615550 (50)\ttotal: 80.5ms\tremaining: 3.87s\n",
      "75:\tlearn: 0.4322087\ttest: 0.4451322\tbest: 0.4451322 (75)\ttotal: 112ms\tremaining: 3.58s\n",
      "100:\tlearn: 0.4215859\ttest: 0.4364609\tbest: 0.4364609 (100)\ttotal: 143ms\tremaining: 3.4s\n",
      "125:\tlearn: 0.4160115\ttest: 0.4325428\tbest: 0.4325428 (125)\ttotal: 176ms\tremaining: 3.31s\n",
      "150:\tlearn: 0.4131029\ttest: 0.4303312\tbest: 0.4303312 (150)\ttotal: 215ms\tremaining: 3.34s\n",
      "175:\tlearn: 0.4094195\ttest: 0.4281681\tbest: 0.4281681 (175)\ttotal: 254ms\tremaining: 3.35s\n",
      "200:\tlearn: 0.4073018\ttest: 0.4271815\tbest: 0.4271608 (199)\ttotal: 286ms\tremaining: 3.27s\n",
      "225:\tlearn: 0.4053385\ttest: 0.4261742\tbest: 0.4261742 (225)\ttotal: 323ms\tremaining: 3.25s\n",
      "250:\tlearn: 0.4035275\ttest: 0.4255416\tbest: 0.4254774 (247)\ttotal: 356ms\tremaining: 3.19s\n",
      "275:\tlearn: 0.4014820\ttest: 0.4246435\tbest: 0.4245584 (273)\ttotal: 391ms\tremaining: 3.15s\n",
      "300:\tlearn: 0.3998883\ttest: 0.4238536\tbest: 0.4238379 (299)\ttotal: 426ms\tremaining: 3.11s\n",
      "325:\tlearn: 0.3989655\ttest: 0.4233440\tbest: 0.4233440 (325)\ttotal: 461ms\tremaining: 3.07s\n",
      "350:\tlearn: 0.3978478\ttest: 0.4228334\tbest: 0.4228164 (349)\ttotal: 494ms\tremaining: 3.02s\n",
      "Stopped by overfitting detector  (20 iterations wait)\n",
      "\n",
      "bestTest = 0.422816402\n",
      "bestIteration = 349\n",
      "\n",
      "Shrink model to first 350 iterations.\n",
      "0:\tlearn: 0.6822422\ttest: 0.6827928\tbest: 0.6827928 (0)\ttotal: 3.26ms\tremaining: 8.14s\n",
      "25:\tlearn: 0.5129446\ttest: 0.5150368\tbest: 0.5150368 (25)\ttotal: 41.6ms\tremaining: 3.96s\n",
      "50:\tlearn: 0.4566720\ttest: 0.4582628\tbest: 0.4582628 (50)\ttotal: 77.8ms\tremaining: 3.73s\n",
      "75:\tlearn: 0.4385880\ttest: 0.4417328\tbest: 0.4417328 (75)\ttotal: 120ms\tremaining: 3.83s\n",
      "100:\tlearn: 0.4294808\ttest: 0.4333547\tbest: 0.4333547 (100)\ttotal: 155ms\tremaining: 3.68s\n",
      "125:\tlearn: 0.4231965\ttest: 0.4283056\tbest: 0.4283056 (125)\ttotal: 192ms\tremaining: 3.61s\n",
      "150:\tlearn: 0.4205954\ttest: 0.4266945\tbest: 0.4266903 (149)\ttotal: 226ms\tremaining: 3.52s\n",
      "175:\tlearn: 0.4189453\ttest: 0.4256254\tbest: 0.4256254 (175)\ttotal: 264ms\tremaining: 3.49s\n",
      "200:\tlearn: 0.4175736\ttest: 0.4250899\tbest: 0.4250899 (200)\ttotal: 302ms\tremaining: 3.45s\n",
      "225:\tlearn: 0.4160879\ttest: 0.4243370\tbest: 0.4243336 (224)\ttotal: 337ms\tremaining: 3.39s\n",
      "250:\tlearn: 0.4147540\ttest: 0.4238783\tbest: 0.4238783 (250)\ttotal: 370ms\tremaining: 3.32s\n",
      "275:\tlearn: 0.4139674\ttest: 0.4235976\tbest: 0.4235592 (274)\ttotal: 405ms\tremaining: 3.27s\n",
      "300:\tlearn: 0.4129338\ttest: 0.4235353\tbest: 0.4235224 (298)\ttotal: 439ms\tremaining: 3.21s\n",
      "325:\tlearn: 0.4121459\ttest: 0.4233892\tbest: 0.4233892 (325)\ttotal: 475ms\tremaining: 3.17s\n",
      "350:\tlearn: 0.4114069\ttest: 0.4233799\tbest: 0.4233639 (347)\ttotal: 509ms\tremaining: 3.12s\n",
      "375:\tlearn: 0.4104509\ttest: 0.4232557\tbest: 0.4232557 (375)\ttotal: 543ms\tremaining: 3.07s\n",
      "400:\tlearn: 0.4096648\ttest: 0.4232150\tbest: 0.4232150 (400)\ttotal: 576ms\tremaining: 3.02s\n",
      "425:\tlearn: 0.4089172\ttest: 0.4231197\tbest: 0.4231145 (423)\ttotal: 613ms\tremaining: 2.98s\n",
      "Stopped by overfitting detector  (20 iterations wait)\n",
      "\n",
      "bestTest = 0.4231144747\n",
      "bestIteration = 423\n",
      "\n",
      "Shrink model to first 424 iterations.\n",
      "i=0, eval_set_log_loss = 0.31516243765880353\n",
      "i=20, eval_set_log_loss = 0.2966669181303135\n",
      "i=40, eval_set_log_loss = 0.28676020941013414\n",
      "i=60, eval_set_log_loss = 0.27881542473138343\n",
      "i=80, eval_set_log_loss = 0.2769319146801925\n",
      "i=100, eval_set_log_loss = 0.27566599593723984\n",
      "i=120, eval_set_log_loss = 0.273506956273125\n",
      "i=140, eval_set_log_loss = 0.2716184462204688\n",
      "i=160, eval_set_log_loss = 0.27015407117837986\n",
      "i=180, eval_set_log_loss = 0.2695469046046076\n",
      "i=200, eval_set_log_loss = 0.2684850680488371\n",
      "i=220, eval_set_log_loss = 0.26840734302397595\n",
      "i=240, eval_set_log_loss = 0.2674796674753553\n",
      "i=260, eval_set_log_loss = 0.2667581722413124\n",
      "i=280, eval_set_log_loss = 0.2658407008403129\n",
      "i=300, eval_set_log_loss = 0.2660865919857584\n",
      "Stopping early: curr_loss of 0.2660865919857584\n",
      "                                        exceeds compare_loss of 0.2658407008403129\n",
      "i=0, eval_set_log_loss = 0.31516243765880353\n",
      "i=20, eval_set_log_loss = 0.29554472508470325\n",
      "i=40, eval_set_log_loss = 0.2859173217735586\n",
      "i=60, eval_set_log_loss = 0.27742871270094904\n",
      "i=80, eval_set_log_loss = 0.27424785771625054\n",
      "i=100, eval_set_log_loss = 0.27307324803610955\n",
      "i=120, eval_set_log_loss = 0.2707599743562089\n",
      "i=140, eval_set_log_loss = 0.2695794112437387\n",
      "i=160, eval_set_log_loss = 0.2678717743978517\n",
      "i=180, eval_set_log_loss = 0.2685070779918832\n",
      "Stopping early: curr_loss of 0.2685070779918832\n",
      "                                        exceeds compare_loss of 0.2678717743978517\n",
      "i=0, eval_set_log_loss = 0.31516243765880353\n",
      "i=20, eval_set_log_loss = 0.29259626669643507\n",
      "i=40, eval_set_log_loss = 0.2809953024316231\n",
      "i=60, eval_set_log_loss = 0.27238417720522395\n",
      "i=80, eval_set_log_loss = 0.26905000978605226\n",
      "i=100, eval_set_log_loss = 0.26804672106314165\n",
      "i=120, eval_set_log_loss = 0.26648100483721243\n",
      "i=140, eval_set_log_loss = 0.26559351743074155\n",
      "i=160, eval_set_log_loss = 0.2649729137836037\n",
      "i=180, eval_set_log_loss = 0.26558904967261987\n",
      "Stopping early: curr_loss of 0.26558904967261987\n",
      "                                        exceeds compare_loss of 0.2649729137836037\n",
      "0:\tlearn: 0.6802173\ttest: 0.6806414\tbest: 0.6806414 (0)\ttotal: 1.73ms\tremaining: 4.33s\n",
      "25:\tlearn: 0.5061346\ttest: 0.5134745\tbest: 0.5134745 (25)\ttotal: 36.7ms\tremaining: 3.49s\n",
      "50:\tlearn: 0.4561696\ttest: 0.4656045\tbest: 0.4656045 (50)\ttotal: 74.7ms\tremaining: 3.59s\n",
      "75:\tlearn: 0.4371910\ttest: 0.4489721\tbest: 0.4489721 (75)\ttotal: 104ms\tremaining: 3.31s\n",
      "100:\tlearn: 0.4229298\ttest: 0.4375473\tbest: 0.4375473 (100)\ttotal: 134ms\tremaining: 3.17s\n",
      "125:\tlearn: 0.4154673\ttest: 0.4323784\tbest: 0.4323784 (125)\ttotal: 163ms\tremaining: 3.07s\n",
      "150:\tlearn: 0.4117142\ttest: 0.4304418\tbest: 0.4304418 (150)\ttotal: 192ms\tremaining: 2.99s\n",
      "175:\tlearn: 0.4093042\ttest: 0.4292661\tbest: 0.4292601 (173)\ttotal: 224ms\tremaining: 2.96s\n",
      "200:\tlearn: 0.4068868\ttest: 0.4282424\tbest: 0.4282424 (200)\ttotal: 253ms\tremaining: 2.89s\n",
      "225:\tlearn: 0.4037718\ttest: 0.4264243\tbest: 0.4264243 (225)\ttotal: 282ms\tremaining: 2.83s\n",
      "250:\tlearn: 0.4015179\ttest: 0.4257020\tbest: 0.4256846 (249)\ttotal: 311ms\tremaining: 2.78s\n",
      "275:\tlearn: 0.3993874\ttest: 0.4250943\tbest: 0.4250695 (274)\ttotal: 340ms\tremaining: 2.74s\n",
      "Stopped by overfitting detector  (20 iterations wait)\n",
      "\n",
      "bestTest = 0.4250694565\n",
      "bestIteration = 274\n",
      "\n",
      "Shrink model to first 275 iterations.\n",
      "0:\tlearn: 0.6813434\ttest: 0.6816511\tbest: 0.6816511 (0)\ttotal: 2.28ms\tremaining: 5.71s\n",
      "25:\tlearn: 0.5140438\ttest: 0.5153193\tbest: 0.5153193 (25)\ttotal: 32.2ms\tremaining: 3.06s\n",
      "50:\tlearn: 0.4565805\ttest: 0.4582835\tbest: 0.4582835 (50)\ttotal: 61.6ms\tremaining: 2.96s\n",
      "75:\tlearn: 0.4355531\ttest: 0.4392098\tbest: 0.4392098 (75)\ttotal: 98.2ms\tremaining: 3.13s\n",
      "100:\tlearn: 0.4251982\ttest: 0.4301512\tbest: 0.4301512 (100)\ttotal: 128ms\tremaining: 3.03s\n",
      "125:\tlearn: 0.4194065\ttest: 0.4258186\tbest: 0.4258186 (125)\ttotal: 157ms\tremaining: 2.95s\n",
      "150:\tlearn: 0.4161461\ttest: 0.4240685\tbest: 0.4240653 (149)\ttotal: 187ms\tremaining: 2.91s\n",
      "175:\tlearn: 0.4134656\ttest: 0.4230028\tbest: 0.4230028 (175)\ttotal: 220ms\tremaining: 2.9s\n",
      "200:\tlearn: 0.4114806\ttest: 0.4221612\tbest: 0.4221612 (200)\ttotal: 249ms\tremaining: 2.84s\n",
      "225:\tlearn: 0.4096680\ttest: 0.4219688\tbest: 0.4219180 (220)\ttotal: 278ms\tremaining: 2.8s\n",
      "Stopped by overfitting detector  (20 iterations wait)\n",
      "\n",
      "bestTest = 0.4219180081\n",
      "bestIteration = 220\n",
      "\n",
      "Shrink model to first 221 iterations.\n",
      "i=0, eval_set_log_loss = 0.2830548040404318\n",
      "i=20, eval_set_log_loss = 0.27229002811095293\n",
      "i=40, eval_set_log_loss = 0.26324742633503356\n",
      "i=60, eval_set_log_loss = 0.2575834028181993\n",
      "i=80, eval_set_log_loss = 0.2564229734140141\n",
      "i=100, eval_set_log_loss = 0.254376896452256\n",
      "i=120, eval_set_log_loss = 0.2556523804183102\n",
      "Stopping early: curr_loss of 0.2556523804183102\n",
      "                                        exceeds compare_loss of 0.254376896452256\n",
      "i=0, eval_set_log_loss = 0.2830548040404318\n",
      "i=20, eval_set_log_loss = 0.27187410148542407\n",
      "i=40, eval_set_log_loss = 0.26138654071869327\n",
      "i=60, eval_set_log_loss = 0.255722696913893\n",
      "i=80, eval_set_log_loss = 0.2541318556465001\n",
      "i=100, eval_set_log_loss = 0.2521098704998989\n",
      "i=120, eval_set_log_loss = 0.252898697286872\n",
      "Stopping early: curr_loss of 0.252898697286872\n",
      "                                        exceeds compare_loss of 0.2521098704998989\n",
      "i=0, eval_set_log_loss = 0.2830548040404318\n",
      "i=20, eval_set_log_loss = 0.26971964654970293\n",
      "i=40, eval_set_log_loss = 0.2580423271109637\n",
      "i=60, eval_set_log_loss = 0.2513745933585183\n",
      "i=80, eval_set_log_loss = 0.24957998872882503\n",
      "i=100, eval_set_log_loss = 0.2471891303896955\n",
      "i=120, eval_set_log_loss = 0.24787367985713255\n",
      "Stopping early: curr_loss of 0.24787367985713255\n",
      "                                        exceeds compare_loss of 0.2471891303896955\n",
      "0:\tlearn: 0.6832493\ttest: 0.6825363\tbest: 0.6825363 (0)\ttotal: 1.76ms\tremaining: 4.41s\n",
      "25:\tlearn: 0.5276650\ttest: 0.5149810\tbest: 0.5149810 (25)\ttotal: 52.1ms\tremaining: 4.96s\n",
      "50:\tlearn: 0.4759240\ttest: 0.4584963\tbest: 0.4584963 (50)\ttotal: 86.4ms\tremaining: 4.15s\n",
      "75:\tlearn: 0.4581372\ttest: 0.4390031\tbest: 0.4390031 (75)\ttotal: 115ms\tremaining: 3.66s\n",
      "100:\tlearn: 0.4490673\ttest: 0.4294174\tbest: 0.4294174 (100)\ttotal: 143ms\tremaining: 3.39s\n",
      "125:\tlearn: 0.4436444\ttest: 0.4245884\tbest: 0.4245884 (125)\ttotal: 171ms\tremaining: 3.21s\n",
      "150:\tlearn: 0.4390978\ttest: 0.4211572\tbest: 0.4211572 (150)\ttotal: 200ms\tremaining: 3.11s\n",
      "175:\tlearn: 0.4358224\ttest: 0.4194510\tbest: 0.4194510 (175)\ttotal: 232ms\tremaining: 3.06s\n",
      "200:\tlearn: 0.4334592\ttest: 0.4177155\tbest: 0.4177155 (200)\ttotal: 266ms\tremaining: 3.04s\n",
      "225:\tlearn: 0.4314888\ttest: 0.4168093\tbest: 0.4167970 (218)\ttotal: 295ms\tremaining: 2.96s\n",
      "250:\tlearn: 0.4296478\ttest: 0.4160071\tbest: 0.4160071 (250)\ttotal: 324ms\tremaining: 2.9s\n",
      "275:\tlearn: 0.4282257\ttest: 0.4153658\tbest: 0.4153658 (275)\ttotal: 352ms\tremaining: 2.84s\n",
      "300:\tlearn: 0.4270099\ttest: 0.4150820\tbest: 0.4150807 (299)\ttotal: 380ms\tremaining: 2.78s\n",
      "325:\tlearn: 0.4257842\ttest: 0.4150855\tbest: 0.4150714 (313)\ttotal: 411ms\tremaining: 2.74s\n",
      "350:\tlearn: 0.4246224\ttest: 0.4146367\tbest: 0.4145860 (338)\ttotal: 440ms\tremaining: 2.69s\n",
      "375:\tlearn: 0.4234295\ttest: 0.4143097\tbest: 0.4142595 (373)\ttotal: 468ms\tremaining: 2.65s\n",
      "400:\tlearn: 0.4222858\ttest: 0.4141190\tbest: 0.4141190 (400)\ttotal: 497ms\tremaining: 2.6s\n",
      "Stopped by overfitting detector  (20 iterations wait)\n",
      "\n",
      "bestTest = 0.4141190433\n",
      "bestIteration = 400\n",
      "\n",
      "Shrink model to first 401 iterations.\n",
      "0:\tlearn: 0.6841946\ttest: 0.6836381\tbest: 0.6836381 (0)\ttotal: 1.99ms\tremaining: 4.97s\n",
      "25:\tlearn: 0.5368590\ttest: 0.5195184\tbest: 0.5195184 (25)\ttotal: 32.4ms\tremaining: 3.08s\n",
      "50:\tlearn: 0.4859994\ttest: 0.4615787\tbest: 0.4615787 (50)\ttotal: 66.4ms\tremaining: 3.19s\n",
      "75:\tlearn: 0.4670562\ttest: 0.4396142\tbest: 0.4396142 (75)\ttotal: 97.7ms\tremaining: 3.12s\n",
      "100:\tlearn: 0.4560866\ttest: 0.4271480\tbest: 0.4271480 (100)\ttotal: 127ms\tremaining: 3.01s\n",
      "125:\tlearn: 0.4490910\ttest: 0.4200168\tbest: 0.4200168 (125)\ttotal: 155ms\tremaining: 2.92s\n",
      "150:\tlearn: 0.4452559\ttest: 0.4174730\tbest: 0.4174730 (150)\ttotal: 183ms\tremaining: 2.85s\n",
      "175:\tlearn: 0.4425150\ttest: 0.4153535\tbest: 0.4153535 (175)\ttotal: 212ms\tremaining: 2.79s\n",
      "200:\tlearn: 0.4399841\ttest: 0.4141700\tbest: 0.4141700 (200)\ttotal: 243ms\tremaining: 2.77s\n",
      "225:\tlearn: 0.4384622\ttest: 0.4135214\tbest: 0.4135214 (225)\ttotal: 272ms\tremaining: 2.74s\n",
      "250:\tlearn: 0.4372611\ttest: 0.4134533\tbest: 0.4134080 (233)\ttotal: 301ms\tremaining: 2.69s\n",
      "Stopped by overfitting detector  (20 iterations wait)\n",
      "\n",
      "bestTest = 0.4134080427\n",
      "bestIteration = 233\n",
      "\n",
      "Shrink model to first 234 iterations.\n",
      "i=0, eval_set_log_loss = 0.28887557835653577\n",
      "i=20, eval_set_log_loss = 0.27304306886435337\n",
      "i=40, eval_set_log_loss = 0.2640700281154134\n",
      "i=60, eval_set_log_loss = 0.25912266305861115\n",
      "i=80, eval_set_log_loss = 0.2553394072307846\n",
      "i=100, eval_set_log_loss = 0.2525710062068883\n",
      "i=120, eval_set_log_loss = 0.2526836504231902\n",
      "Stopping early: curr_loss of 0.2526836504231902\n",
      "                                        exceeds compare_loss of 0.2525710062068883\n",
      "i=0, eval_set_log_loss = 0.28887557835653577\n",
      "i=20, eval_set_log_loss = 0.2699373493827686\n",
      "i=40, eval_set_log_loss = 0.25998129419670574\n",
      "i=60, eval_set_log_loss = 0.25347544609081485\n",
      "i=80, eval_set_log_loss = 0.24839953460916325\n",
      "i=100, eval_set_log_loss = 0.24402043021182218\n",
      "i=120, eval_set_log_loss = 0.2441719526481475\n",
      "Stopping early: curr_loss of 0.2441719526481475\n",
      "                                        exceeds compare_loss of 0.24402043021182218\n",
      "i=0, eval_set_log_loss = 0.28887557835653577\n",
      "i=20, eval_set_log_loss = 0.2675086332808618\n",
      "i=40, eval_set_log_loss = 0.25512699588876575\n",
      "i=60, eval_set_log_loss = 0.24839729912342767\n",
      "i=80, eval_set_log_loss = 0.24255376927086794\n",
      "i=100, eval_set_log_loss = 0.2390206199550955\n",
      "i=120, eval_set_log_loss = 0.23881987275155667\n",
      "i=140, eval_set_log_loss = 0.23586475807974047\n",
      "i=160, eval_set_log_loss = 0.23528618644484955\n",
      "i=180, eval_set_log_loss = 0.2346314280681805\n",
      "i=200, eval_set_log_loss = 0.2337931403964888\n",
      "i=220, eval_set_log_loss = 0.23290804109598084\n",
      "i=240, eval_set_log_loss = 0.2327032958127342\n",
      "i=260, eval_set_log_loss = 0.23320958994827193\n",
      "Stopping early: curr_loss of 0.23320958994827193\n",
      "                                        exceeds compare_loss of 0.2327032958127342\n",
      "0:\tlearn: 0.6821330\ttest: 0.6816394\tbest: 0.6816394 (0)\ttotal: 1.92ms\tremaining: 4.81s\n",
      "25:\tlearn: 0.5164725\ttest: 0.5110445\tbest: 0.5110445 (25)\ttotal: 40.9ms\tremaining: 3.89s\n",
      "50:\tlearn: 0.4645720\ttest: 0.4566139\tbest: 0.4566139 (50)\ttotal: 85.6ms\tremaining: 4.11s\n",
      "75:\tlearn: 0.4449576\ttest: 0.4363802\tbest: 0.4363802 (75)\ttotal: 118ms\tremaining: 3.75s\n",
      "100:\tlearn: 0.4361124\ttest: 0.4275111\tbest: 0.4275111 (100)\ttotal: 149ms\tremaining: 3.54s\n",
      "125:\tlearn: 0.4294676\ttest: 0.4205567\tbest: 0.4205567 (125)\ttotal: 182ms\tremaining: 3.43s\n",
      "150:\tlearn: 0.4254837\ttest: 0.4174627\tbest: 0.4174627 (150)\ttotal: 220ms\tremaining: 3.42s\n",
      "175:\tlearn: 0.4220873\ttest: 0.4153132\tbest: 0.4153132 (175)\ttotal: 251ms\tremaining: 3.32s\n",
      "200:\tlearn: 0.4191157\ttest: 0.4133563\tbest: 0.4133563 (200)\ttotal: 282ms\tremaining: 3.23s\n",
      "225:\tlearn: 0.4170731\ttest: 0.4122148\tbest: 0.4122148 (225)\ttotal: 314ms\tremaining: 3.16s\n",
      "250:\tlearn: 0.4152100\ttest: 0.4110588\tbest: 0.4110588 (250)\ttotal: 346ms\tremaining: 3.1s\n",
      "275:\tlearn: 0.4136423\ttest: 0.4103887\tbest: 0.4103887 (275)\ttotal: 377ms\tremaining: 3.04s\n",
      "300:\tlearn: 0.4119586\ttest: 0.4097584\tbest: 0.4097476 (299)\ttotal: 408ms\tremaining: 2.98s\n",
      "325:\tlearn: 0.4106073\ttest: 0.4092995\tbest: 0.4092995 (325)\ttotal: 446ms\tremaining: 2.98s\n",
      "350:\tlearn: 0.4092492\ttest: 0.4088158\tbest: 0.4087847 (349)\ttotal: 477ms\tremaining: 2.92s\n",
      "375:\tlearn: 0.4078853\ttest: 0.4086113\tbest: 0.4085517 (366)\ttotal: 509ms\tremaining: 2.88s\n",
      "400:\tlearn: 0.4064628\ttest: 0.4082056\tbest: 0.4082056 (400)\ttotal: 542ms\tremaining: 2.84s\n",
      "425:\tlearn: 0.4050991\ttest: 0.4081112\tbest: 0.4080646 (416)\ttotal: 575ms\tremaining: 2.8s\n",
      "450:\tlearn: 0.4043763\ttest: 0.4079158\tbest: 0.4079105 (449)\ttotal: 612ms\tremaining: 2.78s\n",
      "475:\tlearn: 0.4035200\ttest: 0.4076938\tbest: 0.4076872 (472)\ttotal: 652ms\tremaining: 2.77s\n",
      "500:\tlearn: 0.4022941\ttest: 0.4074078\tbest: 0.4074057 (499)\ttotal: 687ms\tremaining: 2.74s\n",
      "Stopped by overfitting detector  (20 iterations wait)\n",
      "\n",
      "bestTest = 0.4073859303\n",
      "bestIteration = 501\n",
      "\n",
      "Shrink model to first 502 iterations.\n",
      "0:\tlearn: 0.6814516\ttest: 0.6813596\tbest: 0.6813596 (0)\ttotal: 3.92ms\tremaining: 9.79s\n",
      "25:\tlearn: 0.5204803\ttest: 0.5112834\tbest: 0.5112834 (25)\ttotal: 41.7ms\tremaining: 3.96s\n",
      "50:\tlearn: 0.4658120\ttest: 0.4544707\tbest: 0.4544707 (50)\ttotal: 73.2ms\tremaining: 3.52s\n",
      "75:\tlearn: 0.4458189\ttest: 0.4332025\tbest: 0.4332025 (75)\ttotal: 111ms\tremaining: 3.56s\n",
      "100:\tlearn: 0.4371063\ttest: 0.4240532\tbest: 0.4240532 (100)\ttotal: 143ms\tremaining: 3.39s\n",
      "125:\tlearn: 0.4324071\ttest: 0.4198786\tbest: 0.4198786 (125)\ttotal: 171ms\tremaining: 3.22s\n",
      "150:\tlearn: 0.4289559\ttest: 0.4175486\tbest: 0.4175486 (150)\ttotal: 200ms\tremaining: 3.11s\n",
      "175:\tlearn: 0.4265284\ttest: 0.4160273\tbest: 0.4160273 (175)\ttotal: 229ms\tremaining: 3.03s\n",
      "200:\tlearn: 0.4238852\ttest: 0.4148455\tbest: 0.4148053 (199)\ttotal: 259ms\tremaining: 2.96s\n",
      "225:\tlearn: 0.4221755\ttest: 0.4142581\tbest: 0.4142581 (225)\ttotal: 294ms\tremaining: 2.96s\n",
      "250:\tlearn: 0.4207124\ttest: 0.4141440\tbest: 0.4141077 (245)\ttotal: 323ms\tremaining: 2.89s\n",
      "275:\tlearn: 0.4194223\ttest: 0.4139468\tbest: 0.4138220 (272)\ttotal: 352ms\tremaining: 2.84s\n",
      "300:\tlearn: 0.4182786\ttest: 0.4135618\tbest: 0.4135424 (298)\ttotal: 382ms\tremaining: 2.79s\n",
      "325:\tlearn: 0.4171221\ttest: 0.4135613\tbest: 0.4134993 (322)\ttotal: 412ms\tremaining: 2.75s\n",
      "Stopped by overfitting detector  (20 iterations wait)\n",
      "\n",
      "bestTest = 0.4134993166\n",
      "bestIteration = 322\n",
      "\n",
      "Shrink model to first 323 iterations.\n"
     ]
    }
   ],
   "source": [
    "num_train_pts = 1000\n",
    "num_trials = 10\n",
    "stb_def_loss_vec = np.zeros(num_trials)\n",
    "stb_1_loss_vec = np.zeros(num_trials)\n",
    "stb_2_loss_vec = np.zeros(num_trials)\n",
    "cb1_loss_vec = np.zeros(num_trials)\n",
    "cb2_loss_vec = np.zeros(num_trials)\n",
    "stb_def_AUC_vec = np.zeros(num_trials)\n",
    "stb_1_AUC_vec = np.zeros(num_trials)\n",
    "stb_2_AUC_vec = np.zeros(num_trials)\n",
    "cb1_AUC_vec = np.zeros(num_trials)\n",
    "cb2_AUC_vec = np.zeros(num_trials)\n",
    "for i in range(num_trials):\n",
    "    X_trva, X_test, y_trva, y_test = train_test_split(X,y, test_size = 70000, random_state=i)\n",
    "    X_train_big, X_valid, y_train_big, y_valid = train_test_split(X_trva, y_trva, \n",
    "                                                                  test_size = 10000, random_state=i)\n",
    "    X_train = X_train_big.iloc[:num_train_pts,:]\n",
    "    y_train = y_train_big[:num_train_pts]\n",
    "    \n",
    "\n",
    "    stboost_CA_def = stb.StructureBoost(num_trees = 2500,\n",
    "                                        learning_rate=.02,\n",
    "                                        feature_configs=feature_configs_default, \n",
    "                                        max_depth=2,\n",
    "                                        mode='classification',\n",
    "                                        random_seed=i)\n",
    "    stboost_CA_def.fit(X_train, y_train, \n",
    "                       eval_set = ((X_valid, y_valid)), \n",
    "                       early_stop_past_steps=1, \n",
    "                       eval_freq=20)\n",
    "\n",
    "    pred_probs_def = stboost_CA_def.predict(X_test)\n",
    "    stb_def_loss_vec[i] = log_loss(y_test, pred_probs_def)\n",
    "    stb_def_AUC_vec[i] = roc_auc_score(y_test, pred_probs_def)\n",
    "\n",
    "    stboost_CA_1 = stb.StructureBoost(num_trees = 2500,\n",
    "                                      learning_rate=.02,\n",
    "                                      feature_configs=feature_configs_1, \n",
    "                                      max_depth=2,\n",
    "                                      mode='classification',\n",
    "                                      random_seed=i)\n",
    "    stboost_CA_1.fit(X_train, y_train, \n",
    "                       eval_set = ((X_valid, y_valid)), \n",
    "                       early_stop_past_steps=1, \n",
    "                       eval_freq=20)\n",
    "    pred_probs_1 = stboost_CA_1.predict(X_test)\n",
    "    stb_1_loss_vec[i] = log_loss(y_test, pred_probs_1)\n",
    "    stb_1_AUC_vec[i] = roc_auc_score(y_test, pred_probs_1)\n",
    "        \n",
    "\n",
    "    stboost_CA_2 = stb.StructureBoost(num_trees = 2500,\n",
    "                                      learning_rate=.02,\n",
    "                                      feature_configs=feature_configs_2, \n",
    "                                      max_depth=2,\n",
    "                                      mode='classification',\n",
    "                                      random_seed=i)\n",
    "    stboost_CA_2.fit(X_train, y_train, \n",
    "                       eval_set = ((X_valid, y_valid)), \n",
    "                       early_stop_past_steps=1, \n",
    "                       eval_freq=20)\n",
    "    pred_probs_2 = stboost_CA_2.predict(X_test)\n",
    "    stb_2_loss_vec[i] = log_loss(y_test, pred_probs_2)\n",
    "    stb_2_AUC_vec[i] = roc_auc_score(y_test, pred_probs_2)\n",
    "\n",
    "    \n",
    "    cat_features_1 = ['county']\n",
    "    cb1 = cb.CatBoostClassifier(iterations=2500, early_stopping_rounds=20,\n",
    "                                max_depth=2,learning_rate=.02,\n",
    "                                cat_features=cat_features_1, random_seed=i)\n",
    "    cb1.fit(X_train, y_train, cat_features_1, eval_set=(X_valid, y_valid), verbose=25)\n",
    "    pred_probs_cb1 = cb1.predict_proba(X_test)\n",
    "    cb1_loss_vec = log_loss(y_test, pred_probs_cb1)\n",
    "    cb1_AUC_vec = roc_auc_score(y_test, pred_probs_cb1[:,1])\n",
    "    \n",
    "    \n",
    "    cat_features_2 = ['county', 'month']\n",
    "    cb2 = cb.CatBoostClassifier(iterations=2500, early_stopping_rounds=20,\n",
    "                                max_depth=2,learning_rate=.02,\n",
    "                                cat_features=cat_features_2, random_seed=i)\n",
    "\n",
    "    cb2.fit(X_train, y_train, cat_features_2, eval_set=(X_valid, y_valid), verbose=25)\n",
    "    pred_probs_cb2 = cb2.predict_proba(X_test)\n",
    "    cb2_loss_vec[i] = log_loss(y_test, pred_probs_cb2)\n",
    "    cb2_AUC_vec[i] = roc_auc_score(y_test, pred_probs_cb2[:,1])\n",
    "    "
   ]
  },
  {
   "cell_type": "code",
   "execution_count": null,
   "metadata": {},
   "outputs": [],
   "source": []
  },
  {
   "cell_type": "markdown",
   "metadata": {},
   "source": [
    "### Summary of results (multiple trials)"
   ]
  },
  {
   "cell_type": "code",
   "execution_count": 42,
   "metadata": {},
   "outputs": [
    {
     "name": "stdout",
     "output_type": "stream",
     "text": [
      "Average log_loss Scores:\n",
      "StructureBoost w County+Month Structure:     avg_loss = 0.4105\n",
      "StructureBoost w County Structure:           avg_loss = 0.41495\n",
      "StructureBoost (w no Structure):             avg_loss = 0.42002\n",
      "CatBoost:  (County categorical)              avg_loss = 0.42216\n",
      "CatBoost:  (County, Month categorical)       avg_loss = 0.42129\n",
      "\n",
      "Average ROC AUC Scores:\n",
      "StructureBoost w County+Month Structure:     avg_auc = 0.75148\n",
      "StructureBoost w County Structure:           avg_auc = 0.74744\n",
      "StructureBoost (w no Structure):             avg_auc = 0.73501\n",
      "CatBoost:  (County categorical)              avg_auc = 0.73303\n",
      "CatBoost:  (County, Month categorical)       avg_auc = 0.72498\n"
     ]
    }
   ],
   "source": [
    "print('Average log_loss Scores:')\n",
    "print('StructureBoost w County+Month Structure:     avg_loss = {}'.format(np.round(np.mean(stb_2_loss_vec),5)))\n",
    "print('StructureBoost w County Structure:           avg_loss = {}'.format(np.round(np.mean(stb_1_loss_vec),5)))\n",
    "print('StructureBoost (w no Structure):             avg_loss = {}'.format(np.round(np.mean(stb_def_loss_vec), 5)))\n",
    "print('CatBoost:  (County categorical)              avg_loss = {}'.format(np.round(np.mean(cb1_loss_vec),5)))\n",
    "print('CatBoost:  (County, Month categorical)       avg_loss = {}'.format(np.round(np.mean(cb2_loss_vec),5)))\n",
    "print('\\nAverage ROC AUC Scores:')\n",
    "print('StructureBoost w County+Month Structure:     avg_auc = {}'.format(np.round(np.mean(stb_2_AUC_vec),5)))\n",
    "print('StructureBoost w County Structure:           avg_auc = {}'.format(np.round(np.mean(stb_1_AUC_vec),5)))\n",
    "print('StructureBoost (w no Structure):             avg_auc = {}'.format(np.round(np.mean(stb_def_AUC_vec), 5)))\n",
    "print('CatBoost:  (County categorical)              avg_auc = {}'.format(np.round(np.mean(cb1_AUC_vec),5)))\n",
    "print('CatBoost:  (County, Month categorical)       avg_auc = {}'.format(np.round(np.mean(cb2_AUC_vec),5)))"
   ]
  },
  {
   "cell_type": "code",
   "execution_count": 43,
   "metadata": {},
   "outputs": [
    {
     "data": {
      "text/plain": [
       "array([0.01579697, 0.01061359, 0.01067496, 0.01261173, 0.01131626,\n",
       "       0.01287495, 0.01398749, 0.01436585, 0.0053724 , 0.00898121])"
      ]
     },
     "execution_count": 43,
     "metadata": {},
     "output_type": "execute_result"
    }
   ],
   "source": [
    "log_loss_diff_vec = cb1_loss_vec-stb_2_loss_vec\n",
    "log_loss_diff_vec"
   ]
  },
  {
   "cell_type": "code",
   "execution_count": 44,
   "metadata": {},
   "outputs": [
    {
     "data": {
      "text/plain": [
       "(0.011659540488329345, 0.0028483070398436614)"
      ]
     },
     "execution_count": 44,
     "metadata": {},
     "output_type": "execute_result"
    }
   ],
   "source": [
    "## mean and std deviation of log_loss difference\n",
    "## between StructureBoost and CatBoost\n",
    "np.mean(log_loss_diff_vec), np.std(log_loss_diff_vec)"
   ]
  },
  {
   "cell_type": "code",
   "execution_count": 45,
   "metadata": {},
   "outputs": [
    {
     "data": {
      "text/plain": [
       "(0.005372401296449725, 0.01579697357119242)"
      ]
     },
     "execution_count": 45,
     "metadata": {},
     "output_type": "execute_result"
    }
   ],
   "source": [
    "# min and max of discrepancy\n",
    "np.min(log_loss_diff_vec), np.max(log_loss_diff_vec)"
   ]
  },
  {
   "cell_type": "code",
   "execution_count": null,
   "metadata": {},
   "outputs": [],
   "source": []
  },
  {
   "cell_type": "code",
   "execution_count": 46,
   "metadata": {},
   "outputs": [
    {
     "data": {
      "text/plain": [
       "(0.7490373908348027, 0.7330267813829326)"
      ]
     },
     "execution_count": 46,
     "metadata": {},
     "output_type": "execute_result"
    }
   ],
   "source": [
    "roc_auc_score(y_test,pred_probs_2), roc_auc_score(y_test,pred_probs_cb1[:,1])"
   ]
  },
  {
   "cell_type": "code",
   "execution_count": 47,
   "metadata": {},
   "outputs": [
    {
     "data": {
      "text/plain": [
       "array([0.02671785, 0.02033665, 0.02035566, 0.01356166, 0.01831135,\n",
       "       0.01951565, 0.01429184, 0.01791736, 0.01751857, 0.01601061])"
      ]
     },
     "execution_count": 47,
     "metadata": {},
     "output_type": "execute_result"
    }
   ],
   "source": [
    "auc_diff_vec = stb_2_AUC_vec - cb1_AUC_vec\n",
    "auc_diff_vec"
   ]
  },
  {
   "cell_type": "code",
   "execution_count": 48,
   "metadata": {},
   "outputs": [
    {
     "data": {
      "text/plain": [
       "(0.01845371970478523, 0.0035354061933001303)"
      ]
     },
     "execution_count": 48,
     "metadata": {},
     "output_type": "execute_result"
    }
   ],
   "source": [
    "## mean and std deviation of AUC difference\n",
    "## between StructureBoost and CatBoost\n",
    "np.mean(auc_diff_vec), np.std(auc_diff_vec)"
   ]
  },
  {
   "cell_type": "code",
   "execution_count": 49,
   "metadata": {},
   "outputs": [
    {
     "data": {
      "text/plain": [
       "(0.013561658639675955, 0.02671784619986084)"
      ]
     },
     "execution_count": 49,
     "metadata": {},
     "output_type": "execute_result"
    }
   ],
   "source": [
    "# min and max of discrepancy\n",
    "np.min(auc_diff_vec), np.max(auc_diff_vec)"
   ]
  },
  {
   "cell_type": "code",
   "execution_count": null,
   "metadata": {},
   "outputs": [],
   "source": []
  },
  {
   "cell_type": "code",
   "execution_count": null,
   "metadata": {},
   "outputs": [],
   "source": []
  }
 ],
 "metadata": {
  "kernelspec": {
   "display_name": "Python 3",
   "language": "python",
   "name": "python3"
  },
  "language_info": {
   "codemirror_mode": {
    "name": "ipython",
    "version": 3
   },
   "file_extension": ".py",
   "mimetype": "text/x-python",
   "name": "python",
   "nbconvert_exporter": "python",
   "pygments_lexer": "ipython3",
   "version": "3.7.3"
  }
 },
 "nbformat": 4,
 "nbformat_minor": 4
}
