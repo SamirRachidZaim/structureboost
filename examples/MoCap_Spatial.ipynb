{
 "cells": [
  {
   "cell_type": "markdown",
   "metadata": {},
   "source": [
    "## Graphical Voronoi variables with StructureBoost\n",
    "A primary capability of StructureBoost is its handling of categorical variables that have a *structure* that is not ordinal in nature.  In this notebook, we see how even numerical variables such as coordinates may contain interesting structure.  We will demonstrate how to use the `graphical_voronoi` feature type in StructureBoost to explore and exploit this higher-dimensional structure."
   ]
  },
  {
   "cell_type": "markdown",
   "metadata": {},
   "source": [
    "## Imports"
   ]
  },
  {
   "cell_type": "code",
   "execution_count": 1,
   "metadata": {},
   "outputs": [],
   "source": [
    "import numpy as np\n",
    "import pandas as pd\n",
    "import matplotlib.pyplot as plt\n",
    "from mpl_toolkits import mplot3d\n",
    "plt.style.use('classic')\n",
    "%matplotlib inline\n",
    "import time as time\n",
    "import json\n",
    "import random\n",
    "\n",
    "from sklearn.metrics import log_loss, brier_score_loss, mean_squared_error, mean_absolute_error, roc_auc_score\n",
    "from sklearn.model_selection import train_test_split\n",
    "from sklearn.ensemble import GradientBoostingRegressor\n",
    "import scipy as sp\n",
    "\n",
    "import structureboost as stb\n",
    "import xgboost as xgb\n",
    "import catboost as cb\n",
    "\n"
   ]
  },
  {
   "cell_type": "markdown",
   "metadata": {},
   "source": [
    "## Motion Capture Data\n",
    "The data from this example comes from the *MoCap Hand Postures* data set (available in the UC Irvine Repository at https://archive.ics.uci.edu/ml/datasets/MoCap+Hand+Postures).  The data set records the positions of sensors on a glove as different users make different hand gestures.  To goal is to classify which one of 5 different hand postures the user is making, based on the positions of the sensors.  The 5 possible postures are: \n",
    "- 1: Fist(with thumb out)\n",
    "- 2: Stop(hand flat)\n",
    "- 3: Point1(point with pointer finger)\n",
    "- 4: Point2(point with pointer and middle fingers)\n",
    "- 5: Grab(fingers curled as if to grab).\n",
    "\n",
    "In this example, we use just 3 sensors and try to distiguish posture 5 (Grab) from the others.  (If desired, one can easily choose a different posture as the \"target\")"
   ]
  },
  {
   "cell_type": "markdown",
   "metadata": {},
   "source": [
    "## Load and Process Data"
   ]
  },
  {
   "cell_type": "code",
   "execution_count": 2,
   "metadata": {},
   "outputs": [
    {
     "name": "stdout",
     "output_type": "stream",
     "text": [
      "<class 'pandas.core.frame.DataFrame'>\n",
      "RangeIndex: 78095 entries, 0 to 78094\n",
      "Data columns (total 11 columns):\n",
      " #   Column  Non-Null Count  Dtype  \n",
      "---  ------  --------------  -----  \n",
      " 0   Class   78095 non-null  int64  \n",
      " 1   User    78095 non-null  int64  \n",
      " 2   X0      78095 non-null  float64\n",
      " 3   Y0      78095 non-null  float64\n",
      " 4   Z0      78095 non-null  float64\n",
      " 5   X1      78095 non-null  float64\n",
      " 6   Y1      78095 non-null  float64\n",
      " 7   Z1      78095 non-null  float64\n",
      " 8   X2      78095 non-null  float64\n",
      " 9   Y2      78095 non-null  float64\n",
      " 10  Z2      78095 non-null  float64\n",
      "dtypes: float64(9), int64(2)\n",
      "memory usage: 6.6 MB\n"
     ]
    }
   ],
   "source": [
    "df1 = pd.read_csv('data/postures_3.csv')\n",
    "df1.info()"
   ]
  },
  {
   "cell_type": "code",
   "execution_count": 3,
   "metadata": {},
   "outputs": [
    {
     "data": {
      "text/html": [
       "<div>\n",
       "<style scoped>\n",
       "    .dataframe tbody tr th:only-of-type {\n",
       "        vertical-align: middle;\n",
       "    }\n",
       "\n",
       "    .dataframe tbody tr th {\n",
       "        vertical-align: top;\n",
       "    }\n",
       "\n",
       "    .dataframe thead th {\n",
       "        text-align: right;\n",
       "    }\n",
       "</style>\n",
       "<table border=\"1\" class=\"dataframe\">\n",
       "  <thead>\n",
       "    <tr style=\"text-align: right;\">\n",
       "      <th></th>\n",
       "      <th>Class</th>\n",
       "      <th>User</th>\n",
       "      <th>X0</th>\n",
       "      <th>Y0</th>\n",
       "      <th>Z0</th>\n",
       "      <th>X1</th>\n",
       "      <th>Y1</th>\n",
       "      <th>Z1</th>\n",
       "      <th>X2</th>\n",
       "      <th>Y2</th>\n",
       "      <th>Z2</th>\n",
       "    </tr>\n",
       "  </thead>\n",
       "  <tbody>\n",
       "    <tr>\n",
       "      <th>0</th>\n",
       "      <td>1</td>\n",
       "      <td>0</td>\n",
       "      <td>54.263880</td>\n",
       "      <td>71.466776</td>\n",
       "      <td>-64.807709</td>\n",
       "      <td>76.895635</td>\n",
       "      <td>42.462500</td>\n",
       "      <td>-72.780545</td>\n",
       "      <td>36.621229</td>\n",
       "      <td>81.680557</td>\n",
       "      <td>-52.919272</td>\n",
       "    </tr>\n",
       "    <tr>\n",
       "      <th>1</th>\n",
       "      <td>1</td>\n",
       "      <td>0</td>\n",
       "      <td>56.527558</td>\n",
       "      <td>72.266609</td>\n",
       "      <td>-61.935252</td>\n",
       "      <td>39.135978</td>\n",
       "      <td>82.538530</td>\n",
       "      <td>-49.596509</td>\n",
       "      <td>79.223743</td>\n",
       "      <td>43.254091</td>\n",
       "      <td>-69.982489</td>\n",
       "    </tr>\n",
       "    <tr>\n",
       "      <th>2</th>\n",
       "      <td>1</td>\n",
       "      <td>0</td>\n",
       "      <td>55.849928</td>\n",
       "      <td>72.469064</td>\n",
       "      <td>-62.562788</td>\n",
       "      <td>37.988804</td>\n",
       "      <td>82.631347</td>\n",
       "      <td>-50.606259</td>\n",
       "      <td>78.451526</td>\n",
       "      <td>43.567403</td>\n",
       "      <td>-70.658489</td>\n",
       "    </tr>\n",
       "    <tr>\n",
       "      <th>3</th>\n",
       "      <td>1</td>\n",
       "      <td>0</td>\n",
       "      <td>55.329647</td>\n",
       "      <td>71.707275</td>\n",
       "      <td>-63.688956</td>\n",
       "      <td>36.561863</td>\n",
       "      <td>81.868749</td>\n",
       "      <td>-52.752784</td>\n",
       "      <td>86.320630</td>\n",
       "      <td>68.214645</td>\n",
       "      <td>-72.228461</td>\n",
       "    </tr>\n",
       "    <tr>\n",
       "      <th>4</th>\n",
       "      <td>1</td>\n",
       "      <td>0</td>\n",
       "      <td>55.142401</td>\n",
       "      <td>71.435607</td>\n",
       "      <td>-64.177303</td>\n",
       "      <td>36.175818</td>\n",
       "      <td>81.556874</td>\n",
       "      <td>-53.475747</td>\n",
       "      <td>76.986143</td>\n",
       "      <td>42.426849</td>\n",
       "      <td>-72.574743</td>\n",
       "    </tr>\n",
       "  </tbody>\n",
       "</table>\n",
       "</div>"
      ],
      "text/plain": [
       "   Class  User         X0         Y0         Z0         X1         Y1  \\\n",
       "0      1     0  54.263880  71.466776 -64.807709  76.895635  42.462500   \n",
       "1      1     0  56.527558  72.266609 -61.935252  39.135978  82.538530   \n",
       "2      1     0  55.849928  72.469064 -62.562788  37.988804  82.631347   \n",
       "3      1     0  55.329647  71.707275 -63.688956  36.561863  81.868749   \n",
       "4      1     0  55.142401  71.435607 -64.177303  36.175818  81.556874   \n",
       "\n",
       "          Z1         X2         Y2         Z2  \n",
       "0 -72.780545  36.621229  81.680557 -52.919272  \n",
       "1 -49.596509  79.223743  43.254091 -69.982489  \n",
       "2 -50.606259  78.451526  43.567403 -70.658489  \n",
       "3 -52.752784  86.320630  68.214645 -72.228461  \n",
       "4 -53.475747  76.986143  42.426849 -72.574743  "
      ]
     },
     "execution_count": 3,
     "metadata": {},
     "output_type": "execute_result"
    }
   ],
   "source": [
    "df1.head()"
   ]
  },
  {
   "cell_type": "code",
   "execution_count": 4,
   "metadata": {},
   "outputs": [],
   "source": [
    "## These are a couple of helper functions for the demo\n",
    "\n",
    "def get_corner_mat(data_array):\n",
    "    ndim = data_array.shape[1]\n",
    "    max_vec = np.zeros(ndim)\n",
    "    min_vec = np.zeros(ndim)\n",
    "    for i in range(ndim):\n",
    "        max_vec[i] = np.max(data_array[:,i])\n",
    "        min_vec[i] = np.min(data_array[:,i])\n",
    "    corner_mat  = np.zeros((2**ndim,ndim))\n",
    "    for i in range(2**ndim):\n",
    "        base_num = i\n",
    "        for j in range(ndim):\n",
    "            ind_int = base_num//(2**(ndim-j-1))\n",
    "            corner_mat[i,j] = max_vec[j] if ind_int else min_vec[j]\n",
    "            base_num = base_num - ind_int*(2**(ndim-j-1))\n",
    "    return corner_mat\n",
    "\n",
    "def ridge_points_to_edge_set(rpl):\n",
    "    return {frozenset([sublist[i],sublist[i+1]])  for sublist in rpl \n",
    "        for i in range(-1,len(sublist)-1) if (sublist[i]!=-1 and sublist[i+1]!=-1)}\n"
   ]
  },
  {
   "cell_type": "code",
   "execution_count": null,
   "metadata": {},
   "outputs": [],
   "source": []
  },
  {
   "cell_type": "markdown",
   "metadata": {},
   "source": [
    "## 2d view of some data points\n",
    "To begin exploring the data, we will start by looking at just the X and Y coordinates of sensor 0."
   ]
  },
  {
   "cell_type": "code",
   "execution_count": 5,
   "metadata": {},
   "outputs": [],
   "source": [
    "# Sample a small number of points from each class\n",
    "np.random.seed(123)\n",
    "sample_size = 25\n",
    "sample1 = df1[df1.Class==1].sample(sample_size)\n",
    "sample2 = df1[df1.Class==2].sample(sample_size)\n",
    "sample3 = df1[df1.Class==3].sample(sample_size)\n",
    "sample4 = df1[df1.Class==4].sample(sample_size)\n",
    "sample5 = df1[df1.Class==5].sample(sample_size)"
   ]
  },
  {
   "cell_type": "code",
   "execution_count": 6,
   "metadata": {},
   "outputs": [],
   "source": [
    "# Choose two classes and assign their colors\n",
    "pts_to_plot = pd.concat((sample1, sample3))\n",
    "colors_to_use = np.array(list(map(lambda x: 'yellow' if x==1 else 'blue', pts_to_plot.Class)))\n",
    "\n",
    "# Get the X and Y coordinates, and add the \"corner\" points -- outer limits of what we expect to see\n",
    "vsm_2d = pts_to_plot.loc[:,['X0','Y0']].values\n",
    "cm_2d = get_corner_mat(df1.loc[:,['X0','Y0']].values)\n",
    "vsm_2d = np.vstack((vsm_2d, cm_2d))\n",
    "colors_to_use_2d = np.concatenate((colors_to_use, ['black']*len(cm_2d)))\n",
    "\n",
    "# Define x and y points\n",
    "x_points = vsm_2d[:,0]\n",
    "y_points = vsm_2d[:,1]"
   ]
  },
  {
   "cell_type": "markdown",
   "metadata": {},
   "source": [
    "Below we see points from class 1 (in yellow) and points from class 3 (in blue).  The 4 black points in the corners represent the outer limits of what we expect to see.\n",
    "\n",
    "We are only plotting the X and Y coordinates of one sensor (ignoring the Z direction).  However, already a pattern can be seen where the yellow points are mostly clustered together, and the blue points are in a few different areas around that."
   ]
  },
  {
   "cell_type": "code",
   "execution_count": 7,
   "metadata": {},
   "outputs": [
    {
     "data": {
      "text/plain": [
       "<matplotlib.collections.PathCollection at 0x139550860>"
      ]
     },
     "execution_count": 7,
     "metadata": {},
     "output_type": "execute_result"
    },
    {
     "data": {
      "image/png": "[encoded data removed]",
      "text/plain": [
       "<Figure size 432x288 with 1 Axes>"
      ]
     },
     "metadata": {
      "needs_background": "light"
     },
     "output_type": "display_data"
    }
   ],
   "source": [
    "# First, let's just look at x and y coordinates in 2d to simplify\n",
    "plt.scatter(x_points, y_points, c=colors_to_use_2d, alpha=.4)"
   ]
  },
  {
   "cell_type": "markdown",
   "metadata": {},
   "source": [
    "If we were to use just the raw X and Y coordinates as features, the only splits that would be considered would be the horizonal and vertical lines on the plot above.  However, we can use the capabilities of StructureBoost to find more interesting splits on the regions.  The following will show exactly how we might do this.\n",
    "\n",
    "First we will randomly sample, say, 8 points, in addition to keeping the corners"
   ]
  },
  {
   "cell_type": "code",
   "execution_count": 8,
   "metadata": {},
   "outputs": [
    {
     "data": {
      "text/plain": [
       "array([ 3, 39, 35, 26,  6, 29, 21, 25])"
      ]
     },
     "execution_count": 8,
     "metadata": {},
     "output_type": "execute_result"
    }
   ],
   "source": [
    "vor_sample_size = 8\n",
    "rand_pts = np.random.choice(np.arange(50), size=vor_sample_size, replace=False)\n",
    "rand_pts"
   ]
  },
  {
   "cell_type": "code",
   "execution_count": 9,
   "metadata": {},
   "outputs": [
    {
     "data": {
      "text/plain": [
       "array([[  54.01893279,   80.14708743],\n",
       "       [  -3.15394392,   92.70207821],\n",
       "       [  36.27690904,   95.948379  ],\n",
       "       [  -5.51823138,  -37.85326256],\n",
       "       [   6.99229021,   82.06365146],\n",
       "       [  81.00603666,  130.44922359],\n",
       "       [  75.52787844,   58.20879165],\n",
       "       [  42.14430362,  131.10598182],\n",
       "       [-108.55273845,  -98.23375643],\n",
       "       [-108.55273845,  169.17546367],\n",
       "       [ 190.01783527,  -98.23375643],\n",
       "       [ 190.01783527,  169.17546367]])"
      ]
     },
     "execution_count": 9,
     "metadata": {},
     "output_type": "execute_result"
    }
   ],
   "source": [
    "chosen_pts = np.concatenate((rand_pts, np.arange(sample_size*2,sample_size*2+4)))\n",
    "vsm_2d_red = vsm_2d[chosen_pts,:]\n",
    "vsm_2d_red"
   ]
  },
  {
   "cell_type": "markdown",
   "metadata": {},
   "source": [
    "Plot the 8 points together with the corners - we will call these 12 points \"chosen points\""
   ]
  },
  {
   "cell_type": "code",
   "execution_count": 10,
   "metadata": {},
   "outputs": [
    {
     "data": {
      "text/plain": [
       "<Figure size 432x288 with 0 Axes>"
      ]
     },
     "metadata": {},
     "output_type": "display_data"
    },
    {
     "data": {
      "image/png": "[encoded data removed]",
      "text/plain": [
       "<Figure size 432x288 with 1 Axes>"
      ]
     },
     "metadata": {
      "needs_background": "light"
     },
     "output_type": "display_data"
    }
   ],
   "source": [
    "vor_2d = sp.spatial.Voronoi(vsm_2d_red)\n",
    "fig = plt.figure()\n",
    "x_pts = vsm_2d_red[:,0]\n",
    "y_pts = vsm_2d_red[:,1]\n",
    "\n",
    "    \n",
    "plt.figure(figsize=(6,4))\n",
    "plt.scatter(x_pts, y_pts);\n",
    "i=0\n",
    "for x, y in zip(x_pts, y_pts):\n",
    "    label = str(i)\n",
    "    i+=1\n",
    "    plt.text(x+2, y+2, s=label);"
   ]
  },
  {
   "cell_type": "markdown",
   "metadata": {},
   "source": [
    "Now we do a *Voronoi triangulation* - essentially we divide up the area in that square, mapping every point in the plane to the \"chosen point\" it is closest to."
   ]
  },
  {
   "cell_type": "code",
   "execution_count": 11,
   "metadata": {},
   "outputs": [
    {
     "data": {
      "image/png": "[encoded data removed]",
      "text/plain": [
       "<Figure size 432x288 with 1 Axes>"
      ]
     },
     "metadata": {
      "needs_background": "light"
     },
     "output_type": "display_data"
    }
   ],
   "source": [
    "sp.spatial.voronoi_plot_2d(vor_2d);\n",
    "plt.scatter(x_pts, y_pts);\n",
    "i=0\n",
    "for x, y in zip(x_pts, y_pts):\n",
    "    label = str(i)\n",
    "    i+=1\n",
    "    plt.text(x+2, y+2, s=label);"
   ]
  },
  {
   "cell_type": "markdown",
   "metadata": {},
   "source": [
    "Now, we treat each region in the plane as a *category* - in particular, by identifying each region with its \"chosen point\".  So every region gets labeled with its associated \"chosen point\".  \n",
    "\n",
    "Ideally, some regions should be denser in blue points and others denser in yellow points.  We will see this below as we superimpose the Voronoi triangulation on our initial scatterplot."
   ]
  },
  {
   "cell_type": "code",
   "execution_count": 12,
   "metadata": {},
   "outputs": [
    {
     "data": {
      "image/png": "[encoded data removed]",
      "text/plain": [
       "<Figure size 432x288 with 1 Axes>"
      ]
     },
     "metadata": {
      "needs_background": "light"
     },
     "output_type": "display_data"
    }
   ],
   "source": [
    "sp.spatial.voronoi_plot_2d(vor_2d);\n",
    "plt.scatter(x_points, y_points, c=colors_to_use_2d, alpha=.4)\n",
    "i=0\n",
    "for x, y in zip(x_pts, y_pts):\n",
    "    label = str(i)\n",
    "    i+=1\n",
    "    plt.text(x+2, y+2, s=label);"
   ]
  },
  {
   "cell_type": "markdown",
   "metadata": {},
   "source": [
    "Now, we treat each region in the plane as a *category* - in particular, by identifying each region with its \"chosen point\" and putting edges between neighboring regions, we can now treat our pair of numerical coordinates (X0, Y0) as a single structured categorical variable, with a graph as shown below.  Now, when we consider \"splits\" on this new structured categorical variable, we can consider something like \"Regions 4, 2, and 0 go left, and all other regions go right\""
   ]
  },
  {
   "cell_type": "code",
   "execution_count": 13,
   "metadata": {},
   "outputs": [
    {
     "data": {
      "image/png": "[encoded data removed]",
      "text/plain": [
       "<Figure size 432x288 with 1 Axes>"
      ]
     },
     "metadata": {
      "needs_background": "light"
     },
     "output_type": "display_data"
    }
   ],
   "source": [
    "plt.scatter(x_pts, y_pts);\n",
    "i=0\n",
    "for x, y in zip(x_pts, y_pts):\n",
    "    label = str(i)\n",
    "    i+=1\n",
    "    plt.text(x+2, y+2, s=label);\n",
    "qwe = ridge_points_to_edge_set(vor_2d.ridge_points)\n",
    "for fs in qwe:\n",
    "    edge = np.array(list(fs))\n",
    "    plt.plot(vor_2d.points[edge,0],vor_2d.points[edge,1], color='black')"
   ]
  },
  {
   "cell_type": "markdown",
   "metadata": {},
   "source": [
    "At each node (of the decision tree), whenever we check splits for this variable, we resample the available points, recreate the regions and the graph, and then evaluate a set of splits as determined by the `split_method` and associated parameters.\n",
    "\n",
    "When we go to predict on a new data point, we simply determine what region the point is in, and then send it down the appropriate branch of the tree."
   ]
  },
  {
   "cell_type": "code",
   "execution_count": null,
   "metadata": {},
   "outputs": [],
   "source": []
  },
  {
   "cell_type": "markdown",
   "metadata": {},
   "source": [
    "## Voronoi in 3d\n",
    "The approach we outlined above works for an arbitrary number of dimensions.  We showed it above in 2-dimensions for easier visualization.  Next we show how the process would look in 3-dimensions"
   ]
  },
  {
   "cell_type": "code",
   "execution_count": 14,
   "metadata": {},
   "outputs": [],
   "source": [
    "vsm_3d = pts_to_plot.loc[:,['X0','Y0','Z0']].values\n",
    "cm_3d = get_corner_mat(df1.loc[:,['X0','Y0','Z0']].values)\n",
    "vsm_3d = np.vstack((vsm_3d, cm_3d))\n",
    "colors_to_use_3d = np.concatenate((colors_to_use, ['black']*len(cm_3d)))\n",
    "\n",
    "x_points = vsm_3d[:,0]\n",
    "y_points = vsm_3d[:,1]\n",
    "z_points = vsm_3d[:,2]"
   ]
  },
  {
   "cell_type": "code",
   "execution_count": 15,
   "metadata": {},
   "outputs": [
    {
     "data": {
      "image/png": "[encoded data removed]",
      "text/plain": [
       "<Figure size 432x288 with 1 Axes>"
      ]
     },
     "metadata": {
      "needs_background": "light"
     },
     "output_type": "display_data"
    }
   ],
   "source": [
    "fig = plt.figure()\n",
    "ax = plt.axes(projection=\"3d\")\n",
    "\n",
    "ax.scatter3D(x_points, y_points, z_points, c=colors_to_use_3d);\n",
    "ax.view_init(30, 30)\n",
    "\n",
    "# Try different views to get a sense of the 3d structure of the points\n",
    "ax.view_init(0, 150)\n",
    "# ax.view_init(0, 80)\n",
    "# ax.view_init(-90, 60)"
   ]
  },
  {
   "cell_type": "code",
   "execution_count": 16,
   "metadata": {},
   "outputs": [
    {
     "data": {
      "text/plain": [
       "array([[  54.01893279,   80.14708743,  -57.75105122],\n",
       "       [  -3.15394392,   92.70207821,  -34.65659414],\n",
       "       [  36.27690904,   95.948379  ,    7.69060679],\n",
       "       [  -5.51823138,  -37.85326256,  -52.98198392],\n",
       "       [   6.99229021,   82.06365146,  -43.07396923],\n",
       "       [  81.00603666,  130.44922359,  -16.24774039],\n",
       "       [  75.52787844,   58.20879165,  -57.57916161],\n",
       "       [  42.14430362,  131.10598182,  -17.8189266 ],\n",
       "       [-108.55273845,  -98.23375643, -126.77087192],\n",
       "       [-108.55273845,  -98.23375643,  113.34511874],\n",
       "       [-108.55273845,  169.17546367, -126.77087192],\n",
       "       [-108.55273845,  169.17546367,  113.34511874],\n",
       "       [ 190.01783527,  -98.23375643, -126.77087192],\n",
       "       [ 190.01783527,  -98.23375643,  113.34511874],\n",
       "       [ 190.01783527,  169.17546367, -126.77087192],\n",
       "       [ 190.01783527,  169.17546367,  113.34511874]])"
      ]
     },
     "execution_count": 16,
     "metadata": {},
     "output_type": "execute_result"
    }
   ],
   "source": [
    "chosen_pts = np.concatenate((rand_pts, np.arange(sample_size*2,sample_size*2+8)))\n",
    "vsm_3d_red = vsm_3d[chosen_pts,:]\n",
    "vsm_3d_red"
   ]
  },
  {
   "cell_type": "code",
   "execution_count": 17,
   "metadata": {},
   "outputs": [],
   "source": [
    "vor_3d = sp.spatial.Voronoi(vsm_3d_red)\n",
    "x_pts_3d = vsm_3d_red[:,0]\n",
    "y_pts_3d = vsm_3d_red[:,1]\n",
    "z_pts_3d = vsm_3d_red[:,2]"
   ]
  },
  {
   "cell_type": "code",
   "execution_count": 18,
   "metadata": {},
   "outputs": [
    {
     "data": {
      "image/png": "[encoded data removed]",
      "text/plain": [
       "<Figure size 432x288 with 1 Axes>"
      ]
     },
     "metadata": {
      "needs_background": "light"
     },
     "output_type": "display_data"
    }
   ],
   "source": [
    "fig = plt.figure()\n",
    "ax = plt.axes(projection=\"3d\")\n",
    "ax.scatter3D(x_pts_3d, y_pts_3d, z_pts_3d);\n",
    "i=0\n",
    "for x, y, z in zip(x_pts_3d, y_pts_3d, z_pts_3d):\n",
    "    label = str(i)\n",
    "    i+=1\n",
    "    ax.text(x+2, y+2, z+2, label)\n",
    "\n",
    "ax.view_init(30, 30)\n",
    "ax.view_init(0, 150)\n"
   ]
  },
  {
   "cell_type": "code",
   "execution_count": 19,
   "metadata": {},
   "outputs": [
    {
     "data": {
      "image/png": "[encoded data removed]",
      "text/plain": [
       "<Figure size 432x288 with 1 Axes>"
      ]
     },
     "metadata": {
      "needs_background": "light"
     },
     "output_type": "display_data"
    }
   ],
   "source": [
    "fig = plt.figure()\n",
    "ax = plt.axes(projection=\"3d\")\n",
    "ax.scatter3D(x_pts_3d, y_pts_3d, z_pts_3d);\n",
    "i=0\n",
    "for x, y, z in zip(x_pts_3d, y_pts_3d, z_pts_3d):\n",
    "    label = str(i)\n",
    "    i+=1\n",
    "    ax.text(x+2, y+2, z+2, label)\n",
    "qwe = ridge_points_to_edge_set(vor_3d.ridge_points)\n",
    "for fs in qwe:\n",
    "    edge = np.array(list(fs))\n",
    "    ax.plot3D(vor_3d.points[edge,0],vor_3d.points[edge,1],vor_3d.points[edge,2], c='black')\n",
    "\n",
    "## Change numbers below to rotate plot    \n",
    "#ax.view_init(30, 30)\n",
    "ax.view_init(0, 60)\n"
   ]
  },
  {
   "cell_type": "markdown",
   "metadata": {},
   "source": [
    "## Using the Graphical Voronoi feature in StructureBoost\n",
    "In this next section we show how to use the `graphical_voronoi` feature type in StructureBoost in order to train models and make predictions on new cases.  We compare the performance to standard boosting packages using only the coordinates and show a remarkable improvement in performance."
   ]
  },
  {
   "cell_type": "code",
   "execution_count": 20,
   "metadata": {},
   "outputs": [
    {
     "data": {
      "text/plain": [
       "3    16344\n",
       "1    16265\n",
       "5    15733\n",
       "2    14978\n",
       "4    14775\n",
       "Name: Class, dtype: int64"
      ]
     },
     "execution_count": 20,
     "metadata": {},
     "output_type": "execute_result"
    }
   ],
   "source": [
    "df1.Class.value_counts()"
   ]
  },
  {
   "cell_type": "code",
   "execution_count": 21,
   "metadata": {},
   "outputs": [
    {
     "data": {
      "text/plain": [
       "10    9573\n",
       "0     9048\n",
       "13    8739\n",
       "11    8061\n",
       "14    7495\n",
       "8     6811\n",
       "5     5105\n",
       "12    4865\n",
       "1     4717\n",
       "2     4513\n",
       "6     4377\n",
       "9     3920\n",
       "7      492\n",
       "4      379\n",
       "Name: User, dtype: int64"
      ]
     },
     "execution_count": 21,
     "metadata": {},
     "output_type": "execute_result"
    }
   ],
   "source": [
    "df1.User.value_counts()"
   ]
  },
  {
   "cell_type": "markdown",
   "metadata": {},
   "source": [
    "## Creating train and test sets\n",
    "To avoid \"leakage\" we train on users 0-10, use number 11 for early stopping, and then test on users 12-14.\n",
    "We use class 5 \"Grab\" as the positive case and the remaining postures as negative cases.\n",
    "\n",
    "If desired, these choices can be modified by changing the next two cells"
   ]
  },
  {
   "cell_type": "code",
   "execution_count": 22,
   "metadata": {},
   "outputs": [
    {
     "data": {
      "text/plain": [
       "((48935, 11), (8061, 11), (21099, 11), (78095, 11))"
      ]
     },
     "execution_count": 22,
     "metadata": {},
     "output_type": "execute_result"
    }
   ],
   "source": [
    "df_train = df1[df1.User<11]\n",
    "df_valid = df1[(df1.User==11)]\n",
    "df_test = df1[df1.User>=12]\n",
    "df_train.shape, df_valid.shape, df_test.shape, df1.shape"
   ]
  },
  {
   "cell_type": "code",
   "execution_count": 23,
   "metadata": {},
   "outputs": [],
   "source": [
    "positive_class = 5\n",
    "\n",
    "feature_list = ['X0','Y0','Z0','X1','Y1','Z1','X2','Y2','Z2']\n",
    "X_train = df_train.loc[:,feature_list]\n",
    "X_valid = df_valid.loc[:,feature_list]\n",
    "X_test = df_test.loc[:,feature_list]\n",
    "y_train = (df_train.Class==positive_class).astype(int)\n",
    "y_valid = (df_valid.Class==positive_class).astype(int)\n",
    "y_test = (df_test.Class==positive_class).astype(int)"
   ]
  },
  {
   "cell_type": "markdown",
   "metadata": {},
   "source": [
    "## Configuring StructureBoost for Graphical Voronoi variables\n",
    "Here we configure our StructureBoost model. We have one \"feature\" for each sensor.  Each feature will be created from the X,Y,Z variables of a particular sensor. Note that this breaks the usual one-to-one correspondence between \"feature\" and \"columns\" of the training data. Here a single feature (representing a sensor) depends on 3 columns of the data.\n",
    "\n",
    "For each voronoi feature we must specify:\n",
    "- **subfeature_list**: the (numerical) columns from which the feature is created\n",
    "- **voronoi_sample_size**: how many points to sample to create regions (not including the corners, which are created automatically)\n",
    "- **voronoi_min_pts**: how many data points there must be to attempt to split on this variable\n",
    "- **split_method**: what method should I use to create splits for the resulting categorical variable\n",
    "- **num_span_trees**: since I chose `span_tree` the split method, I must pass along the associated parameters for that method"
   ]
  },
  {
   "cell_type": "code",
   "execution_count": 24,
   "metadata": {},
   "outputs": [
    {
     "data": {
      "text/plain": [
       "{'sensor0': {'feature_type': 'graphical_voronoi',\n",
       "  'subfeature_list': ['X0', 'Y0', 'Z0'],\n",
       "  'voronoi_sample_size': 10,\n",
       "  'voronoi_min_pts': 10,\n",
       "  'split_method': 'span_tree',\n",
       "  'num_span_trees': 1},\n",
       " 'sensor1': {'feature_type': 'graphical_voronoi',\n",
       "  'subfeature_list': ['X1', 'Y1', 'Z1'],\n",
       "  'voronoi_sample_size': 10,\n",
       "  'voronoi_min_pts': 10,\n",
       "  'split_method': 'span_tree',\n",
       "  'num_span_trees': 1},\n",
       " 'sensor2': {'feature_type': 'graphical_voronoi',\n",
       "  'subfeature_list': ['X2', 'Y2', 'Z2'],\n",
       "  'voronoi_sample_size': 10,\n",
       "  'voronoi_min_pts': 10,\n",
       "  'split_method': 'span_tree',\n",
       "  'num_span_trees': 1}}"
      ]
     },
     "execution_count": 24,
     "metadata": {},
     "output_type": "execute_result"
    }
   ],
   "source": [
    "# Create the feature_configs dictionary\n",
    "\n",
    "my_feature_configs = {}\n",
    "\n",
    "my_fc_sensor0 = {}\n",
    "my_fc_sensor0['feature_type'] = 'graphical_voronoi'\n",
    "my_fc_sensor0['subfeature_list'] = ['X0', 'Y0', 'Z0']\n",
    "my_fc_sensor0['voronoi_sample_size'] = 10\n",
    "my_fc_sensor0['voronoi_min_pts'] = 10\n",
    "my_fc_sensor0['split_method'] = 'span_tree'\n",
    "my_fc_sensor0['num_span_trees'] = 1\n",
    "\n",
    "my_fc_sensor1 = {}\n",
    "my_fc_sensor1['feature_type'] = 'graphical_voronoi'\n",
    "my_fc_sensor1['subfeature_list'] = ['X1', 'Y1', 'Z1']\n",
    "my_fc_sensor1['voronoi_sample_size'] = 10\n",
    "my_fc_sensor1['voronoi_min_pts'] = 10\n",
    "my_fc_sensor1['split_method'] = 'span_tree'\n",
    "my_fc_sensor1['num_span_trees'] = 1\n",
    "\n",
    "my_fc_sensor2 = {}\n",
    "my_fc_sensor2['feature_type'] = 'graphical_voronoi'\n",
    "my_fc_sensor2['subfeature_list'] = ['X2', 'Y2', 'Z2']\n",
    "my_fc_sensor2['voronoi_sample_size'] = 10\n",
    "my_fc_sensor2['voronoi_min_pts'] = 10\n",
    "my_fc_sensor2['split_method'] = 'span_tree'\n",
    "my_fc_sensor2['num_span_trees'] = 1\n",
    "\n",
    "my_feature_configs['sensor0'] = my_fc_sensor0\n",
    "my_feature_configs['sensor1'] = my_fc_sensor1\n",
    "my_feature_configs['sensor2'] = my_fc_sensor2\n",
    "\n",
    "my_feature_configs"
   ]
  },
  {
   "cell_type": "code",
   "execution_count": 25,
   "metadata": {},
   "outputs": [
    {
     "name": "stdout",
     "output_type": "stream",
     "text": [
      "i=0, eval_set_log_loss = 0.49848850285899493\n",
      "warning got 0 length vec in node summary\n",
      "warning got 0 length vec in node summary\n",
      "i=20, eval_set_log_loss = 0.39333577556760474\n",
      "i=40, eval_set_log_loss = 0.3505379987251943\n",
      "i=60, eval_set_log_loss = 0.328974139717911\n",
      "i=80, eval_set_log_loss = 0.3154508575329135\n",
      "i=100, eval_set_log_loss = 0.3024298834860951\n",
      "i=120, eval_set_log_loss = 0.3013041828946394\n",
      "i=140, eval_set_log_loss = 0.2977683637630855\n",
      "i=160, eval_set_log_loss = 0.2999108169475982\n",
      "i=180, eval_set_log_loss = 0.298503446499587\n",
      "i=200, eval_set_log_loss = 0.29316817217315105\n",
      "i=220, eval_set_log_loss = 0.2915641968974861\n",
      "i=240, eval_set_log_loss = 0.29126845796775197\n",
      "i=260, eval_set_log_loss = 0.2906321903576634\n",
      "i=280, eval_set_log_loss = 0.2922531685630757\n",
      "Stopping early: curr_loss of 0.2922531685630757\n",
      "                                        exceeds compare_loss of 0.2915641968974861\n"
     ]
    }
   ],
   "source": [
    "## Fit the StructureBoost model, using the validation set to determine early stopping\n",
    "# Takes about 10 min to run on my 2019 MacBook Pro\n",
    "my_stboost = stb.StructureBoost(num_trees=2000, learning_rate=.05,\n",
    "                                 feature_configs=my_feature_configs,\n",
    "                                 max_depth=8, mode='classification')\n",
    "\n",
    "my_stboost.fit(X_train, y_train, eval_set=(X_valid,y_valid), eval_freq=20, early_stop_past_steps=3)"
   ]
  },
  {
   "cell_type": "code",
   "execution_count": 26,
   "metadata": {},
   "outputs": [],
   "source": [
    "## Evaluate the results\n",
    "answers = my_stboost.predict(X_test)\n",
    "stb_log_loss_8, stb_auc_score_8 = log_loss(y_test, answers), roc_auc_score(y_test,answers)\n"
   ]
  },
  {
   "cell_type": "code",
   "execution_count": null,
   "metadata": {},
   "outputs": [],
   "source": []
  },
  {
   "cell_type": "markdown",
   "metadata": {},
   "source": [
    "## Comparison to CatBoost, XGBoost\n",
    "In the following we compare the performance above to CatBoost and XGBoost (using just the raw coordinate values).  Since the optimal max_depth setting may be different, we try many possible values of max_depth and use the same early stopping criteria to optimize the model.\n",
    "CatBoost has a maximum of 16 for max_depth.\n"
   ]
  },
  {
   "cell_type": "code",
   "execution_count": 27,
   "metadata": {},
   "outputs": [
    {
     "data": {
      "text/plain": [
       "array([ 2,  3,  4,  5,  6,  7,  8,  9, 10, 11, 12, 13, 14, 15, 16])"
      ]
     },
     "execution_count": 27,
     "metadata": {},
     "output_type": "execute_result"
    }
   ],
   "source": [
    "md_to_check_cb = np.arange(2,17)\n",
    "ll_vec_cb = np.zeros(len(md_to_check_cb))\n",
    "auc_vec_cb = np.zeros(len(md_to_check_cb))\n",
    "md_to_check_cb"
   ]
  },
  {
   "cell_type": "code",
   "execution_count": 28,
   "metadata": {
    "scrolled": true
   },
   "outputs": [
    {
     "name": "stdout",
     "output_type": "stream",
     "text": [
      "max_depth = 2\n",
      "0:\tlearn: 0.6698511\ttest: 0.6728809\tbest: 0.6728809 (0)\ttotal: 74.8ms\tremaining: 2m 29s\n",
      "100:\tlearn: 0.3608373\ttest: 0.4556080\tbest: 0.4548217 (99)\ttotal: 1.51s\tremaining: 28.5s\n",
      "200:\tlearn: 0.2989412\ttest: 0.4333265\tbest: 0.4326170 (194)\ttotal: 2.98s\tremaining: 26.6s\n",
      "300:\tlearn: 0.2625700\ttest: 0.4318236\tbest: 0.4311804 (293)\ttotal: 4.55s\tremaining: 25.7s\n",
      "Stopped by overfitting detector  (60 iterations wait)\n",
      "\n",
      "bestTest = 0.4311804082\n",
      "bestIteration = 293\n",
      "\n",
      "Shrink model to first 294 iterations.\n",
      "max_depth = 3\n",
      "0:\tlearn: 0.6645851\ttest: 0.6697691\tbest: 0.6697691 (0)\ttotal: 20.8ms\tremaining: 41.5s\n",
      "100:\tlearn: 0.2992330\ttest: 0.4390173\tbest: 0.4390173 (100)\ttotal: 1.7s\tremaining: 32s\n",
      "200:\tlearn: 0.2279572\ttest: 0.4348973\tbest: 0.4311096 (181)\ttotal: 3.33s\tremaining: 29.8s\n",
      "Stopped by overfitting detector  (60 iterations wait)\n",
      "\n",
      "bestTest = 0.4311095598\n",
      "bestIteration = 181\n",
      "\n",
      "Shrink model to first 182 iterations.\n",
      "max_depth = 4\n",
      "0:\tlearn: 0.6621804\ttest: 0.6668332\tbest: 0.6668332 (0)\ttotal: 22.2ms\tremaining: 44.4s\n",
      "100:\tlearn: 0.2521347\ttest: 0.4312493\tbest: 0.4260533 (72)\ttotal: 1.75s\tremaining: 32.8s\n",
      "Stopped by overfitting detector  (60 iterations wait)\n",
      "\n",
      "bestTest = 0.4260532863\n",
      "bestIteration = 72\n",
      "\n",
      "Shrink model to first 73 iterations.\n",
      "max_depth = 5\n",
      "0:\tlearn: 0.6591292\ttest: 0.6646994\tbest: 0.6646994 (0)\ttotal: 26.9ms\tremaining: 53.7s\n",
      "100:\tlearn: 0.2101931\ttest: 0.4045975\tbest: 0.4045975 (100)\ttotal: 1.81s\tremaining: 34.1s\n",
      "Stopped by overfitting detector  (60 iterations wait)\n",
      "\n",
      "bestTest = 0.4038114578\n",
      "bestIteration = 102\n",
      "\n",
      "Shrink model to first 103 iterations.\n",
      "max_depth = 6\n",
      "0:\tlearn: 0.6577172\ttest: 0.6619419\tbest: 0.6619419 (0)\ttotal: 17.8ms\tremaining: 35.5s\n",
      "100:\tlearn: 0.1744501\ttest: 0.3884697\tbest: 0.3884697 (100)\ttotal: 2.1s\tremaining: 39.5s\n",
      "Stopped by overfitting detector  (60 iterations wait)\n",
      "\n",
      "bestTest = 0.3875601934\n",
      "bestIteration = 104\n",
      "\n",
      "Shrink model to first 105 iterations.\n",
      "max_depth = 7\n",
      "0:\tlearn: 0.6537875\ttest: 0.6582515\tbest: 0.6582515 (0)\ttotal: 30.9ms\tremaining: 1m 1s\n",
      "100:\tlearn: 0.1451225\ttest: 0.3777539\tbest: 0.3696360 (78)\ttotal: 2.42s\tremaining: 45.5s\n",
      "200:\tlearn: 0.0809520\ttest: 0.3655755\tbest: 0.3580702 (171)\ttotal: 4.74s\tremaining: 42.4s\n",
      "Stopped by overfitting detector  (60 iterations wait)\n",
      "\n",
      "bestTest = 0.3580701681\n",
      "bestIteration = 171\n",
      "\n",
      "Shrink model to first 172 iterations.\n",
      "max_depth = 8\n",
      "0:\tlearn: 0.6499390\ttest: 0.6548649\tbest: 0.6548649 (0)\ttotal: 31.7ms\tremaining: 1m 3s\n",
      "100:\tlearn: 0.1197404\ttest: 0.3664329\tbest: 0.3604988 (72)\ttotal: 2.33s\tremaining: 43.9s\n",
      "200:\tlearn: 0.0627695\ttest: 0.3501747\tbest: 0.3501747 (200)\ttotal: 4.72s\tremaining: 42.3s\n",
      "300:\tlearn: 0.0383086\ttest: 0.3437250\tbest: 0.3437250 (300)\ttotal: 7.09s\tremaining: 40s\n",
      "Stopped by overfitting detector  (60 iterations wait)\n",
      "\n",
      "bestTest = 0.3419180599\n",
      "bestIteration = 305\n",
      "\n",
      "Shrink model to first 306 iterations.\n",
      "max_depth = 9\n",
      "0:\tlearn: 0.6418158\ttest: 0.6583790\tbest: 0.6583790 (0)\ttotal: 41.2ms\tremaining: 1m 22s\n",
      "100:\tlearn: 0.0946067\ttest: 0.3532716\tbest: 0.3532716 (100)\ttotal: 2.94s\tremaining: 55.2s\n",
      "200:\tlearn: 0.0463319\ttest: 0.3431776\tbest: 0.3404534 (176)\ttotal: 5.88s\tremaining: 52.6s\n",
      "Stopped by overfitting detector  (60 iterations wait)\n",
      "\n",
      "bestTest = 0.3404534452\n",
      "bestIteration = 176\n",
      "\n",
      "Shrink model to first 177 iterations.\n",
      "max_depth = 10\n",
      "0:\tlearn: 0.6375457\ttest: 0.6580603\tbest: 0.6580603 (0)\ttotal: 47.3ms\tremaining: 1m 34s\n",
      "100:\tlearn: 0.0783260\ttest: 0.3340756\tbest: 0.3310778 (77)\ttotal: 4.03s\tremaining: 1m 15s\n",
      "200:\tlearn: 0.0351273\ttest: 0.3157182\tbest: 0.3157182 (200)\ttotal: 8.1s\tremaining: 1m 12s\n",
      "300:\tlearn: 0.0197323\ttest: 0.3190038\tbest: 0.3143268 (254)\ttotal: 12.2s\tremaining: 1m 8s\n",
      "Stopped by overfitting detector  (60 iterations wait)\n",
      "\n",
      "bestTest = 0.3143267555\n",
      "bestIteration = 254\n",
      "\n",
      "Shrink model to first 255 iterations.\n",
      "max_depth = 11\n",
      "0:\tlearn: 0.6323762\ttest: 0.6548805\tbest: 0.6548805 (0)\ttotal: 70ms\tremaining: 2m 19s\n",
      "100:\tlearn: 0.0623074\ttest: 0.3284699\tbest: 0.3284699 (100)\ttotal: 6.29s\tremaining: 1m 58s\n",
      "200:\tlearn: 0.0258921\ttest: 0.3196356\tbest: 0.3178189 (167)\ttotal: 12.3s\tremaining: 1m 50s\n",
      "Stopped by overfitting detector  (60 iterations wait)\n",
      "\n",
      "bestTest = 0.3178189155\n",
      "bestIteration = 167\n",
      "\n",
      "Shrink model to first 168 iterations.\n",
      "max_depth = 12\n",
      "0:\tlearn: 0.6282082\ttest: 0.6534128\tbest: 0.6534128 (0)\ttotal: 113ms\tremaining: 3m 46s\n",
      "100:\tlearn: 0.0514193\ttest: 0.3310312\tbest: 0.3250111 (90)\ttotal: 9.63s\tremaining: 3m 1s\n",
      "200:\tlearn: 0.0204953\ttest: 0.3213928\tbest: 0.3196908 (168)\ttotal: 19.1s\tremaining: 2m 50s\n",
      "Stopped by overfitting detector  (60 iterations wait)\n",
      "\n",
      "bestTest = 0.3196907593\n",
      "bestIteration = 168\n",
      "\n",
      "Shrink model to first 169 iterations.\n",
      "max_depth = 13\n",
      "0:\tlearn: 0.6249204\ttest: 0.6531641\tbest: 0.6531641 (0)\ttotal: 209ms\tremaining: 6m 58s\n",
      "100:\tlearn: 0.0435891\ttest: 0.3076090\tbest: 0.3075488 (99)\ttotal: 17s\tremaining: 5m 19s\n",
      "200:\tlearn: 0.0165586\ttest: 0.3023195\tbest: 0.2985532 (195)\ttotal: 33.5s\tremaining: 5m\n",
      "Stopped by overfitting detector  (60 iterations wait)\n",
      "\n",
      "bestTest = 0.2985531615\n",
      "bestIteration = 195\n",
      "\n",
      "Shrink model to first 196 iterations.\n",
      "max_depth = 14\n",
      "0:\tlearn: 0.6224881\ttest: 0.6532230\tbest: 0.6532230 (0)\ttotal: 459ms\tremaining: 15m 17s\n",
      "100:\tlearn: 0.0362447\ttest: 0.3121318\tbest: 0.3117861 (97)\ttotal: 32s\tremaining: 10m 1s\n",
      "200:\tlearn: 0.0134899\ttest: 0.3088460\tbest: 0.3086171 (199)\ttotal: 1m 3s\tremaining: 9m 27s\n",
      "Stopped by overfitting detector  (60 iterations wait)\n",
      "\n",
      "bestTest = 0.3086170749\n",
      "bestIteration = 199\n",
      "\n",
      "Shrink model to first 200 iterations.\n",
      "max_depth = 15\n",
      "0:\tlearn: 0.6160843\ttest: 0.6527204\tbest: 0.6527204 (0)\ttotal: 1.47s\tremaining: 48m 49s\n",
      "100:\tlearn: 0.0305237\ttest: 0.3094896\tbest: 0.3081976 (93)\ttotal: 1m 3s\tremaining: 19m 53s\n",
      "200:\tlearn: 0.0109930\ttest: 0.3077814\tbest: 0.3019244 (171)\ttotal: 2m 5s\tremaining: 18m 42s\n",
      "Stopped by overfitting detector  (60 iterations wait)\n",
      "\n",
      "bestTest = 0.3019243538\n",
      "bestIteration = 171\n",
      "\n",
      "Shrink model to first 172 iterations.\n",
      "max_depth = 16\n",
      "0:\tlearn: 0.6137561\ttest: 0.6533414\tbest: 0.6533414 (0)\ttotal: 2.4s\tremaining: 1h 19m 55s\n",
      "100:\tlearn: 0.0264909\ttest: 0.2974496\tbest: 0.2970474 (98)\ttotal: 2m 5s\tremaining: 39m 16s\n",
      "Stopped by overfitting detector  (60 iterations wait)\n",
      "\n",
      "bestTest = 0.2940431592\n",
      "bestIteration = 109\n",
      "\n",
      "Shrink model to first 110 iterations.\n"
     ]
    }
   ],
   "source": [
    "for i in range(len(md_to_check_cb)):\n",
    "    print('max_depth = {}'.format(md_to_check_cb[i]))\n",
    "    model_cb = cb.CatBoostClassifier(iterations=2000, early_stopping_rounds=60, max_depth=md_to_check_cb[i],\n",
    "                                 learning_rate=.05, loss_function='Logloss')\n",
    "    model_cb.fit(X_train, y_train,  eval_set=(X_valid, y_valid), verbose=100)\n",
    "\n",
    "    answers_cb = model_cb.predict_proba(X_test)\n",
    "    ll_vec_cb[i], auc_vec_cb[i] = log_loss(y_test,answers_cb), roc_auc_score(y_test,answers_cb[:,1])"
   ]
  },
  {
   "cell_type": "code",
   "execution_count": null,
   "metadata": {},
   "outputs": [],
   "source": []
  },
  {
   "cell_type": "code",
   "execution_count": 29,
   "metadata": {
    "scrolled": true
   },
   "outputs": [
    {
     "name": "stdout",
     "output_type": "stream",
     "text": [
      "max_depth = 2\n",
      "max_depth = 3\n",
      "max_depth = 4\n",
      "max_depth = 5\n",
      "max_depth = 6\n",
      "max_depth = 7\n",
      "max_depth = 8\n",
      "max_depth = 9\n",
      "max_depth = 10\n",
      "max_depth = 11\n",
      "max_depth = 12\n",
      "max_depth = 13\n",
      "max_depth = 14\n",
      "max_depth = 15\n",
      "max_depth = 16\n",
      "max_depth = 17\n",
      "max_depth = 18\n",
      "max_depth = 19\n",
      "max_depth = 20\n",
      "max_depth = 21\n",
      "max_depth = 22\n",
      "max_depth = 23\n",
      "max_depth = 24\n"
     ]
    }
   ],
   "source": [
    "md_to_check_xgb = np.arange(2,25)\n",
    "ll_vec_xgb = np.zeros(len(md_to_check_xgb))\n",
    "auc_vec_xgb = np.zeros(len(md_to_check_xgb))\n",
    "for i in range(len(md_to_check_xgb)):\n",
    "    print('max_depth = {}'.format(md_to_check_xgb[i]))\n",
    "    xgb_model = xgb.XGBClassifier(n_estimators=2000, max_depth=md_to_check_xgb[i],\n",
    "                                 learning_rate=.05)\n",
    "    xgb_model.fit(X_train, y_train,  eval_set=[(X_valid, y_valid)], early_stopping_rounds=60, \n",
    "                              eval_metric='logloss', verbose=False)\n",
    "\n",
    "    answers_xgb = xgb_model.predict_proba(X_test)\n",
    "    ll_vec_xgb[i], auc_vec_xgb[i] = log_loss(y_test,answers_xgb), roc_auc_score(y_test,answers_xgb[:,1])"
   ]
  },
  {
   "cell_type": "code",
   "execution_count": 31,
   "metadata": {},
   "outputs": [
    {
     "name": "stdout",
     "output_type": "stream",
     "text": [
      "Log Loss\n",
      "StructureBoost:  log loss = 0.19065 (at max_depth 8)\n",
      "CatBoost:    min log loss = 0.24518 at max_depth 14\n",
      "XGBoost:     min log loss = 0.32349 at max_depth 18\n",
      "\n",
      "ROC AUC\n",
      "StructureBoost: roc auc = 0.96332 (at max_depth 8)\n",
      "CatBoost:   max roc auc = 0.95056 at max_depth 16\n",
      "XGBoost:    max roc auc = 0.89611 at max_depth 18\n"
     ]
    }
   ],
   "source": [
    "cb_min_ll_md = md_to_check_cb[np.argmin(ll_vec_cb)]\n",
    "xgb_min_ll_md = md_to_check_xgb[np.argmin(ll_vec_xgb)]\n",
    "cb_max_auc_md = md_to_check_cb[np.argmax(auc_vec_cb)]\n",
    "xgb_max_auc_md = md_to_check_xgb[np.argmax(auc_vec_xgb)]\n",
    "\n",
    "print('Log Loss')\n",
    "print('StructureBoost:  log loss = {} (at max_depth 8)'.format(np.round(stb_log_loss_8, decimals=5)))\n",
    "print('CatBoost:    min log loss = {} at max_depth {}'.format(np.round(np.min(ll_vec_cb), decimals=5), cb_min_ll_md))\n",
    "print('XGBoost:     min log loss = {} at max_depth {}'.format(np.round(np.min(ll_vec_xgb), decimals=5), xgb_min_ll_md))\n",
    "\n",
    "print('\\nROC AUC')\n",
    "print('StructureBoost: roc auc = {} (at max_depth 8)'.format(np.round(stb_auc_score_8, decimals=5)))\n",
    "print('CatBoost:   max roc auc = {} at max_depth {}'.format(np.round(np.max(auc_vec_cb), decimals=5), cb_max_auc_md))\n",
    "print('XGBoost:    max roc auc = {} at max_depth {}'.format(np.round(np.max(auc_vec_xgb), decimals=5), xgb_max_auc_md))\n"
   ]
  },
  {
   "cell_type": "code",
   "execution_count": null,
   "metadata": {},
   "outputs": [],
   "source": []
  },
  {
   "cell_type": "code",
   "execution_count": null,
   "metadata": {},
   "outputs": [],
   "source": []
  },
  {
   "cell_type": "code",
   "execution_count": null,
   "metadata": {},
   "outputs": [],
   "source": []
  },
  {
   "cell_type": "code",
   "execution_count": null,
   "metadata": {},
   "outputs": [],
   "source": []
  }
 ],
 "metadata": {
  "kernelspec": {
   "display_name": "Python 3",
   "language": "python",
   "name": "python3"
  },
  "language_info": {
   "codemirror_mode": {
    "name": "ipython",
    "version": 3
   },
   "file_extension": ".py",
   "mimetype": "text/x-python",
   "name": "python",
   "nbconvert_exporter": "python",
   "pygments_lexer": "ipython3",
   "version": "3.7.3"
  }
 },
 "nbformat": 4,
 "nbformat_minor": 4
}
